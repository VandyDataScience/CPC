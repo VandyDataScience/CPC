{
 "cells": [
  {
   "cell_type": "code",
   "execution_count": 47,
   "metadata": {},
   "outputs": [],
   "source": [
    "import plotly.express as px\n",
    "import pandas as pd\n",
    "import dash\n",
    "import dash as html\n",
    "import dash as dcc\n",
    "import plotly.graph_objects as go\n",
    "from sklearn import preprocessing, svm\n",
    "from sklearn.model_selection import train_test_split\n",
    "from sklearn.linear_model import LinearRegression\n",
    "import numpy as np\n",
    "from sklearn.svm import SVC\n",
    "from sklearn import metrics"
   ]
  },
  {
   "cell_type": "code",
   "execution_count": 48,
   "metadata": {
    "scrolled": true
   },
   "outputs": [
    {
     "data": {
      "text/html": [
       "<div>\n",
       "<style scoped>\n",
       "    .dataframe tbody tr th:only-of-type {\n",
       "        vertical-align: middle;\n",
       "    }\n",
       "\n",
       "    .dataframe tbody tr th {\n",
       "        vertical-align: top;\n",
       "    }\n",
       "\n",
       "    .dataframe thead th {\n",
       "        text-align: right;\n",
       "    }\n",
       "</style>\n",
       "<table border=\"1\" class=\"dataframe\">\n",
       "  <thead>\n",
       "    <tr style=\"text-align: right;\">\n",
       "      <th></th>\n",
       "      <th>Timestamp</th>\n",
       "      <th>How often do you visit Centennial Park?</th>\n",
       "      <th>How far do you travel to get to the Park?</th>\n",
       "      <th>Why do you visit the Park? (check all that apply)</th>\n",
       "      <th>On a scale of 1 to 10, with 1 being \"Very poorly\" and 10 being \"Very well\", how do you feel that the Park is maintained?</th>\n",
       "      <th>Did you notice any issues in the Park today? (check all that apply)</th>\n",
       "      <th>Do you believe the Park could benefit from more ongoing activities or services?</th>\n",
       "      <th>If yes, which activities or services would you most like to see? (select all that apply)</th>\n",
       "      <th>On a scale of 1-10, with 1 being \"Not safe at all\" and 10 being \"Very safe\", how safe do you feel in the Park?</th>\n",
       "      <th>Were you aware that there is a nonprofit support group, Centennial Park Conservancy, that helps to underwrite Park improvements and arts &amp; educational programs in the Parthenon and Park through donations and memberships?</th>\n",
       "      <th>Are you a member of Centennial Park Conservancy?</th>\n",
       "      <th>Is there anything else you would like to share with us today?</th>\n",
       "      <th>What is your age?</th>\n",
       "      <th>What is your race / ethnicity?</th>\n",
       "      <th>What is your ethnicity?</th>\n",
       "      <th>What is your gender?</th>\n",
       "      <th>Would you like to receive monthly updates about events and programs in Centennial Park?</th>\n",
       "      <th>Would you like to learn more about becoming a member of Centennial Park Conservancy?</th>\n",
       "    </tr>\n",
       "  </thead>\n",
       "  <tbody>\n",
       "    <tr>\n",
       "      <th>0</th>\n",
       "      <td>4/15/2022 12:54:14</td>\n",
       "      <td>Occasionally</td>\n",
       "      <td>10+ miles away, but no more than 50 miles</td>\n",
       "      <td>Spend time in an outdoor green space, Exercise...</td>\n",
       "      <td>8</td>\n",
       "      <td>Trash or litter, Landscaping issues</td>\n",
       "      <td>Yes</td>\n",
       "      <td>Events, More food and beverage options, Walkin...</td>\n",
       "      <td>9</td>\n",
       "      <td>No</td>\n",
       "      <td>No</td>\n",
       "      <td>NaN</td>\n",
       "      <td>16-25</td>\n",
       "      <td>Hispanic or Latinx</td>\n",
       "      <td>NaN</td>\n",
       "      <td>Woman</td>\n",
       "      <td>Yes</td>\n",
       "      <td>Yes</td>\n",
       "    </tr>\n",
       "    <tr>\n",
       "      <th>1</th>\n",
       "      <td>4/16/2022 11:20:37</td>\n",
       "      <td>Occasionally</td>\n",
       "      <td>10+ miles away, but no more than 50 miles</td>\n",
       "      <td>Spend time in an outdoor green space, Visit th...</td>\n",
       "      <td>8</td>\n",
       "      <td>Trash or litter</td>\n",
       "      <td>Yes</td>\n",
       "      <td>Events, More food and beverage options, Carous...</td>\n",
       "      <td>10</td>\n",
       "      <td>Yes</td>\n",
       "      <td>No</td>\n",
       "      <td>It’s very beautiful and love seeing everyone o...</td>\n",
       "      <td>36-45</td>\n",
       "      <td>White</td>\n",
       "      <td>NaN</td>\n",
       "      <td>Woman</td>\n",
       "      <td>Yes</td>\n",
       "      <td>Yes</td>\n",
       "    </tr>\n",
       "    <tr>\n",
       "      <th>2</th>\n",
       "      <td>4/16/2022 13:57:18</td>\n",
       "      <td>Weekly</td>\n",
       "      <td>6 - 9 miles away</td>\n",
       "      <td>Spend time in an outdoor green space, Exercise...</td>\n",
       "      <td>7</td>\n",
       "      <td>Trash or litter</td>\n",
       "      <td>Yes</td>\n",
       "      <td>Events, More food and beverage options, Walkin...</td>\n",
       "      <td>8</td>\n",
       "      <td>Yes</td>\n",
       "      <td>No</td>\n",
       "      <td>Better lights for when sun sets</td>\n",
       "      <td>26-35</td>\n",
       "      <td>Asian</td>\n",
       "      <td>NaN</td>\n",
       "      <td>Woman</td>\n",
       "      <td>Yes</td>\n",
       "      <td>Yes</td>\n",
       "    </tr>\n",
       "    <tr>\n",
       "      <th>3</th>\n",
       "      <td>4/16/2022 14:41:01</td>\n",
       "      <td>Monthly</td>\n",
       "      <td>Less than a mile away</td>\n",
       "      <td>Spend time in an outdoor green space, Exercise...</td>\n",
       "      <td>8</td>\n",
       "      <td>No restrooms. Amphitheater area looks sad.</td>\n",
       "      <td>Yes</td>\n",
       "      <td>Events, Public restrooms</td>\n",
       "      <td>10</td>\n",
       "      <td>No</td>\n",
       "      <td>No</td>\n",
       "      <td>Priority: amphitheater repair. I’m miss Shakes...</td>\n",
       "      <td>56-65</td>\n",
       "      <td>White</td>\n",
       "      <td>NaN</td>\n",
       "      <td>Woman</td>\n",
       "      <td>Yes</td>\n",
       "      <td>Yes</td>\n",
       "    </tr>\n",
       "    <tr>\n",
       "      <th>4</th>\n",
       "      <td>4/17/2022 17:04:15</td>\n",
       "      <td>Daily</td>\n",
       "      <td>1 - 5 miles away</td>\n",
       "      <td>Spend time in an outdoor green space, Visit th...</td>\n",
       "      <td>6</td>\n",
       "      <td>Damage or deterioration</td>\n",
       "      <td>Yes</td>\n",
       "      <td>Events, More food and beverage options, Carousel</td>\n",
       "      <td>9</td>\n",
       "      <td>No</td>\n",
       "      <td>No</td>\n",
       "      <td>NaN</td>\n",
       "      <td>26-35</td>\n",
       "      <td>White</td>\n",
       "      <td>NaN</td>\n",
       "      <td>Woman</td>\n",
       "      <td>Yes</td>\n",
       "      <td>Yes</td>\n",
       "    </tr>\n",
       "    <tr>\n",
       "      <th>...</th>\n",
       "      <td>...</td>\n",
       "      <td>...</td>\n",
       "      <td>...</td>\n",
       "      <td>...</td>\n",
       "      <td>...</td>\n",
       "      <td>...</td>\n",
       "      <td>...</td>\n",
       "      <td>...</td>\n",
       "      <td>...</td>\n",
       "      <td>...</td>\n",
       "      <td>...</td>\n",
       "      <td>...</td>\n",
       "      <td>...</td>\n",
       "      <td>...</td>\n",
       "      <td>...</td>\n",
       "      <td>...</td>\n",
       "      <td>...</td>\n",
       "      <td>...</td>\n",
       "    </tr>\n",
       "    <tr>\n",
       "      <th>282</th>\n",
       "      <td>11/24/2022 9:59:44</td>\n",
       "      <td>Rarely</td>\n",
       "      <td>From out of State, but in the U.S.</td>\n",
       "      <td>Spend time in an outdoor green space, Exercise...</td>\n",
       "      <td>9</td>\n",
       "      <td>No issues</td>\n",
       "      <td>No</td>\n",
       "      <td>NaN</td>\n",
       "      <td>9</td>\n",
       "      <td>No</td>\n",
       "      <td>No</td>\n",
       "      <td>NaN</td>\n",
       "      <td>56-65</td>\n",
       "      <td>White</td>\n",
       "      <td>NaN</td>\n",
       "      <td>Man</td>\n",
       "      <td>No</td>\n",
       "      <td>No</td>\n",
       "    </tr>\n",
       "    <tr>\n",
       "      <th>283</th>\n",
       "      <td>11/24/2022 21:25:40</td>\n",
       "      <td>Occasionally</td>\n",
       "      <td>Greater than 50 miles</td>\n",
       "      <td>Spend time in an outdoor green space, Exercise...</td>\n",
       "      <td>9</td>\n",
       "      <td>Trash or litter</td>\n",
       "      <td>Yes</td>\n",
       "      <td>More food and beverage options, Public restrooms</td>\n",
       "      <td>9</td>\n",
       "      <td>No</td>\n",
       "      <td>No</td>\n",
       "      <td>NaN</td>\n",
       "      <td>26-35</td>\n",
       "      <td>White</td>\n",
       "      <td>NaN</td>\n",
       "      <td>Man</td>\n",
       "      <td>No</td>\n",
       "      <td>No</td>\n",
       "    </tr>\n",
       "    <tr>\n",
       "      <th>284</th>\n",
       "      <td>11/27/2022 11:08:44</td>\n",
       "      <td>Occasionally</td>\n",
       "      <td>10+ miles away, but no more than 50 miles</td>\n",
       "      <td>Spend time in an outdoor green space, Exercise...</td>\n",
       "      <td>9</td>\n",
       "      <td>Museum closed :(</td>\n",
       "      <td>Yes</td>\n",
       "      <td>Events, Public restrooms, Coffee</td>\n",
       "      <td>9</td>\n",
       "      <td>No</td>\n",
       "      <td>No</td>\n",
       "      <td>Thanks for this place</td>\n",
       "      <td>36-45</td>\n",
       "      <td>Hispanic or Latinx</td>\n",
       "      <td>NaN</td>\n",
       "      <td>Man</td>\n",
       "      <td>Yes</td>\n",
       "      <td>Yes</td>\n",
       "    </tr>\n",
       "    <tr>\n",
       "      <th>285</th>\n",
       "      <td>11/27/2022 22:11:15</td>\n",
       "      <td>Occasionally</td>\n",
       "      <td>Greater than 50 miles</td>\n",
       "      <td>Exercise (walk, bike, run), Visit the Partheno...</td>\n",
       "      <td>1</td>\n",
       "      <td>Damage or deterioration, Signage unclear, Land...</td>\n",
       "      <td>Yes</td>\n",
       "      <td>Events, More food and beverage options, Public...</td>\n",
       "      <td>6</td>\n",
       "      <td>No</td>\n",
       "      <td>No</td>\n",
       "      <td>NaN</td>\n",
       "      <td>46-55</td>\n",
       "      <td>White</td>\n",
       "      <td>NaN</td>\n",
       "      <td>Man</td>\n",
       "      <td>Yes</td>\n",
       "      <td>Yes</td>\n",
       "    </tr>\n",
       "    <tr>\n",
       "      <th>286</th>\n",
       "      <td>12/5/2022 9:14:38</td>\n",
       "      <td>Rarely</td>\n",
       "      <td>From out of State, but in the U.S.</td>\n",
       "      <td>Spend time in an outdoor green space, Visit th...</td>\n",
       "      <td>8</td>\n",
       "      <td>Trash or litter</td>\n",
       "      <td>Yes</td>\n",
       "      <td>Events, Carousel, Public restrooms</td>\n",
       "      <td>9</td>\n",
       "      <td>Yes</td>\n",
       "      <td>No</td>\n",
       "      <td>NaN</td>\n",
       "      <td>16-25</td>\n",
       "      <td>White</td>\n",
       "      <td>NaN</td>\n",
       "      <td>Woman</td>\n",
       "      <td>No</td>\n",
       "      <td>No</td>\n",
       "    </tr>\n",
       "  </tbody>\n",
       "</table>\n",
       "<p>287 rows × 18 columns</p>\n",
       "</div>"
      ],
      "text/plain": [
       "               Timestamp How often do you visit Centennial Park?  \\\n",
       "0     4/15/2022 12:54:14                            Occasionally   \n",
       "1     4/16/2022 11:20:37                            Occasionally   \n",
       "2     4/16/2022 13:57:18                                  Weekly   \n",
       "3     4/16/2022 14:41:01                                 Monthly   \n",
       "4     4/17/2022 17:04:15                                   Daily   \n",
       "..                   ...                                     ...   \n",
       "282   11/24/2022 9:59:44                                  Rarely   \n",
       "283  11/24/2022 21:25:40                            Occasionally   \n",
       "284  11/27/2022 11:08:44                            Occasionally   \n",
       "285  11/27/2022 22:11:15                            Occasionally   \n",
       "286    12/5/2022 9:14:38                                  Rarely   \n",
       "\n",
       "     How far do you travel to get to the Park?  \\\n",
       "0    10+ miles away, but no more than 50 miles   \n",
       "1    10+ miles away, but no more than 50 miles   \n",
       "2                             6 - 9 miles away   \n",
       "3                        Less than a mile away   \n",
       "4                             1 - 5 miles away   \n",
       "..                                         ...   \n",
       "282         From out of State, but in the U.S.   \n",
       "283                      Greater than 50 miles   \n",
       "284  10+ miles away, but no more than 50 miles   \n",
       "285                      Greater than 50 miles   \n",
       "286         From out of State, but in the U.S.   \n",
       "\n",
       "     Why do you visit the Park? (check all that apply)  \\\n",
       "0    Spend time in an outdoor green space, Exercise...   \n",
       "1    Spend time in an outdoor green space, Visit th...   \n",
       "2    Spend time in an outdoor green space, Exercise...   \n",
       "3    Spend time in an outdoor green space, Exercise...   \n",
       "4    Spend time in an outdoor green space, Visit th...   \n",
       "..                                                 ...   \n",
       "282  Spend time in an outdoor green space, Exercise...   \n",
       "283  Spend time in an outdoor green space, Exercise...   \n",
       "284  Spend time in an outdoor green space, Exercise...   \n",
       "285  Exercise (walk, bike, run), Visit the Partheno...   \n",
       "286  Spend time in an outdoor green space, Visit th...   \n",
       "\n",
       "     On a scale of 1 to 10, with 1 being \"Very poorly\" and 10 being \"Very well\", how do you feel that the Park is maintained?  \\\n",
       "0                                                    8                                                                          \n",
       "1                                                    8                                                                          \n",
       "2                                                    7                                                                          \n",
       "3                                                    8                                                                          \n",
       "4                                                    6                                                                          \n",
       "..                                                 ...                                                                          \n",
       "282                                                  9                                                                          \n",
       "283                                                  9                                                                          \n",
       "284                                                  9                                                                          \n",
       "285                                                  1                                                                          \n",
       "286                                                  8                                                                          \n",
       "\n",
       "    Did you notice any issues in the Park today? (check all that apply)  \\\n",
       "0                  Trash or litter, Landscaping issues                    \n",
       "1                                      Trash or litter                    \n",
       "2                                      Trash or litter                    \n",
       "3           No restrooms. Amphitheater area looks sad.                    \n",
       "4                              Damage or deterioration                    \n",
       "..                                                 ...                    \n",
       "282                                         No issues                     \n",
       "283                                    Trash or litter                    \n",
       "284                                   Museum closed :(                    \n",
       "285  Damage or deterioration, Signage unclear, Land...                    \n",
       "286                                    Trash or litter                    \n",
       "\n",
       "    Do you believe the Park could benefit from more ongoing activities or services?  \\\n",
       "0                                                  Yes                                \n",
       "1                                                  Yes                                \n",
       "2                                                  Yes                                \n",
       "3                                                  Yes                                \n",
       "4                                                  Yes                                \n",
       "..                                                 ...                                \n",
       "282                                                 No                                \n",
       "283                                                Yes                                \n",
       "284                                                Yes                                \n",
       "285                                                Yes                                \n",
       "286                                                Yes                                \n",
       "\n",
       "    If yes, which activities or services would you most like to see? (select all that apply)  \\\n",
       "0    Events, More food and beverage options, Walkin...                                         \n",
       "1    Events, More food and beverage options, Carous...                                         \n",
       "2    Events, More food and beverage options, Walkin...                                         \n",
       "3                             Events, Public restrooms                                         \n",
       "4     Events, More food and beverage options, Carousel                                         \n",
       "..                                                 ...                                         \n",
       "282                                                NaN                                         \n",
       "283   More food and beverage options, Public restrooms                                         \n",
       "284                  Events, Public restrooms, Coffee                                          \n",
       "285  Events, More food and beverage options, Public...                                         \n",
       "286                 Events, Carousel, Public restrooms                                         \n",
       "\n",
       "     On a scale of 1-10, with 1 being \"Not safe at all\" and 10 being \"Very safe\", how safe do you feel in the Park?  \\\n",
       "0                                                    9                                                                \n",
       "1                                                   10                                                                \n",
       "2                                                    8                                                                \n",
       "3                                                   10                                                                \n",
       "4                                                    9                                                                \n",
       "..                                                 ...                                                                \n",
       "282                                                  9                                                                \n",
       "283                                                  9                                                                \n",
       "284                                                  9                                                                \n",
       "285                                                  6                                                                \n",
       "286                                                  9                                                                \n",
       "\n",
       "    Were you aware that there is a nonprofit support group, Centennial Park Conservancy, that helps to underwrite Park improvements and arts & educational programs in the Parthenon and Park through donations and memberships?  \\\n",
       "0                                                   No                                                                                                                                                                             \n",
       "1                                                  Yes                                                                                                                                                                             \n",
       "2                                                  Yes                                                                                                                                                                             \n",
       "3                                                   No                                                                                                                                                                             \n",
       "4                                                   No                                                                                                                                                                             \n",
       "..                                                 ...                                                                                                                                                                             \n",
       "282                                                 No                                                                                                                                                                             \n",
       "283                                                 No                                                                                                                                                                             \n",
       "284                                                 No                                                                                                                                                                             \n",
       "285                                                 No                                                                                                                                                                             \n",
       "286                                                Yes                                                                                                                                                                             \n",
       "\n",
       "    Are you a member of Centennial Park Conservancy?  \\\n",
       "0                                                 No   \n",
       "1                                                 No   \n",
       "2                                                 No   \n",
       "3                                                 No   \n",
       "4                                                 No   \n",
       "..                                               ...   \n",
       "282                                               No   \n",
       "283                                               No   \n",
       "284                                               No   \n",
       "285                                               No   \n",
       "286                                               No   \n",
       "\n",
       "    Is there anything else you would like to share with us today?  \\\n",
       "0                                                  NaN              \n",
       "1    It’s very beautiful and love seeing everyone o...              \n",
       "2                      Better lights for when sun sets              \n",
       "3    Priority: amphitheater repair. I’m miss Shakes...              \n",
       "4                                                  NaN              \n",
       "..                                                 ...              \n",
       "282                                                NaN              \n",
       "283                                                NaN              \n",
       "284                             Thanks for this place               \n",
       "285                                                NaN              \n",
       "286                                                NaN              \n",
       "\n",
       "    What is your age? What is your race / ethnicity?  What is your ethnicity?  \\\n",
       "0               16-25             Hispanic or Latinx                      NaN   \n",
       "1               36-45                          White                      NaN   \n",
       "2               26-35                          Asian                      NaN   \n",
       "3               56-65                          White                      NaN   \n",
       "4               26-35                          White                      NaN   \n",
       "..                ...                            ...                      ...   \n",
       "282             56-65                          White                      NaN   \n",
       "283             26-35                          White                      NaN   \n",
       "284             36-45             Hispanic or Latinx                      NaN   \n",
       "285             46-55                          White                      NaN   \n",
       "286             16-25                          White                      NaN   \n",
       "\n",
       "    What is your gender?  \\\n",
       "0                  Woman   \n",
       "1                  Woman   \n",
       "2                  Woman   \n",
       "3                  Woman   \n",
       "4                  Woman   \n",
       "..                   ...   \n",
       "282                  Man   \n",
       "283                  Man   \n",
       "284                  Man   \n",
       "285                  Man   \n",
       "286                Woman   \n",
       "\n",
       "    Would you like to receive monthly updates about events and programs in Centennial Park?  \\\n",
       "0                                                  Yes                                        \n",
       "1                                                  Yes                                        \n",
       "2                                                  Yes                                        \n",
       "3                                                  Yes                                        \n",
       "4                                                  Yes                                        \n",
       "..                                                 ...                                        \n",
       "282                                                 No                                        \n",
       "283                                                 No                                        \n",
       "284                                                Yes                                        \n",
       "285                                                Yes                                        \n",
       "286                                                 No                                        \n",
       "\n",
       "    Would you like to learn more about becoming a member of Centennial Park Conservancy?  \n",
       "0                                                  Yes                                    \n",
       "1                                                  Yes                                    \n",
       "2                                                  Yes                                    \n",
       "3                                                  Yes                                    \n",
       "4                                                  Yes                                    \n",
       "..                                                 ...                                    \n",
       "282                                                 No                                    \n",
       "283                                                 No                                    \n",
       "284                                                Yes                                    \n",
       "285                                                Yes                                    \n",
       "286                                                 No                                    \n",
       "\n",
       "[287 rows x 18 columns]"
      ]
     },
     "execution_count": 48,
     "metadata": {},
     "output_type": "execute_result"
    }
   ],
   "source": [
    "df = pd.read_csv('2022 Centennial Park User Survey (Responses)-2.xlsx - Form Responses 1.csv')\n",
    "df"
   ]
  },
  {
   "cell_type": "code",
   "execution_count": 49,
   "metadata": {},
   "outputs": [
    {
     "data": {
      "application/vnd.plotly.v1+json": {
       "config": {
        "plotlyServerURL": "https://plot.ly"
       },
       "data": [
        {
         "alignmentgroup": "True",
         "hovertemplate": "x=%{x}<br>count=%{y}<extra></extra>",
         "legendgroup": "",
         "marker": {
          "color": "#636efa",
          "pattern": {
           "shape": ""
          }
         },
         "name": "",
         "offsetgroup": "",
         "orientation": "v",
         "showlegend": false,
         "textposition": "auto",
         "type": "bar",
         "x": [
          "16-25",
          "36-45",
          "26-35",
          "56-65",
          "26-35",
          "36-45",
          "26-35",
          "16-25",
          "26-35",
          "56-65",
          "16-25",
          "36-45",
          "26-35",
          "16-25",
          "16-25",
          "26-35",
          "46-55",
          "16-25",
          "36-45",
          "16-25",
          "36-45",
          "26-35",
          "16-25",
          "46-55",
          "26-35",
          "26-35",
          "16-25",
          "16-25",
          "16-25",
          "26-35",
          "26-35",
          "16-25",
          "46-55",
          "16-25",
          "16-25",
          "16-25",
          "36-45",
          "16-25",
          "16-25",
          "Prefer not to say",
          "Prefer not to say",
          "26-35",
          "56-65",
          "16-25",
          "16-25",
          "66+",
          "26-35",
          "26-35",
          "26-35",
          "26-35",
          "26-35",
          "56-65",
          "16-25",
          "26-35",
          "16-25",
          "36-45",
          "26-35",
          "36-45",
          "46-55",
          "26-35",
          "16-25",
          "46-55",
          "16-25",
          "16-25",
          "16-25",
          "26-35",
          "26-35",
          "16-25",
          "46-55",
          "16-25",
          "36-45",
          "26-35",
          "16-25",
          "16-25",
          "56-65",
          "16-25",
          "26-35",
          "16-25",
          "26-35",
          "16-25",
          "16-25",
          "26-35",
          "26-35",
          "26-35",
          "16-25",
          "16-25",
          "26-35",
          "26-35",
          "26-35",
          "16-25",
          "16-25",
          "46-55",
          "Prefer not to say",
          "46-55",
          "16-25",
          "16-25",
          "56-65",
          "26-35",
          "56-65",
          "16-25",
          "16-25",
          "46-55",
          "46-55",
          "46-55",
          "66+",
          "16-25",
          "16-25",
          "16-25",
          "16-25",
          "66+",
          "26-35",
          "16-25",
          "46-55",
          "16-25",
          "16-25",
          "16-25",
          "46-55",
          "46-55",
          "16-25",
          "16-25",
          "26-35",
          "26-35",
          "46-55",
          "16-25",
          "16-25",
          "26-35",
          "26-35",
          "16-25",
          "56-65",
          "16-25",
          "56-65",
          "46-55",
          "16-25",
          "16-25",
          "16-25",
          "36-45",
          "16-25",
          "26-35",
          "16-25",
          "26-35",
          "36-45",
          "36-45",
          "26-35",
          "16-25",
          "36-45",
          "16-25",
          "26-35",
          "26-35",
          "56-65",
          "66+",
          "16-25",
          "16-25",
          "36-45",
          "26-35",
          "16-25",
          "16-25",
          "Prefer not to say",
          "56-65",
          "16-25",
          "26-35",
          "36-45",
          "36-45",
          "26-35",
          "16-25",
          "16-25",
          "16-25",
          "26-35",
          "26-35",
          "26-35",
          "26-35",
          "Prefer not to say",
          "56-65",
          "26-35",
          "46-55",
          "16-25",
          "66+",
          "16-25",
          "56-65",
          "36-45",
          "26-35",
          "26-35",
          "16-25",
          "26-35",
          "46-55",
          "36-45",
          "26-35",
          "16-25",
          "46-55",
          "46-55",
          "36-45",
          "26-35",
          "36-45",
          "56-65",
          "16-25",
          "16-25",
          "56-65",
          "66+",
          "16-25",
          "36-45",
          "36-45",
          "26-35",
          "26-35",
          "56-65",
          "46-55",
          "26-35",
          "26-35",
          "56-65",
          "46-55",
          "36-45",
          "46-55",
          "16-25",
          "26-35",
          "Prefer not to say",
          "16-25",
          "26-35",
          "26-35",
          "16-25",
          "26-35",
          "26-35",
          "26-35",
          "Prefer not to say",
          "36-45",
          "Prefer not to say",
          "26-35",
          "36-45",
          "16-25",
          "26-35",
          "56-65",
          "56-65",
          "26-35",
          "16-25",
          "36-45",
          "16-25",
          "26-35",
          "16-25",
          "56-65",
          "26-35",
          "36-45",
          "16-25",
          "26-35",
          "26-35",
          "26-35",
          "26-35",
          "26-35",
          "16-25",
          "16-25",
          "16-25",
          "36-45",
          "46-55",
          "26-35",
          "26-35",
          "26-35",
          "26-35",
          "26-35",
          "66+",
          "16-25",
          "46-55",
          "46-55",
          "16-25",
          "16-25",
          "56-65",
          "16-25",
          "16-25",
          "16-25",
          "36-45",
          "16-25",
          "16-25",
          "26-35",
          "36-45",
          "26-35",
          "36-45",
          "36-45",
          "36-45",
          "56-65",
          "66+",
          "16-25",
          "26-35",
          "36-45",
          "36-45",
          "36-45",
          "46-55",
          "26-35",
          "56-65",
          "26-35",
          "36-45",
          "46-55",
          "16-25"
         ],
         "xaxis": "x",
         "y": [
          1,
          1,
          1,
          1,
          1,
          1,
          1,
          1,
          1,
          1,
          1,
          1,
          1,
          1,
          1,
          1,
          1,
          1,
          1,
          1,
          1,
          1,
          1,
          1,
          1,
          1,
          1,
          1,
          1,
          1,
          1,
          1,
          1,
          1,
          1,
          1,
          1,
          1,
          1,
          1,
          1,
          1,
          1,
          1,
          1,
          1,
          1,
          1,
          1,
          1,
          1,
          1,
          1,
          1,
          1,
          1,
          1,
          1,
          1,
          1,
          1,
          1,
          1,
          1,
          1,
          1,
          1,
          1,
          1,
          1,
          1,
          1,
          1,
          1,
          1,
          1,
          1,
          1,
          1,
          1,
          1,
          1,
          1,
          1,
          1,
          1,
          1,
          1,
          1,
          1,
          1,
          1,
          1,
          1,
          1,
          1,
          1,
          1,
          1,
          1,
          1,
          1,
          1,
          1,
          1,
          1,
          1,
          1,
          1,
          1,
          1,
          1,
          1,
          1,
          1,
          1,
          1,
          1,
          1,
          1,
          1,
          1,
          1,
          1,
          1,
          1,
          1,
          1,
          1,
          1,
          1,
          1,
          1,
          1,
          1,
          1,
          1,
          1,
          1,
          1,
          1,
          1,
          1,
          1,
          1,
          1,
          1,
          1,
          1,
          1,
          1,
          1,
          1,
          1,
          1,
          1,
          1,
          1,
          1,
          1,
          1,
          1,
          1,
          1,
          1,
          1,
          1,
          1,
          1,
          1,
          1,
          1,
          1,
          1,
          1,
          1,
          1,
          1,
          1,
          1,
          1,
          1,
          1,
          1,
          1,
          1,
          1,
          1,
          1,
          1,
          1,
          1,
          1,
          1,
          1,
          1,
          1,
          1,
          1,
          1,
          1,
          1,
          1,
          1,
          1,
          1,
          1,
          1,
          1,
          1,
          1,
          1,
          1,
          1,
          1,
          1,
          1,
          1,
          1,
          1,
          1,
          1,
          1,
          1,
          1,
          1,
          1,
          1,
          1,
          1,
          1,
          1,
          1,
          1,
          1,
          1,
          1,
          1,
          1,
          1,
          1,
          1,
          1,
          1,
          1,
          1,
          1,
          1,
          1,
          1,
          1,
          1,
          1,
          1,
          1,
          1,
          1,
          1,
          1,
          1,
          1,
          1,
          1,
          1,
          1,
          1,
          1,
          1,
          1,
          1,
          1,
          1,
          1,
          1,
          1,
          1,
          1,
          1,
          1,
          1,
          1,
          1,
          1,
          1,
          1,
          1,
          1
         ],
         "yaxis": "y"
        }
       ],
       "layout": {
        "barmode": "relative",
        "legend": {
         "tracegroupgap": 0
        },
        "template": {
         "data": {
          "bar": [
           {
            "error_x": {
             "color": "#2a3f5f"
            },
            "error_y": {
             "color": "#2a3f5f"
            },
            "marker": {
             "line": {
              "color": "#E5ECF6",
              "width": 0.5
             },
             "pattern": {
              "fillmode": "overlay",
              "size": 10,
              "solidity": 0.2
             }
            },
            "type": "bar"
           }
          ],
          "barpolar": [
           {
            "marker": {
             "line": {
              "color": "#E5ECF6",
              "width": 0.5
             },
             "pattern": {
              "fillmode": "overlay",
              "size": 10,
              "solidity": 0.2
             }
            },
            "type": "barpolar"
           }
          ],
          "carpet": [
           {
            "aaxis": {
             "endlinecolor": "#2a3f5f",
             "gridcolor": "white",
             "linecolor": "white",
             "minorgridcolor": "white",
             "startlinecolor": "#2a3f5f"
            },
            "baxis": {
             "endlinecolor": "#2a3f5f",
             "gridcolor": "white",
             "linecolor": "white",
             "minorgridcolor": "white",
             "startlinecolor": "#2a3f5f"
            },
            "type": "carpet"
           }
          ],
          "choropleth": [
           {
            "colorbar": {
             "outlinewidth": 0,
             "ticks": ""
            },
            "type": "choropleth"
           }
          ],
          "contour": [
           {
            "colorbar": {
             "outlinewidth": 0,
             "ticks": ""
            },
            "colorscale": [
             [
              0,
              "#0d0887"
             ],
             [
              0.1111111111111111,
              "#46039f"
             ],
             [
              0.2222222222222222,
              "#7201a8"
             ],
             [
              0.3333333333333333,
              "#9c179e"
             ],
             [
              0.4444444444444444,
              "#bd3786"
             ],
             [
              0.5555555555555556,
              "#d8576b"
             ],
             [
              0.6666666666666666,
              "#ed7953"
             ],
             [
              0.7777777777777778,
              "#fb9f3a"
             ],
             [
              0.8888888888888888,
              "#fdca26"
             ],
             [
              1,
              "#f0f921"
             ]
            ],
            "type": "contour"
           }
          ],
          "contourcarpet": [
           {
            "colorbar": {
             "outlinewidth": 0,
             "ticks": ""
            },
            "type": "contourcarpet"
           }
          ],
          "heatmap": [
           {
            "colorbar": {
             "outlinewidth": 0,
             "ticks": ""
            },
            "colorscale": [
             [
              0,
              "#0d0887"
             ],
             [
              0.1111111111111111,
              "#46039f"
             ],
             [
              0.2222222222222222,
              "#7201a8"
             ],
             [
              0.3333333333333333,
              "#9c179e"
             ],
             [
              0.4444444444444444,
              "#bd3786"
             ],
             [
              0.5555555555555556,
              "#d8576b"
             ],
             [
              0.6666666666666666,
              "#ed7953"
             ],
             [
              0.7777777777777778,
              "#fb9f3a"
             ],
             [
              0.8888888888888888,
              "#fdca26"
             ],
             [
              1,
              "#f0f921"
             ]
            ],
            "type": "heatmap"
           }
          ],
          "heatmapgl": [
           {
            "colorbar": {
             "outlinewidth": 0,
             "ticks": ""
            },
            "colorscale": [
             [
              0,
              "#0d0887"
             ],
             [
              0.1111111111111111,
              "#46039f"
             ],
             [
              0.2222222222222222,
              "#7201a8"
             ],
             [
              0.3333333333333333,
              "#9c179e"
             ],
             [
              0.4444444444444444,
              "#bd3786"
             ],
             [
              0.5555555555555556,
              "#d8576b"
             ],
             [
              0.6666666666666666,
              "#ed7953"
             ],
             [
              0.7777777777777778,
              "#fb9f3a"
             ],
             [
              0.8888888888888888,
              "#fdca26"
             ],
             [
              1,
              "#f0f921"
             ]
            ],
            "type": "heatmapgl"
           }
          ],
          "histogram": [
           {
            "marker": {
             "pattern": {
              "fillmode": "overlay",
              "size": 10,
              "solidity": 0.2
             }
            },
            "type": "histogram"
           }
          ],
          "histogram2d": [
           {
            "colorbar": {
             "outlinewidth": 0,
             "ticks": ""
            },
            "colorscale": [
             [
              0,
              "#0d0887"
             ],
             [
              0.1111111111111111,
              "#46039f"
             ],
             [
              0.2222222222222222,
              "#7201a8"
             ],
             [
              0.3333333333333333,
              "#9c179e"
             ],
             [
              0.4444444444444444,
              "#bd3786"
             ],
             [
              0.5555555555555556,
              "#d8576b"
             ],
             [
              0.6666666666666666,
              "#ed7953"
             ],
             [
              0.7777777777777778,
              "#fb9f3a"
             ],
             [
              0.8888888888888888,
              "#fdca26"
             ],
             [
              1,
              "#f0f921"
             ]
            ],
            "type": "histogram2d"
           }
          ],
          "histogram2dcontour": [
           {
            "colorbar": {
             "outlinewidth": 0,
             "ticks": ""
            },
            "colorscale": [
             [
              0,
              "#0d0887"
             ],
             [
              0.1111111111111111,
              "#46039f"
             ],
             [
              0.2222222222222222,
              "#7201a8"
             ],
             [
              0.3333333333333333,
              "#9c179e"
             ],
             [
              0.4444444444444444,
              "#bd3786"
             ],
             [
              0.5555555555555556,
              "#d8576b"
             ],
             [
              0.6666666666666666,
              "#ed7953"
             ],
             [
              0.7777777777777778,
              "#fb9f3a"
             ],
             [
              0.8888888888888888,
              "#fdca26"
             ],
             [
              1,
              "#f0f921"
             ]
            ],
            "type": "histogram2dcontour"
           }
          ],
          "mesh3d": [
           {
            "colorbar": {
             "outlinewidth": 0,
             "ticks": ""
            },
            "type": "mesh3d"
           }
          ],
          "parcoords": [
           {
            "line": {
             "colorbar": {
              "outlinewidth": 0,
              "ticks": ""
             }
            },
            "type": "parcoords"
           }
          ],
          "pie": [
           {
            "automargin": true,
            "type": "pie"
           }
          ],
          "scatter": [
           {
            "fillpattern": {
             "fillmode": "overlay",
             "size": 10,
             "solidity": 0.2
            },
            "type": "scatter"
           }
          ],
          "scatter3d": [
           {
            "line": {
             "colorbar": {
              "outlinewidth": 0,
              "ticks": ""
             }
            },
            "marker": {
             "colorbar": {
              "outlinewidth": 0,
              "ticks": ""
             }
            },
            "type": "scatter3d"
           }
          ],
          "scattercarpet": [
           {
            "marker": {
             "colorbar": {
              "outlinewidth": 0,
              "ticks": ""
             }
            },
            "type": "scattercarpet"
           }
          ],
          "scattergeo": [
           {
            "marker": {
             "colorbar": {
              "outlinewidth": 0,
              "ticks": ""
             }
            },
            "type": "scattergeo"
           }
          ],
          "scattergl": [
           {
            "marker": {
             "colorbar": {
              "outlinewidth": 0,
              "ticks": ""
             }
            },
            "type": "scattergl"
           }
          ],
          "scattermapbox": [
           {
            "marker": {
             "colorbar": {
              "outlinewidth": 0,
              "ticks": ""
             }
            },
            "type": "scattermapbox"
           }
          ],
          "scatterpolar": [
           {
            "marker": {
             "colorbar": {
              "outlinewidth": 0,
              "ticks": ""
             }
            },
            "type": "scatterpolar"
           }
          ],
          "scatterpolargl": [
           {
            "marker": {
             "colorbar": {
              "outlinewidth": 0,
              "ticks": ""
             }
            },
            "type": "scatterpolargl"
           }
          ],
          "scatterternary": [
           {
            "marker": {
             "colorbar": {
              "outlinewidth": 0,
              "ticks": ""
             }
            },
            "type": "scatterternary"
           }
          ],
          "surface": [
           {
            "colorbar": {
             "outlinewidth": 0,
             "ticks": ""
            },
            "colorscale": [
             [
              0,
              "#0d0887"
             ],
             [
              0.1111111111111111,
              "#46039f"
             ],
             [
              0.2222222222222222,
              "#7201a8"
             ],
             [
              0.3333333333333333,
              "#9c179e"
             ],
             [
              0.4444444444444444,
              "#bd3786"
             ],
             [
              0.5555555555555556,
              "#d8576b"
             ],
             [
              0.6666666666666666,
              "#ed7953"
             ],
             [
              0.7777777777777778,
              "#fb9f3a"
             ],
             [
              0.8888888888888888,
              "#fdca26"
             ],
             [
              1,
              "#f0f921"
             ]
            ],
            "type": "surface"
           }
          ],
          "table": [
           {
            "cells": {
             "fill": {
              "color": "#EBF0F8"
             },
             "line": {
              "color": "white"
             }
            },
            "header": {
             "fill": {
              "color": "#C8D4E3"
             },
             "line": {
              "color": "white"
             }
            },
            "type": "table"
           }
          ]
         },
         "layout": {
          "annotationdefaults": {
           "arrowcolor": "#2a3f5f",
           "arrowhead": 0,
           "arrowwidth": 1
          },
          "autotypenumbers": "strict",
          "coloraxis": {
           "colorbar": {
            "outlinewidth": 0,
            "ticks": ""
           }
          },
          "colorscale": {
           "diverging": [
            [
             0,
             "#8e0152"
            ],
            [
             0.1,
             "#c51b7d"
            ],
            [
             0.2,
             "#de77ae"
            ],
            [
             0.3,
             "#f1b6da"
            ],
            [
             0.4,
             "#fde0ef"
            ],
            [
             0.5,
             "#f7f7f7"
            ],
            [
             0.6,
             "#e6f5d0"
            ],
            [
             0.7,
             "#b8e186"
            ],
            [
             0.8,
             "#7fbc41"
            ],
            [
             0.9,
             "#4d9221"
            ],
            [
             1,
             "#276419"
            ]
           ],
           "sequential": [
            [
             0,
             "#0d0887"
            ],
            [
             0.1111111111111111,
             "#46039f"
            ],
            [
             0.2222222222222222,
             "#7201a8"
            ],
            [
             0.3333333333333333,
             "#9c179e"
            ],
            [
             0.4444444444444444,
             "#bd3786"
            ],
            [
             0.5555555555555556,
             "#d8576b"
            ],
            [
             0.6666666666666666,
             "#ed7953"
            ],
            [
             0.7777777777777778,
             "#fb9f3a"
            ],
            [
             0.8888888888888888,
             "#fdca26"
            ],
            [
             1,
             "#f0f921"
            ]
           ],
           "sequentialminus": [
            [
             0,
             "#0d0887"
            ],
            [
             0.1111111111111111,
             "#46039f"
            ],
            [
             0.2222222222222222,
             "#7201a8"
            ],
            [
             0.3333333333333333,
             "#9c179e"
            ],
            [
             0.4444444444444444,
             "#bd3786"
            ],
            [
             0.5555555555555556,
             "#d8576b"
            ],
            [
             0.6666666666666666,
             "#ed7953"
            ],
            [
             0.7777777777777778,
             "#fb9f3a"
            ],
            [
             0.8888888888888888,
             "#fdca26"
            ],
            [
             1,
             "#f0f921"
            ]
           ]
          },
          "colorway": [
           "#636efa",
           "#EF553B",
           "#00cc96",
           "#ab63fa",
           "#FFA15A",
           "#19d3f3",
           "#FF6692",
           "#B6E880",
           "#FF97FF",
           "#FECB52"
          ],
          "font": {
           "color": "#2a3f5f"
          },
          "geo": {
           "bgcolor": "white",
           "lakecolor": "white",
           "landcolor": "#E5ECF6",
           "showlakes": true,
           "showland": true,
           "subunitcolor": "white"
          },
          "hoverlabel": {
           "align": "left"
          },
          "hovermode": "closest",
          "mapbox": {
           "style": "light"
          },
          "paper_bgcolor": "white",
          "plot_bgcolor": "#E5ECF6",
          "polar": {
           "angularaxis": {
            "gridcolor": "white",
            "linecolor": "white",
            "ticks": ""
           },
           "bgcolor": "#E5ECF6",
           "radialaxis": {
            "gridcolor": "white",
            "linecolor": "white",
            "ticks": ""
           }
          },
          "scene": {
           "xaxis": {
            "backgroundcolor": "#E5ECF6",
            "gridcolor": "white",
            "gridwidth": 2,
            "linecolor": "white",
            "showbackground": true,
            "ticks": "",
            "zerolinecolor": "white"
           },
           "yaxis": {
            "backgroundcolor": "#E5ECF6",
            "gridcolor": "white",
            "gridwidth": 2,
            "linecolor": "white",
            "showbackground": true,
            "ticks": "",
            "zerolinecolor": "white"
           },
           "zaxis": {
            "backgroundcolor": "#E5ECF6",
            "gridcolor": "white",
            "gridwidth": 2,
            "linecolor": "white",
            "showbackground": true,
            "ticks": "",
            "zerolinecolor": "white"
           }
          },
          "shapedefaults": {
           "line": {
            "color": "#2a3f5f"
           }
          },
          "ternary": {
           "aaxis": {
            "gridcolor": "white",
            "linecolor": "white",
            "ticks": ""
           },
           "baxis": {
            "gridcolor": "white",
            "linecolor": "white",
            "ticks": ""
           },
           "bgcolor": "#E5ECF6",
           "caxis": {
            "gridcolor": "white",
            "linecolor": "white",
            "ticks": ""
           }
          },
          "title": {
           "x": 0.05
          },
          "xaxis": {
           "automargin": true,
           "gridcolor": "white",
           "linecolor": "white",
           "ticks": "",
           "title": {
            "standoff": 15
           },
           "zerolinecolor": "white",
           "zerolinewidth": 2
          },
          "yaxis": {
           "automargin": true,
           "gridcolor": "white",
           "linecolor": "white",
           "ticks": "",
           "title": {
            "standoff": 15
           },
           "zerolinecolor": "white",
           "zerolinewidth": 2
          }
         }
        },
        "title": {
         "text": "Amount of People in Each Age Group"
        },
        "xaxis": {
         "anchor": "y",
         "domain": [
          0,
          1
         ],
         "title": {
          "text": "x"
         }
        },
        "yaxis": {
         "anchor": "x",
         "domain": [
          0,
          1
         ],
         "title": {
          "text": "count"
         }
        }
       }
      },
      "text/html": [
       "<div>                            <div id=\"85cf1e83-c6f1-4223-bc7f-61963a01721d\" class=\"plotly-graph-div\" style=\"height:525px; width:100%;\"></div>            <script type=\"text/javascript\">                require([\"plotly\"], function(Plotly) {                    window.PLOTLYENV=window.PLOTLYENV || {};                                    if (document.getElementById(\"85cf1e83-c6f1-4223-bc7f-61963a01721d\")) {                    Plotly.newPlot(                        \"85cf1e83-c6f1-4223-bc7f-61963a01721d\",                        [{\"alignmentgroup\":\"True\",\"hovertemplate\":\"x=%{x}<br>count=%{y}<extra></extra>\",\"legendgroup\":\"\",\"marker\":{\"color\":\"#636efa\",\"pattern\":{\"shape\":\"\"}},\"name\":\"\",\"offsetgroup\":\"\",\"orientation\":\"v\",\"showlegend\":false,\"textposition\":\"auto\",\"x\":[\"16-25\",\"36-45\",\"26-35\",\"56-65\",\"26-35\",\"36-45\",\"26-35\",\"16-25\",\"26-35\",\"56-65\",\"16-25\",\"36-45\",\"26-35\",\"16-25\",\"16-25\",\"26-35\",\"46-55\",\"16-25\",\"36-45\",\"16-25\",\"36-45\",\"26-35\",\"16-25\",\"46-55\",\"26-35\",\"26-35\",\"16-25\",\"16-25\",\"16-25\",\"26-35\",\"26-35\",\"16-25\",\"46-55\",\"16-25\",\"16-25\",\"16-25\",\"36-45\",\"16-25\",\"16-25\",\"Prefer not to say\",\"Prefer not to say\",\"26-35\",\"56-65\",\"16-25\",\"16-25\",\"66+\",\"26-35\",\"26-35\",\"26-35\",\"26-35\",\"26-35\",\"56-65\",\"16-25\",\"26-35\",\"16-25\",\"36-45\",\"26-35\",\"36-45\",\"46-55\",\"26-35\",\"16-25\",\"46-55\",\"16-25\",\"16-25\",\"16-25\",\"26-35\",\"26-35\",\"16-25\",\"46-55\",\"16-25\",\"36-45\",\"26-35\",\"16-25\",\"16-25\",\"56-65\",\"16-25\",\"26-35\",\"16-25\",\"26-35\",\"16-25\",\"16-25\",\"26-35\",\"26-35\",\"26-35\",\"16-25\",\"16-25\",\"26-35\",\"26-35\",\"26-35\",\"16-25\",\"16-25\",\"46-55\",\"Prefer not to say\",\"46-55\",\"16-25\",\"16-25\",\"56-65\",\"26-35\",\"56-65\",\"16-25\",\"16-25\",\"46-55\",\"46-55\",\"46-55\",\"66+\",\"16-25\",\"16-25\",\"16-25\",\"16-25\",\"66+\",\"26-35\",\"16-25\",\"46-55\",\"16-25\",\"16-25\",\"16-25\",\"46-55\",\"46-55\",\"16-25\",\"16-25\",\"26-35\",\"26-35\",\"46-55\",\"16-25\",\"16-25\",\"26-35\",\"26-35\",\"16-25\",\"56-65\",\"16-25\",\"56-65\",\"46-55\",\"16-25\",\"16-25\",\"16-25\",\"36-45\",\"16-25\",\"26-35\",\"16-25\",\"26-35\",\"36-45\",\"36-45\",\"26-35\",\"16-25\",\"36-45\",\"16-25\",\"26-35\",\"26-35\",\"56-65\",\"66+\",\"16-25\",\"16-25\",\"36-45\",\"26-35\",\"16-25\",\"16-25\",\"Prefer not to say\",\"56-65\",\"16-25\",\"26-35\",\"36-45\",\"36-45\",\"26-35\",\"16-25\",\"16-25\",\"16-25\",\"26-35\",\"26-35\",\"26-35\",\"26-35\",\"Prefer not to say\",\"56-65\",\"26-35\",\"46-55\",\"16-25\",\"66+\",\"16-25\",\"56-65\",\"36-45\",\"26-35\",\"26-35\",\"16-25\",\"26-35\",\"46-55\",\"36-45\",\"26-35\",\"16-25\",\"46-55\",\"46-55\",\"36-45\",\"26-35\",\"36-45\",\"56-65\",\"16-25\",\"16-25\",\"56-65\",\"66+\",\"16-25\",\"36-45\",\"36-45\",\"26-35\",\"26-35\",\"56-65\",\"46-55\",\"26-35\",\"26-35\",\"56-65\",\"46-55\",\"36-45\",\"46-55\",\"16-25\",\"26-35\",\"Prefer not to say\",\"16-25\",\"26-35\",\"26-35\",\"16-25\",\"26-35\",\"26-35\",\"26-35\",\"Prefer not to say\",\"36-45\",\"Prefer not to say\",\"26-35\",\"36-45\",\"16-25\",\"26-35\",\"56-65\",\"56-65\",\"26-35\",\"16-25\",\"36-45\",\"16-25\",\"26-35\",\"16-25\",\"56-65\",\"26-35\",\"36-45\",\"16-25\",\"26-35\",\"26-35\",\"26-35\",\"26-35\",\"26-35\",\"16-25\",\"16-25\",\"16-25\",\"36-45\",\"46-55\",\"26-35\",\"26-35\",\"26-35\",\"26-35\",\"26-35\",\"66+\",\"16-25\",\"46-55\",\"46-55\",\"16-25\",\"16-25\",\"56-65\",\"16-25\",\"16-25\",\"16-25\",\"36-45\",\"16-25\",\"16-25\",\"26-35\",\"36-45\",\"26-35\",\"36-45\",\"36-45\",\"36-45\",\"56-65\",\"66+\",\"16-25\",\"26-35\",\"36-45\",\"36-45\",\"36-45\",\"46-55\",\"26-35\",\"56-65\",\"26-35\",\"36-45\",\"46-55\",\"16-25\"],\"xaxis\":\"x\",\"y\":[1,1,1,1,1,1,1,1,1,1,1,1,1,1,1,1,1,1,1,1,1,1,1,1,1,1,1,1,1,1,1,1,1,1,1,1,1,1,1,1,1,1,1,1,1,1,1,1,1,1,1,1,1,1,1,1,1,1,1,1,1,1,1,1,1,1,1,1,1,1,1,1,1,1,1,1,1,1,1,1,1,1,1,1,1,1,1,1,1,1,1,1,1,1,1,1,1,1,1,1,1,1,1,1,1,1,1,1,1,1,1,1,1,1,1,1,1,1,1,1,1,1,1,1,1,1,1,1,1,1,1,1,1,1,1,1,1,1,1,1,1,1,1,1,1,1,1,1,1,1,1,1,1,1,1,1,1,1,1,1,1,1,1,1,1,1,1,1,1,1,1,1,1,1,1,1,1,1,1,1,1,1,1,1,1,1,1,1,1,1,1,1,1,1,1,1,1,1,1,1,1,1,1,1,1,1,1,1,1,1,1,1,1,1,1,1,1,1,1,1,1,1,1,1,1,1,1,1,1,1,1,1,1,1,1,1,1,1,1,1,1,1,1,1,1,1,1,1,1,1,1,1,1,1,1,1,1,1,1,1,1,1,1,1,1,1,1,1,1,1,1,1,1,1,1,1,1,1,1,1,1,1,1,1,1,1,1],\"yaxis\":\"y\",\"type\":\"bar\"}],                        {\"template\":{\"data\":{\"histogram2dcontour\":[{\"type\":\"histogram2dcontour\",\"colorbar\":{\"outlinewidth\":0,\"ticks\":\"\"},\"colorscale\":[[0.0,\"#0d0887\"],[0.1111111111111111,\"#46039f\"],[0.2222222222222222,\"#7201a8\"],[0.3333333333333333,\"#9c179e\"],[0.4444444444444444,\"#bd3786\"],[0.5555555555555556,\"#d8576b\"],[0.6666666666666666,\"#ed7953\"],[0.7777777777777778,\"#fb9f3a\"],[0.8888888888888888,\"#fdca26\"],[1.0,\"#f0f921\"]]}],\"choropleth\":[{\"type\":\"choropleth\",\"colorbar\":{\"outlinewidth\":0,\"ticks\":\"\"}}],\"histogram2d\":[{\"type\":\"histogram2d\",\"colorbar\":{\"outlinewidth\":0,\"ticks\":\"\"},\"colorscale\":[[0.0,\"#0d0887\"],[0.1111111111111111,\"#46039f\"],[0.2222222222222222,\"#7201a8\"],[0.3333333333333333,\"#9c179e\"],[0.4444444444444444,\"#bd3786\"],[0.5555555555555556,\"#d8576b\"],[0.6666666666666666,\"#ed7953\"],[0.7777777777777778,\"#fb9f3a\"],[0.8888888888888888,\"#fdca26\"],[1.0,\"#f0f921\"]]}],\"heatmap\":[{\"type\":\"heatmap\",\"colorbar\":{\"outlinewidth\":0,\"ticks\":\"\"},\"colorscale\":[[0.0,\"#0d0887\"],[0.1111111111111111,\"#46039f\"],[0.2222222222222222,\"#7201a8\"],[0.3333333333333333,\"#9c179e\"],[0.4444444444444444,\"#bd3786\"],[0.5555555555555556,\"#d8576b\"],[0.6666666666666666,\"#ed7953\"],[0.7777777777777778,\"#fb9f3a\"],[0.8888888888888888,\"#fdca26\"],[1.0,\"#f0f921\"]]}],\"heatmapgl\":[{\"type\":\"heatmapgl\",\"colorbar\":{\"outlinewidth\":0,\"ticks\":\"\"},\"colorscale\":[[0.0,\"#0d0887\"],[0.1111111111111111,\"#46039f\"],[0.2222222222222222,\"#7201a8\"],[0.3333333333333333,\"#9c179e\"],[0.4444444444444444,\"#bd3786\"],[0.5555555555555556,\"#d8576b\"],[0.6666666666666666,\"#ed7953\"],[0.7777777777777778,\"#fb9f3a\"],[0.8888888888888888,\"#fdca26\"],[1.0,\"#f0f921\"]]}],\"contourcarpet\":[{\"type\":\"contourcarpet\",\"colorbar\":{\"outlinewidth\":0,\"ticks\":\"\"}}],\"contour\":[{\"type\":\"contour\",\"colorbar\":{\"outlinewidth\":0,\"ticks\":\"\"},\"colorscale\":[[0.0,\"#0d0887\"],[0.1111111111111111,\"#46039f\"],[0.2222222222222222,\"#7201a8\"],[0.3333333333333333,\"#9c179e\"],[0.4444444444444444,\"#bd3786\"],[0.5555555555555556,\"#d8576b\"],[0.6666666666666666,\"#ed7953\"],[0.7777777777777778,\"#fb9f3a\"],[0.8888888888888888,\"#fdca26\"],[1.0,\"#f0f921\"]]}],\"surface\":[{\"type\":\"surface\",\"colorbar\":{\"outlinewidth\":0,\"ticks\":\"\"},\"colorscale\":[[0.0,\"#0d0887\"],[0.1111111111111111,\"#46039f\"],[0.2222222222222222,\"#7201a8\"],[0.3333333333333333,\"#9c179e\"],[0.4444444444444444,\"#bd3786\"],[0.5555555555555556,\"#d8576b\"],[0.6666666666666666,\"#ed7953\"],[0.7777777777777778,\"#fb9f3a\"],[0.8888888888888888,\"#fdca26\"],[1.0,\"#f0f921\"]]}],\"mesh3d\":[{\"type\":\"mesh3d\",\"colorbar\":{\"outlinewidth\":0,\"ticks\":\"\"}}],\"scatter\":[{\"fillpattern\":{\"fillmode\":\"overlay\",\"size\":10,\"solidity\":0.2},\"type\":\"scatter\"}],\"parcoords\":[{\"type\":\"parcoords\",\"line\":{\"colorbar\":{\"outlinewidth\":0,\"ticks\":\"\"}}}],\"scatterpolargl\":[{\"type\":\"scatterpolargl\",\"marker\":{\"colorbar\":{\"outlinewidth\":0,\"ticks\":\"\"}}}],\"bar\":[{\"error_x\":{\"color\":\"#2a3f5f\"},\"error_y\":{\"color\":\"#2a3f5f\"},\"marker\":{\"line\":{\"color\":\"#E5ECF6\",\"width\":0.5},\"pattern\":{\"fillmode\":\"overlay\",\"size\":10,\"solidity\":0.2}},\"type\":\"bar\"}],\"scattergeo\":[{\"type\":\"scattergeo\",\"marker\":{\"colorbar\":{\"outlinewidth\":0,\"ticks\":\"\"}}}],\"scatterpolar\":[{\"type\":\"scatterpolar\",\"marker\":{\"colorbar\":{\"outlinewidth\":0,\"ticks\":\"\"}}}],\"histogram\":[{\"marker\":{\"pattern\":{\"fillmode\":\"overlay\",\"size\":10,\"solidity\":0.2}},\"type\":\"histogram\"}],\"scattergl\":[{\"type\":\"scattergl\",\"marker\":{\"colorbar\":{\"outlinewidth\":0,\"ticks\":\"\"}}}],\"scatter3d\":[{\"type\":\"scatter3d\",\"line\":{\"colorbar\":{\"outlinewidth\":0,\"ticks\":\"\"}},\"marker\":{\"colorbar\":{\"outlinewidth\":0,\"ticks\":\"\"}}}],\"scattermapbox\":[{\"type\":\"scattermapbox\",\"marker\":{\"colorbar\":{\"outlinewidth\":0,\"ticks\":\"\"}}}],\"scatterternary\":[{\"type\":\"scatterternary\",\"marker\":{\"colorbar\":{\"outlinewidth\":0,\"ticks\":\"\"}}}],\"scattercarpet\":[{\"type\":\"scattercarpet\",\"marker\":{\"colorbar\":{\"outlinewidth\":0,\"ticks\":\"\"}}}],\"carpet\":[{\"aaxis\":{\"endlinecolor\":\"#2a3f5f\",\"gridcolor\":\"white\",\"linecolor\":\"white\",\"minorgridcolor\":\"white\",\"startlinecolor\":\"#2a3f5f\"},\"baxis\":{\"endlinecolor\":\"#2a3f5f\",\"gridcolor\":\"white\",\"linecolor\":\"white\",\"minorgridcolor\":\"white\",\"startlinecolor\":\"#2a3f5f\"},\"type\":\"carpet\"}],\"table\":[{\"cells\":{\"fill\":{\"color\":\"#EBF0F8\"},\"line\":{\"color\":\"white\"}},\"header\":{\"fill\":{\"color\":\"#C8D4E3\"},\"line\":{\"color\":\"white\"}},\"type\":\"table\"}],\"barpolar\":[{\"marker\":{\"line\":{\"color\":\"#E5ECF6\",\"width\":0.5},\"pattern\":{\"fillmode\":\"overlay\",\"size\":10,\"solidity\":0.2}},\"type\":\"barpolar\"}],\"pie\":[{\"automargin\":true,\"type\":\"pie\"}]},\"layout\":{\"autotypenumbers\":\"strict\",\"colorway\":[\"#636efa\",\"#EF553B\",\"#00cc96\",\"#ab63fa\",\"#FFA15A\",\"#19d3f3\",\"#FF6692\",\"#B6E880\",\"#FF97FF\",\"#FECB52\"],\"font\":{\"color\":\"#2a3f5f\"},\"hovermode\":\"closest\",\"hoverlabel\":{\"align\":\"left\"},\"paper_bgcolor\":\"white\",\"plot_bgcolor\":\"#E5ECF6\",\"polar\":{\"bgcolor\":\"#E5ECF6\",\"angularaxis\":{\"gridcolor\":\"white\",\"linecolor\":\"white\",\"ticks\":\"\"},\"radialaxis\":{\"gridcolor\":\"white\",\"linecolor\":\"white\",\"ticks\":\"\"}},\"ternary\":{\"bgcolor\":\"#E5ECF6\",\"aaxis\":{\"gridcolor\":\"white\",\"linecolor\":\"white\",\"ticks\":\"\"},\"baxis\":{\"gridcolor\":\"white\",\"linecolor\":\"white\",\"ticks\":\"\"},\"caxis\":{\"gridcolor\":\"white\",\"linecolor\":\"white\",\"ticks\":\"\"}},\"coloraxis\":{\"colorbar\":{\"outlinewidth\":0,\"ticks\":\"\"}},\"colorscale\":{\"sequential\":[[0.0,\"#0d0887\"],[0.1111111111111111,\"#46039f\"],[0.2222222222222222,\"#7201a8\"],[0.3333333333333333,\"#9c179e\"],[0.4444444444444444,\"#bd3786\"],[0.5555555555555556,\"#d8576b\"],[0.6666666666666666,\"#ed7953\"],[0.7777777777777778,\"#fb9f3a\"],[0.8888888888888888,\"#fdca26\"],[1.0,\"#f0f921\"]],\"sequentialminus\":[[0.0,\"#0d0887\"],[0.1111111111111111,\"#46039f\"],[0.2222222222222222,\"#7201a8\"],[0.3333333333333333,\"#9c179e\"],[0.4444444444444444,\"#bd3786\"],[0.5555555555555556,\"#d8576b\"],[0.6666666666666666,\"#ed7953\"],[0.7777777777777778,\"#fb9f3a\"],[0.8888888888888888,\"#fdca26\"],[1.0,\"#f0f921\"]],\"diverging\":[[0,\"#8e0152\"],[0.1,\"#c51b7d\"],[0.2,\"#de77ae\"],[0.3,\"#f1b6da\"],[0.4,\"#fde0ef\"],[0.5,\"#f7f7f7\"],[0.6,\"#e6f5d0\"],[0.7,\"#b8e186\"],[0.8,\"#7fbc41\"],[0.9,\"#4d9221\"],[1,\"#276419\"]]},\"xaxis\":{\"gridcolor\":\"white\",\"linecolor\":\"white\",\"ticks\":\"\",\"title\":{\"standoff\":15},\"zerolinecolor\":\"white\",\"automargin\":true,\"zerolinewidth\":2},\"yaxis\":{\"gridcolor\":\"white\",\"linecolor\":\"white\",\"ticks\":\"\",\"title\":{\"standoff\":15},\"zerolinecolor\":\"white\",\"automargin\":true,\"zerolinewidth\":2},\"scene\":{\"xaxis\":{\"backgroundcolor\":\"#E5ECF6\",\"gridcolor\":\"white\",\"linecolor\":\"white\",\"showbackground\":true,\"ticks\":\"\",\"zerolinecolor\":\"white\",\"gridwidth\":2},\"yaxis\":{\"backgroundcolor\":\"#E5ECF6\",\"gridcolor\":\"white\",\"linecolor\":\"white\",\"showbackground\":true,\"ticks\":\"\",\"zerolinecolor\":\"white\",\"gridwidth\":2},\"zaxis\":{\"backgroundcolor\":\"#E5ECF6\",\"gridcolor\":\"white\",\"linecolor\":\"white\",\"showbackground\":true,\"ticks\":\"\",\"zerolinecolor\":\"white\",\"gridwidth\":2}},\"shapedefaults\":{\"line\":{\"color\":\"#2a3f5f\"}},\"annotationdefaults\":{\"arrowcolor\":\"#2a3f5f\",\"arrowhead\":0,\"arrowwidth\":1},\"geo\":{\"bgcolor\":\"white\",\"landcolor\":\"#E5ECF6\",\"subunitcolor\":\"white\",\"showland\":true,\"showlakes\":true,\"lakecolor\":\"white\"},\"title\":{\"x\":0.05},\"mapbox\":{\"style\":\"light\"}}},\"xaxis\":{\"anchor\":\"y\",\"domain\":[0.0,1.0],\"title\":{\"text\":\"x\"}},\"yaxis\":{\"anchor\":\"x\",\"domain\":[0.0,1.0],\"title\":{\"text\":\"count\"}},\"legend\":{\"tracegroupgap\":0},\"title\":{\"text\":\"Amount of People in Each Age Group\"},\"barmode\":\"relative\"},                        {\"responsive\": true}                    ).then(function(){\n",
       "                            \n",
       "var gd = document.getElementById('85cf1e83-c6f1-4223-bc7f-61963a01721d');\n",
       "var x = new MutationObserver(function (mutations, observer) {{\n",
       "        var display = window.getComputedStyle(gd).display;\n",
       "        if (!display || display === 'none') {{\n",
       "            console.log([gd, 'removed!']);\n",
       "            Plotly.purge(gd);\n",
       "            observer.disconnect();\n",
       "        }}\n",
       "}});\n",
       "\n",
       "// Listen for the removal of the full notebook cells\n",
       "var notebookContainer = gd.closest('#notebook-container');\n",
       "if (notebookContainer) {{\n",
       "    x.observe(notebookContainer, {childList: true});\n",
       "}}\n",
       "\n",
       "// Listen for the clearing of the current output cell\n",
       "var outputEl = gd.closest('.output');\n",
       "if (outputEl) {{\n",
       "    x.observe(outputEl, {childList: true});\n",
       "}}\n",
       "\n",
       "                        })                };                });            </script>        </div>"
      ]
     },
     "metadata": {},
     "output_type": "display_data"
    }
   ],
   "source": [
    "y_data = df.loc[:,\"On a scale of 1 to 10, with 1 being \\\"Very poorly\\\" and 10 being \\\"Very well\\\", how do you feel that the Park is maintained?\"]\n",
    "x_data = df.loc[:,\"What is your age?\"]\n",
    "fig = px.bar(x=x_data, title = 'Amount of People in Each Age Group')\n",
    "fig.show()"
   ]
  },
  {
   "cell_type": "code",
   "execution_count": 50,
   "metadata": {},
   "outputs": [],
   "source": [
    "# 3 week sprint goal - Check-in halfway through\n",
    "# Make more plots for your questions\n",
    "# Interactive plots"
   ]
  },
  {
   "cell_type": "code",
   "execution_count": 51,
   "metadata": {},
   "outputs": [
    {
     "data": {
      "application/vnd.plotly.v1+json": {
       "config": {
        "plotlyServerURL": "https://plot.ly"
       },
       "data": [
        {
         "line": {
          "color": "firebrick",
          "width": 4
         },
         "type": "scatter",
         "x": [
          "4/15/2022 12:54:14",
          "4/16/2022 11:20:37",
          "4/16/2022 13:57:18",
          "4/16/2022 14:41:01",
          "4/17/2022 17:04:15",
          "4/18/2022 16:22:04",
          "4/19/2022 11:11:20",
          "4/19/2022 18:29:06",
          "4/20/2022 12:50:16",
          "4/20/2022 16:48:35",
          "4/20/2022 18:24:50",
          "4/20/2022 20:38:38",
          "4/21/2022 11:36:58",
          "4/21/2022 22:25:47",
          "4/23/2022 13:44:16",
          "4/24/2022 17:06:00",
          "4/25/2022 7:40:34",
          "4/25/2022 17:21:19",
          "4/26/2022 8:56:24",
          "4/27/2022 23:31:09",
          "5/1/2022 23:53:28",
          "5/2/2022 19:34:16",
          "5/3/2022 19:39:01",
          "5/4/2022 16:28:06",
          "5/5/2022 14:25:02",
          "5/6/2022 18:57:28",
          "5/7/2022 19:00:21",
          "5/7/2022 19:00:28",
          "5/7/2022 19:00:42",
          "5/8/2022 18:42:04",
          "5/9/2022 23:06:44",
          "5/10/2022 13:17:03",
          "5/15/2022 12:44:47",
          "5/17/2022 19:17:27",
          "5/24/2022 20:47:10",
          "5/24/2022 20:47:45",
          "5/26/2022 19:43:50",
          "5/29/2022 17:45:47",
          "6/2/2022 18:20:41",
          "6/5/2022 19:36:11",
          "6/11/2022 14:14:22",
          "4/15/2022 10:22:16",
          "4/15/2022 10:59:44",
          "4/15/2022 11:35:19",
          "4/15/2022 11:35:39",
          "4/15/2022 11:55:48",
          "4/15/2022 18:16:48",
          "4/15/2022 18:17:54",
          "4/16/2022 13:01:22",
          "4/16/2022 13:15:24",
          "4/16/2022 14:11:44",
          "4/16/2022 14:34:34",
          "4/16/2022 18:15:59",
          "4/16/2022 20:25:27",
          "4/17/2022 13:52:47",
          "4/17/2022 15:53:39",
          "4/17/2022 16:32:30",
          "4/18/2022 9:02:50",
          "4/18/2022 19:23:35",
          "4/18/2022 19:46:08",
          "4/18/2022 21:43:56",
          "4/19/2022 10:25:50",
          "4/19/2022 14:19:57",
          "4/19/2022 17:31:14",
          "4/19/2022 18:30:26",
          "4/20/2022 12:22:22",
          "4/20/2022 12:25:05",
          "4/20/2022 14:55:56",
          "4/20/2022 15:16:27",
          "4/20/2022 15:45:10",
          "4/20/2022 16:14:07",
          "4/20/2022 18:42:11",
          "4/21/2022 9:50:48",
          "4/21/2022 11:35:30",
          "4/21/2022 11:37:41",
          "4/22/2022 12:29:05",
          "4/22/2022 14:01:36",
          "4/22/2022 14:46:17",
          "4/22/2022 17:22:21",
          "4/22/2022 18:04:25",
          "4/22/2022 18:05:10",
          "4/23/2022 16:46:41",
          "4/24/2022 7:50:56",
          "4/24/2022 7:51:26",
          "4/24/2022 11:46:41",
          "4/24/2022 15:48:08",
          "4/25/2022 7:55:53",
          "4/25/2022 7:59:24",
          "4/25/2022 8:01:45",
          "4/25/2022 17:52:37",
          "4/26/2022 17:13:22",
          "4/29/2022 13:05:21",
          "4/29/2022 19:00:28",
          "4/30/2022 13:59:33",
          "5/3/2022 11:15:24",
          "5/3/2022 11:22:57",
          "5/3/2022 13:44:32",
          "5/4/2022 20:28:04",
          "5/5/2022 15:38:33",
          "5/7/2022 18:59:11",
          "5/7/2022 19:01:12",
          "5/8/2022 10:31:14",
          "5/9/2022 14:35:38",
          "5/9/2022 18:18:23",
          "5/9/2022 18:21:11",
          "5/10/2022 11:24:50",
          "5/10/2022 13:15:39",
          "5/10/2022 13:16:30",
          "5/10/2022 13:16:53",
          "5/12/2022 15:51:52",
          "5/13/2022 18:37:57",
          "5/14/2022 9:05:40",
          "5/16/2022 18:34:12",
          "5/17/2022 14:09:09",
          "5/19/2022 11:37:38",
          "5/19/2022 11:37:57",
          "5/19/2022 19:47:13",
          "5/21/2022 13:45:32",
          "5/22/2022 18:01:29",
          "5/22/2022 18:11:20",
          "5/23/2022 21:39:19",
          "5/25/2022 14:34:27",
          "5/25/2022 15:59:17",
          "5/25/2022 17:48:21",
          "5/26/2022 13:55:23",
          "5/29/2022 18:02:35",
          "5/29/2022 18:59:07",
          "5/31/2022 10:55:29",
          "6/2/2022 18:18:47",
          "6/3/2022 11:00:23",
          "6/3/2022 11:10:35",
          "6/3/2022 11:15:15",
          "6/4/2022 0:22:45",
          "6/4/2022 9:10:05",
          "6/4/2022 11:45:23",
          "6/9/2022 19:56:05",
          "6/11/2022 12:12:59",
          "6/12/2022 15:15:57",
          "6/16/2022 13:16:01",
          "6/18/2022 18:19:49",
          "6/19/2022 18:16:20",
          "6/20/2022 0:26:39",
          "6/20/2022 9:48:57",
          "6/20/2022 14:04:08",
          "6/23/2022 10:47:14",
          "6/24/2022 17:44:39",
          "6/24/2022 17:44:54",
          "6/25/2022 12:27:13",
          "6/26/2022 18:13:02",
          "6/29/2022 18:36:53",
          "6/30/2022 18:59:44",
          "6/30/2022 19:52:02",
          "7/1/2022 7:05:55",
          "7/1/2022 17:32:55",
          "7/3/2022 13:55:32",
          "7/3/2022 13:55:55",
          "7/3/2022 20:23:02",
          "7/4/2022 16:00:04",
          "7/4/2022 19:46:57",
          "7/5/2022 14:57:58",
          "7/5/2022 18:43:46",
          "7/6/2022 10:24:24",
          "7/6/2022 10:26:56",
          "7/6/2022 14:31:15",
          "7/6/2022 14:32:34",
          "7/9/2022 20:33:36",
          "7/13/2022 11:04:16",
          "7/14/2022 20:58:40",
          "7/16/2022 15:21:14",
          "7/17/2022 10:23:00",
          "7/17/2022 11:09:41",
          "7/17/2022 13:57:46",
          "7/17/2022 16:42:06",
          "7/17/2022 17:24:22",
          "7/20/2022 19:52:27",
          "7/21/2022 10:58:23",
          "7/21/2022 21:26:05",
          "7/23/2022 10:29:29",
          "8/6/2022 10:08:52",
          "8/6/2022 19:11:51",
          "8/6/2022 19:11:52",
          "8/11/2022 7:16:31",
          "8/11/2022 11:31:55",
          "8/14/2022 16:45:41",
          "8/17/2022 18:15:48",
          "8/20/2022 16:48:58",
          "8/21/2022 12:33:50",
          "8/23/2022 16:46:02",
          "8/24/2022 12:29:53",
          "8/24/2022 12:47:16",
          "8/24/2022 13:30:48",
          "8/24/2022 19:33:12",
          "8/25/2022 12:38:30",
          "8/25/2022 16:21:11",
          "8/25/2022 16:31:13",
          "8/27/2022 9:01:57",
          "8/27/2022 15:35:18",
          "8/27/2022 16:33:18",
          "8/27/2022 20:31:33",
          "8/27/2022 20:32:05",
          "8/28/2022 11:01:39",
          "8/29/2022 10:36:26",
          "8/30/2022 7:42:34",
          "8/30/2022 20:27:20",
          "8/30/2022 21:26:40",
          "8/30/2022 23:15:06",
          "8/31/2022 9:59:24",
          "8/31/2022 12:36:05",
          "8/31/2022 18:27:57",
          "9/1/2022 9:24:10",
          "9/1/2022 18:21:48",
          "9/3/2022 14:18:02",
          "9/3/2022 18:37:55",
          "9/4/2022 13:03:58",
          "9/4/2022 15:41:30",
          "9/5/2022 10:17:09",
          "9/6/2022 10:50:49",
          "9/6/2022 13:39:33",
          "9/6/2022 13:40:50",
          "9/6/2022 13:41:07",
          "9/7/2022 17:35:58",
          "9/8/2022 11:47:49",
          "9/8/2022 17:16:56",
          "9/11/2022 9:29:32",
          "9/11/2022 11:45:03",
          "9/11/2022 16:02:55",
          "9/11/2022 17:39:50",
          "9/12/2022 11:41:01",
          "9/12/2022 13:06:01",
          "9/12/2022 14:23:10",
          "9/13/2022 18:20:00",
          "9/14/2022 12:19:33",
          "9/17/2022 13:20:15",
          "9/17/2022 14:06:17",
          "9/18/2022 22:59:33",
          "9/19/2022 11:45:13",
          "9/21/2022 9:46:03",
          "9/21/2022 12:23:20",
          "9/22/2022 12:13:46",
          "9/22/2022 14:06:16",
          "9/23/2022 15:39:48",
          "9/23/2022 15:40:58",
          "9/23/2022 16:37:36",
          "9/24/2022 12:27:18",
          "9/24/2022 12:34:54",
          "9/25/2022 15:47:42",
          "9/26/2022 12:56:29",
          "9/27/2022 11:18:46",
          "10/1/2022 21:28:52",
          "10/2/2022 14:27:45",
          "10/2/2022 15:10:30",
          "10/5/2022 8:39:50",
          "10/5/2022 11:32:20",
          "10/5/2022 18:12:28",
          "10/6/2022 13:09:46",
          "10/6/2022 15:19:00",
          "10/8/2022 15:11:03",
          "10/8/2022 15:22:08",
          "10/9/2022 10:24:18",
          "10/10/2022 5:37:09",
          "10/12/2022 14:28:06",
          "10/14/2022 14:17:13",
          "10/15/2022 11:54:35",
          "10/15/2022 12:58:06",
          "10/16/2022 15:52:41",
          "10/16/2022 21:36:19",
          "10/17/2022 8:14:27",
          "10/17/2022 12:51:31",
          "10/17/2022 12:53:11",
          "10/19/2022 16:58:51",
          "10/23/2022 18:11:55",
          "10/26/2022 15:56:40",
          "10/26/2022 16:19:22",
          "10/28/2022 5:43:17",
          "11/4/2022 14:49:51",
          "11/5/2022 12:34:56",
          "11/7/2022 11:57:39",
          "11/10/2022 16:23:01",
          "11/14/2022 14:45:46",
          "11/21/2022 14:46:01",
          "11/23/2022 8:46:10",
          "11/24/2022 9:05:12",
          "11/24/2022 9:59:44",
          "11/24/2022 21:25:40",
          "11/27/2022 11:08:44",
          "11/27/2022 22:11:15",
          "12/5/2022 9:14:38"
         ],
         "y": [
          8,
          8,
          7,
          8,
          6,
          9,
          9,
          8,
          8,
          10,
          9,
          8,
          10,
          10,
          7,
          8,
          8,
          8,
          10,
          10,
          10,
          6,
          7,
          8,
          10,
          9,
          8,
          10,
          10,
          8,
          7,
          8,
          8,
          6,
          10,
          9,
          10,
          9,
          9,
          7,
          6,
          8,
          10,
          10,
          8,
          9,
          8,
          8,
          10,
          10,
          10,
          7,
          7,
          6,
          9,
          9,
          6,
          2,
          9,
          6,
          10,
          8,
          5,
          8,
          9,
          9,
          8,
          9,
          9,
          8,
          5,
          7,
          8,
          10,
          10,
          8,
          10,
          10,
          8,
          10,
          9,
          8,
          9,
          9,
          9,
          9,
          7,
          7,
          7,
          9,
          6,
          10,
          8,
          8,
          7,
          7,
          2,
          8,
          9,
          9,
          10,
          8,
          7,
          8,
          10,
          10,
          9,
          8,
          8,
          7,
          10,
          9,
          10,
          10,
          8,
          8,
          9,
          7,
          8,
          10,
          8,
          10,
          8,
          10,
          10,
          7,
          9,
          10,
          8,
          8,
          9,
          7,
          10,
          7,
          9,
          8,
          10,
          7,
          9,
          9,
          8,
          10,
          10,
          10,
          7,
          6,
          6,
          8,
          6,
          9,
          9,
          10,
          9,
          6,
          5,
          6,
          10,
          7,
          10,
          4,
          6,
          5,
          7,
          8,
          8,
          8,
          10,
          10,
          10,
          8,
          10,
          4,
          10,
          3,
          8,
          8,
          7,
          3,
          9,
          10,
          9,
          10,
          9,
          6,
          10,
          7,
          7,
          8,
          9,
          7,
          8,
          10,
          9,
          10,
          8,
          9,
          7,
          10,
          9,
          9,
          10,
          9,
          4,
          10,
          10,
          8,
          10,
          10,
          7,
          8,
          9,
          10,
          9,
          10,
          8,
          10,
          10,
          10,
          10,
          7,
          9,
          9,
          10,
          10,
          7,
          5,
          9,
          9,
          8,
          1,
          9,
          9,
          7,
          8,
          9,
          2,
          9,
          8,
          9,
          10,
          5,
          5,
          5,
          10,
          10,
          10,
          10,
          1,
          6,
          8,
          7,
          8,
          10,
          9,
          5,
          7,
          10,
          2,
          9,
          7,
          8,
          8,
          2,
          8,
          9,
          8,
          9,
          9,
          6,
          9,
          9,
          8,
          8,
          8,
          8,
          10,
          7,
          9,
          10,
          10,
          7,
          9,
          9,
          9,
          9,
          1,
          8
         ]
        }
       ],
       "layout": {
        "template": {
         "data": {
          "bar": [
           {
            "error_x": {
             "color": "#2a3f5f"
            },
            "error_y": {
             "color": "#2a3f5f"
            },
            "marker": {
             "line": {
              "color": "#E5ECF6",
              "width": 0.5
             },
             "pattern": {
              "fillmode": "overlay",
              "size": 10,
              "solidity": 0.2
             }
            },
            "type": "bar"
           }
          ],
          "barpolar": [
           {
            "marker": {
             "line": {
              "color": "#E5ECF6",
              "width": 0.5
             },
             "pattern": {
              "fillmode": "overlay",
              "size": 10,
              "solidity": 0.2
             }
            },
            "type": "barpolar"
           }
          ],
          "carpet": [
           {
            "aaxis": {
             "endlinecolor": "#2a3f5f",
             "gridcolor": "white",
             "linecolor": "white",
             "minorgridcolor": "white",
             "startlinecolor": "#2a3f5f"
            },
            "baxis": {
             "endlinecolor": "#2a3f5f",
             "gridcolor": "white",
             "linecolor": "white",
             "minorgridcolor": "white",
             "startlinecolor": "#2a3f5f"
            },
            "type": "carpet"
           }
          ],
          "choropleth": [
           {
            "colorbar": {
             "outlinewidth": 0,
             "ticks": ""
            },
            "type": "choropleth"
           }
          ],
          "contour": [
           {
            "colorbar": {
             "outlinewidth": 0,
             "ticks": ""
            },
            "colorscale": [
             [
              0,
              "#0d0887"
             ],
             [
              0.1111111111111111,
              "#46039f"
             ],
             [
              0.2222222222222222,
              "#7201a8"
             ],
             [
              0.3333333333333333,
              "#9c179e"
             ],
             [
              0.4444444444444444,
              "#bd3786"
             ],
             [
              0.5555555555555556,
              "#d8576b"
             ],
             [
              0.6666666666666666,
              "#ed7953"
             ],
             [
              0.7777777777777778,
              "#fb9f3a"
             ],
             [
              0.8888888888888888,
              "#fdca26"
             ],
             [
              1,
              "#f0f921"
             ]
            ],
            "type": "contour"
           }
          ],
          "contourcarpet": [
           {
            "colorbar": {
             "outlinewidth": 0,
             "ticks": ""
            },
            "type": "contourcarpet"
           }
          ],
          "heatmap": [
           {
            "colorbar": {
             "outlinewidth": 0,
             "ticks": ""
            },
            "colorscale": [
             [
              0,
              "#0d0887"
             ],
             [
              0.1111111111111111,
              "#46039f"
             ],
             [
              0.2222222222222222,
              "#7201a8"
             ],
             [
              0.3333333333333333,
              "#9c179e"
             ],
             [
              0.4444444444444444,
              "#bd3786"
             ],
             [
              0.5555555555555556,
              "#d8576b"
             ],
             [
              0.6666666666666666,
              "#ed7953"
             ],
             [
              0.7777777777777778,
              "#fb9f3a"
             ],
             [
              0.8888888888888888,
              "#fdca26"
             ],
             [
              1,
              "#f0f921"
             ]
            ],
            "type": "heatmap"
           }
          ],
          "heatmapgl": [
           {
            "colorbar": {
             "outlinewidth": 0,
             "ticks": ""
            },
            "colorscale": [
             [
              0,
              "#0d0887"
             ],
             [
              0.1111111111111111,
              "#46039f"
             ],
             [
              0.2222222222222222,
              "#7201a8"
             ],
             [
              0.3333333333333333,
              "#9c179e"
             ],
             [
              0.4444444444444444,
              "#bd3786"
             ],
             [
              0.5555555555555556,
              "#d8576b"
             ],
             [
              0.6666666666666666,
              "#ed7953"
             ],
             [
              0.7777777777777778,
              "#fb9f3a"
             ],
             [
              0.8888888888888888,
              "#fdca26"
             ],
             [
              1,
              "#f0f921"
             ]
            ],
            "type": "heatmapgl"
           }
          ],
          "histogram": [
           {
            "marker": {
             "pattern": {
              "fillmode": "overlay",
              "size": 10,
              "solidity": 0.2
             }
            },
            "type": "histogram"
           }
          ],
          "histogram2d": [
           {
            "colorbar": {
             "outlinewidth": 0,
             "ticks": ""
            },
            "colorscale": [
             [
              0,
              "#0d0887"
             ],
             [
              0.1111111111111111,
              "#46039f"
             ],
             [
              0.2222222222222222,
              "#7201a8"
             ],
             [
              0.3333333333333333,
              "#9c179e"
             ],
             [
              0.4444444444444444,
              "#bd3786"
             ],
             [
              0.5555555555555556,
              "#d8576b"
             ],
             [
              0.6666666666666666,
              "#ed7953"
             ],
             [
              0.7777777777777778,
              "#fb9f3a"
             ],
             [
              0.8888888888888888,
              "#fdca26"
             ],
             [
              1,
              "#f0f921"
             ]
            ],
            "type": "histogram2d"
           }
          ],
          "histogram2dcontour": [
           {
            "colorbar": {
             "outlinewidth": 0,
             "ticks": ""
            },
            "colorscale": [
             [
              0,
              "#0d0887"
             ],
             [
              0.1111111111111111,
              "#46039f"
             ],
             [
              0.2222222222222222,
              "#7201a8"
             ],
             [
              0.3333333333333333,
              "#9c179e"
             ],
             [
              0.4444444444444444,
              "#bd3786"
             ],
             [
              0.5555555555555556,
              "#d8576b"
             ],
             [
              0.6666666666666666,
              "#ed7953"
             ],
             [
              0.7777777777777778,
              "#fb9f3a"
             ],
             [
              0.8888888888888888,
              "#fdca26"
             ],
             [
              1,
              "#f0f921"
             ]
            ],
            "type": "histogram2dcontour"
           }
          ],
          "mesh3d": [
           {
            "colorbar": {
             "outlinewidth": 0,
             "ticks": ""
            },
            "type": "mesh3d"
           }
          ],
          "parcoords": [
           {
            "line": {
             "colorbar": {
              "outlinewidth": 0,
              "ticks": ""
             }
            },
            "type": "parcoords"
           }
          ],
          "pie": [
           {
            "automargin": true,
            "type": "pie"
           }
          ],
          "scatter": [
           {
            "fillpattern": {
             "fillmode": "overlay",
             "size": 10,
             "solidity": 0.2
            },
            "type": "scatter"
           }
          ],
          "scatter3d": [
           {
            "line": {
             "colorbar": {
              "outlinewidth": 0,
              "ticks": ""
             }
            },
            "marker": {
             "colorbar": {
              "outlinewidth": 0,
              "ticks": ""
             }
            },
            "type": "scatter3d"
           }
          ],
          "scattercarpet": [
           {
            "marker": {
             "colorbar": {
              "outlinewidth": 0,
              "ticks": ""
             }
            },
            "type": "scattercarpet"
           }
          ],
          "scattergeo": [
           {
            "marker": {
             "colorbar": {
              "outlinewidth": 0,
              "ticks": ""
             }
            },
            "type": "scattergeo"
           }
          ],
          "scattergl": [
           {
            "marker": {
             "colorbar": {
              "outlinewidth": 0,
              "ticks": ""
             }
            },
            "type": "scattergl"
           }
          ],
          "scattermapbox": [
           {
            "marker": {
             "colorbar": {
              "outlinewidth": 0,
              "ticks": ""
             }
            },
            "type": "scattermapbox"
           }
          ],
          "scatterpolar": [
           {
            "marker": {
             "colorbar": {
              "outlinewidth": 0,
              "ticks": ""
             }
            },
            "type": "scatterpolar"
           }
          ],
          "scatterpolargl": [
           {
            "marker": {
             "colorbar": {
              "outlinewidth": 0,
              "ticks": ""
             }
            },
            "type": "scatterpolargl"
           }
          ],
          "scatterternary": [
           {
            "marker": {
             "colorbar": {
              "outlinewidth": 0,
              "ticks": ""
             }
            },
            "type": "scatterternary"
           }
          ],
          "surface": [
           {
            "colorbar": {
             "outlinewidth": 0,
             "ticks": ""
            },
            "colorscale": [
             [
              0,
              "#0d0887"
             ],
             [
              0.1111111111111111,
              "#46039f"
             ],
             [
              0.2222222222222222,
              "#7201a8"
             ],
             [
              0.3333333333333333,
              "#9c179e"
             ],
             [
              0.4444444444444444,
              "#bd3786"
             ],
             [
              0.5555555555555556,
              "#d8576b"
             ],
             [
              0.6666666666666666,
              "#ed7953"
             ],
             [
              0.7777777777777778,
              "#fb9f3a"
             ],
             [
              0.8888888888888888,
              "#fdca26"
             ],
             [
              1,
              "#f0f921"
             ]
            ],
            "type": "surface"
           }
          ],
          "table": [
           {
            "cells": {
             "fill": {
              "color": "#EBF0F8"
             },
             "line": {
              "color": "white"
             }
            },
            "header": {
             "fill": {
              "color": "#C8D4E3"
             },
             "line": {
              "color": "white"
             }
            },
            "type": "table"
           }
          ]
         },
         "layout": {
          "annotationdefaults": {
           "arrowcolor": "#2a3f5f",
           "arrowhead": 0,
           "arrowwidth": 1
          },
          "autotypenumbers": "strict",
          "coloraxis": {
           "colorbar": {
            "outlinewidth": 0,
            "ticks": ""
           }
          },
          "colorscale": {
           "diverging": [
            [
             0,
             "#8e0152"
            ],
            [
             0.1,
             "#c51b7d"
            ],
            [
             0.2,
             "#de77ae"
            ],
            [
             0.3,
             "#f1b6da"
            ],
            [
             0.4,
             "#fde0ef"
            ],
            [
             0.5,
             "#f7f7f7"
            ],
            [
             0.6,
             "#e6f5d0"
            ],
            [
             0.7,
             "#b8e186"
            ],
            [
             0.8,
             "#7fbc41"
            ],
            [
             0.9,
             "#4d9221"
            ],
            [
             1,
             "#276419"
            ]
           ],
           "sequential": [
            [
             0,
             "#0d0887"
            ],
            [
             0.1111111111111111,
             "#46039f"
            ],
            [
             0.2222222222222222,
             "#7201a8"
            ],
            [
             0.3333333333333333,
             "#9c179e"
            ],
            [
             0.4444444444444444,
             "#bd3786"
            ],
            [
             0.5555555555555556,
             "#d8576b"
            ],
            [
             0.6666666666666666,
             "#ed7953"
            ],
            [
             0.7777777777777778,
             "#fb9f3a"
            ],
            [
             0.8888888888888888,
             "#fdca26"
            ],
            [
             1,
             "#f0f921"
            ]
           ],
           "sequentialminus": [
            [
             0,
             "#0d0887"
            ],
            [
             0.1111111111111111,
             "#46039f"
            ],
            [
             0.2222222222222222,
             "#7201a8"
            ],
            [
             0.3333333333333333,
             "#9c179e"
            ],
            [
             0.4444444444444444,
             "#bd3786"
            ],
            [
             0.5555555555555556,
             "#d8576b"
            ],
            [
             0.6666666666666666,
             "#ed7953"
            ],
            [
             0.7777777777777778,
             "#fb9f3a"
            ],
            [
             0.8888888888888888,
             "#fdca26"
            ],
            [
             1,
             "#f0f921"
            ]
           ]
          },
          "colorway": [
           "#636efa",
           "#EF553B",
           "#00cc96",
           "#ab63fa",
           "#FFA15A",
           "#19d3f3",
           "#FF6692",
           "#B6E880",
           "#FF97FF",
           "#FECB52"
          ],
          "font": {
           "color": "#2a3f5f"
          },
          "geo": {
           "bgcolor": "white",
           "lakecolor": "white",
           "landcolor": "#E5ECF6",
           "showlakes": true,
           "showland": true,
           "subunitcolor": "white"
          },
          "hoverlabel": {
           "align": "left"
          },
          "hovermode": "closest",
          "mapbox": {
           "style": "light"
          },
          "paper_bgcolor": "white",
          "plot_bgcolor": "#E5ECF6",
          "polar": {
           "angularaxis": {
            "gridcolor": "white",
            "linecolor": "white",
            "ticks": ""
           },
           "bgcolor": "#E5ECF6",
           "radialaxis": {
            "gridcolor": "white",
            "linecolor": "white",
            "ticks": ""
           }
          },
          "scene": {
           "xaxis": {
            "backgroundcolor": "#E5ECF6",
            "gridcolor": "white",
            "gridwidth": 2,
            "linecolor": "white",
            "showbackground": true,
            "ticks": "",
            "zerolinecolor": "white"
           },
           "yaxis": {
            "backgroundcolor": "#E5ECF6",
            "gridcolor": "white",
            "gridwidth": 2,
            "linecolor": "white",
            "showbackground": true,
            "ticks": "",
            "zerolinecolor": "white"
           },
           "zaxis": {
            "backgroundcolor": "#E5ECF6",
            "gridcolor": "white",
            "gridwidth": 2,
            "linecolor": "white",
            "showbackground": true,
            "ticks": "",
            "zerolinecolor": "white"
           }
          },
          "shapedefaults": {
           "line": {
            "color": "#2a3f5f"
           }
          },
          "ternary": {
           "aaxis": {
            "gridcolor": "white",
            "linecolor": "white",
            "ticks": ""
           },
           "baxis": {
            "gridcolor": "white",
            "linecolor": "white",
            "ticks": ""
           },
           "bgcolor": "#E5ECF6",
           "caxis": {
            "gridcolor": "white",
            "linecolor": "white",
            "ticks": ""
           }
          },
          "title": {
           "x": 0.05
          },
          "xaxis": {
           "automargin": true,
           "gridcolor": "white",
           "linecolor": "white",
           "ticks": "",
           "title": {
            "standoff": 15
           },
           "zerolinecolor": "white",
           "zerolinewidth": 2
          },
          "yaxis": {
           "automargin": true,
           "gridcolor": "white",
           "linecolor": "white",
           "ticks": "",
           "title": {
            "standoff": 15
           },
           "zerolinecolor": "white",
           "zerolinewidth": 2
          }
         }
        },
        "title": {
         "text": "Maintainance Ratings Over Time"
        },
        "xaxis": {
         "title": {
          "text": "Maintainance Rating"
         }
        },
        "yaxis": {
         "title": {
          "text": "Time"
         }
        }
       }
      },
      "text/html": [
       "<div>                            <div id=\"482425dc-e7a9-4fd7-a335-649385626128\" class=\"plotly-graph-div\" style=\"height:525px; width:100%;\"></div>            <script type=\"text/javascript\">                require([\"plotly\"], function(Plotly) {                    window.PLOTLYENV=window.PLOTLYENV || {};                                    if (document.getElementById(\"482425dc-e7a9-4fd7-a335-649385626128\")) {                    Plotly.newPlot(                        \"482425dc-e7a9-4fd7-a335-649385626128\",                        [{\"line\":{\"color\":\"firebrick\",\"width\":4},\"x\":[\"4/15/2022 12:54:14\",\"4/16/2022 11:20:37\",\"4/16/2022 13:57:18\",\"4/16/2022 14:41:01\",\"4/17/2022 17:04:15\",\"4/18/2022 16:22:04\",\"4/19/2022 11:11:20\",\"4/19/2022 18:29:06\",\"4/20/2022 12:50:16\",\"4/20/2022 16:48:35\",\"4/20/2022 18:24:50\",\"4/20/2022 20:38:38\",\"4/21/2022 11:36:58\",\"4/21/2022 22:25:47\",\"4/23/2022 13:44:16\",\"4/24/2022 17:06:00\",\"4/25/2022 7:40:34\",\"4/25/2022 17:21:19\",\"4/26/2022 8:56:24\",\"4/27/2022 23:31:09\",\"5/1/2022 23:53:28\",\"5/2/2022 19:34:16\",\"5/3/2022 19:39:01\",\"5/4/2022 16:28:06\",\"5/5/2022 14:25:02\",\"5/6/2022 18:57:28\",\"5/7/2022 19:00:21\",\"5/7/2022 19:00:28\",\"5/7/2022 19:00:42\",\"5/8/2022 18:42:04\",\"5/9/2022 23:06:44\",\"5/10/2022 13:17:03\",\"5/15/2022 12:44:47\",\"5/17/2022 19:17:27\",\"5/24/2022 20:47:10\",\"5/24/2022 20:47:45\",\"5/26/2022 19:43:50\",\"5/29/2022 17:45:47\",\"6/2/2022 18:20:41\",\"6/5/2022 19:36:11\",\"6/11/2022 14:14:22\",\"4/15/2022 10:22:16\",\"4/15/2022 10:59:44\",\"4/15/2022 11:35:19\",\"4/15/2022 11:35:39\",\"4/15/2022 11:55:48\",\"4/15/2022 18:16:48\",\"4/15/2022 18:17:54\",\"4/16/2022 13:01:22\",\"4/16/2022 13:15:24\",\"4/16/2022 14:11:44\",\"4/16/2022 14:34:34\",\"4/16/2022 18:15:59\",\"4/16/2022 20:25:27\",\"4/17/2022 13:52:47\",\"4/17/2022 15:53:39\",\"4/17/2022 16:32:30\",\"4/18/2022 9:02:50\",\"4/18/2022 19:23:35\",\"4/18/2022 19:46:08\",\"4/18/2022 21:43:56\",\"4/19/2022 10:25:50\",\"4/19/2022 14:19:57\",\"4/19/2022 17:31:14\",\"4/19/2022 18:30:26\",\"4/20/2022 12:22:22\",\"4/20/2022 12:25:05\",\"4/20/2022 14:55:56\",\"4/20/2022 15:16:27\",\"4/20/2022 15:45:10\",\"4/20/2022 16:14:07\",\"4/20/2022 18:42:11\",\"4/21/2022 9:50:48\",\"4/21/2022 11:35:30\",\"4/21/2022 11:37:41\",\"4/22/2022 12:29:05\",\"4/22/2022 14:01:36\",\"4/22/2022 14:46:17\",\"4/22/2022 17:22:21\",\"4/22/2022 18:04:25\",\"4/22/2022 18:05:10\",\"4/23/2022 16:46:41\",\"4/24/2022 7:50:56\",\"4/24/2022 7:51:26\",\"4/24/2022 11:46:41\",\"4/24/2022 15:48:08\",\"4/25/2022 7:55:53\",\"4/25/2022 7:59:24\",\"4/25/2022 8:01:45\",\"4/25/2022 17:52:37\",\"4/26/2022 17:13:22\",\"4/29/2022 13:05:21\",\"4/29/2022 19:00:28\",\"4/30/2022 13:59:33\",\"5/3/2022 11:15:24\",\"5/3/2022 11:22:57\",\"5/3/2022 13:44:32\",\"5/4/2022 20:28:04\",\"5/5/2022 15:38:33\",\"5/7/2022 18:59:11\",\"5/7/2022 19:01:12\",\"5/8/2022 10:31:14\",\"5/9/2022 14:35:38\",\"5/9/2022 18:18:23\",\"5/9/2022 18:21:11\",\"5/10/2022 11:24:50\",\"5/10/2022 13:15:39\",\"5/10/2022 13:16:30\",\"5/10/2022 13:16:53\",\"5/12/2022 15:51:52\",\"5/13/2022 18:37:57\",\"5/14/2022 9:05:40\",\"5/16/2022 18:34:12\",\"5/17/2022 14:09:09\",\"5/19/2022 11:37:38\",\"5/19/2022 11:37:57\",\"5/19/2022 19:47:13\",\"5/21/2022 13:45:32\",\"5/22/2022 18:01:29\",\"5/22/2022 18:11:20\",\"5/23/2022 21:39:19\",\"5/25/2022 14:34:27\",\"5/25/2022 15:59:17\",\"5/25/2022 17:48:21\",\"5/26/2022 13:55:23\",\"5/29/2022 18:02:35\",\"5/29/2022 18:59:07\",\"5/31/2022 10:55:29\",\"6/2/2022 18:18:47\",\"6/3/2022 11:00:23\",\"6/3/2022 11:10:35\",\"6/3/2022 11:15:15\",\"6/4/2022 0:22:45\",\"6/4/2022 9:10:05\",\"6/4/2022 11:45:23\",\"6/9/2022 19:56:05\",\"6/11/2022 12:12:59\",\"6/12/2022 15:15:57\",\"6/16/2022 13:16:01\",\"6/18/2022 18:19:49\",\"6/19/2022 18:16:20\",\"6/20/2022 0:26:39\",\"6/20/2022 9:48:57\",\"6/20/2022 14:04:08\",\"6/23/2022 10:47:14\",\"6/24/2022 17:44:39\",\"6/24/2022 17:44:54\",\"6/25/2022 12:27:13\",\"6/26/2022 18:13:02\",\"6/29/2022 18:36:53\",\"6/30/2022 18:59:44\",\"6/30/2022 19:52:02\",\"7/1/2022 7:05:55\",\"7/1/2022 17:32:55\",\"7/3/2022 13:55:32\",\"7/3/2022 13:55:55\",\"7/3/2022 20:23:02\",\"7/4/2022 16:00:04\",\"7/4/2022 19:46:57\",\"7/5/2022 14:57:58\",\"7/5/2022 18:43:46\",\"7/6/2022 10:24:24\",\"7/6/2022 10:26:56\",\"7/6/2022 14:31:15\",\"7/6/2022 14:32:34\",\"7/9/2022 20:33:36\",\"7/13/2022 11:04:16\",\"7/14/2022 20:58:40\",\"7/16/2022 15:21:14\",\"7/17/2022 10:23:00\",\"7/17/2022 11:09:41\",\"7/17/2022 13:57:46\",\"7/17/2022 16:42:06\",\"7/17/2022 17:24:22\",\"7/20/2022 19:52:27\",\"7/21/2022 10:58:23\",\"7/21/2022 21:26:05\",\"7/23/2022 10:29:29\",\"8/6/2022 10:08:52\",\"8/6/2022 19:11:51\",\"8/6/2022 19:11:52\",\"8/11/2022 7:16:31\",\"8/11/2022 11:31:55\",\"8/14/2022 16:45:41\",\"8/17/2022 18:15:48\",\"8/20/2022 16:48:58\",\"8/21/2022 12:33:50\",\"8/23/2022 16:46:02\",\"8/24/2022 12:29:53\",\"8/24/2022 12:47:16\",\"8/24/2022 13:30:48\",\"8/24/2022 19:33:12\",\"8/25/2022 12:38:30\",\"8/25/2022 16:21:11\",\"8/25/2022 16:31:13\",\"8/27/2022 9:01:57\",\"8/27/2022 15:35:18\",\"8/27/2022 16:33:18\",\"8/27/2022 20:31:33\",\"8/27/2022 20:32:05\",\"8/28/2022 11:01:39\",\"8/29/2022 10:36:26\",\"8/30/2022 7:42:34\",\"8/30/2022 20:27:20\",\"8/30/2022 21:26:40\",\"8/30/2022 23:15:06\",\"8/31/2022 9:59:24\",\"8/31/2022 12:36:05\",\"8/31/2022 18:27:57\",\"9/1/2022 9:24:10\",\"9/1/2022 18:21:48\",\"9/3/2022 14:18:02\",\"9/3/2022 18:37:55\",\"9/4/2022 13:03:58\",\"9/4/2022 15:41:30\",\"9/5/2022 10:17:09\",\"9/6/2022 10:50:49\",\"9/6/2022 13:39:33\",\"9/6/2022 13:40:50\",\"9/6/2022 13:41:07\",\"9/7/2022 17:35:58\",\"9/8/2022 11:47:49\",\"9/8/2022 17:16:56\",\"9/11/2022 9:29:32\",\"9/11/2022 11:45:03\",\"9/11/2022 16:02:55\",\"9/11/2022 17:39:50\",\"9/12/2022 11:41:01\",\"9/12/2022 13:06:01\",\"9/12/2022 14:23:10\",\"9/13/2022 18:20:00\",\"9/14/2022 12:19:33\",\"9/17/2022 13:20:15\",\"9/17/2022 14:06:17\",\"9/18/2022 22:59:33\",\"9/19/2022 11:45:13\",\"9/21/2022 9:46:03\",\"9/21/2022 12:23:20\",\"9/22/2022 12:13:46\",\"9/22/2022 14:06:16\",\"9/23/2022 15:39:48\",\"9/23/2022 15:40:58\",\"9/23/2022 16:37:36\",\"9/24/2022 12:27:18\",\"9/24/2022 12:34:54\",\"9/25/2022 15:47:42\",\"9/26/2022 12:56:29\",\"9/27/2022 11:18:46\",\"10/1/2022 21:28:52\",\"10/2/2022 14:27:45\",\"10/2/2022 15:10:30\",\"10/5/2022 8:39:50\",\"10/5/2022 11:32:20\",\"10/5/2022 18:12:28\",\"10/6/2022 13:09:46\",\"10/6/2022 15:19:00\",\"10/8/2022 15:11:03\",\"10/8/2022 15:22:08\",\"10/9/2022 10:24:18\",\"10/10/2022 5:37:09\",\"10/12/2022 14:28:06\",\"10/14/2022 14:17:13\",\"10/15/2022 11:54:35\",\"10/15/2022 12:58:06\",\"10/16/2022 15:52:41\",\"10/16/2022 21:36:19\",\"10/17/2022 8:14:27\",\"10/17/2022 12:51:31\",\"10/17/2022 12:53:11\",\"10/19/2022 16:58:51\",\"10/23/2022 18:11:55\",\"10/26/2022 15:56:40\",\"10/26/2022 16:19:22\",\"10/28/2022 5:43:17\",\"11/4/2022 14:49:51\",\"11/5/2022 12:34:56\",\"11/7/2022 11:57:39\",\"11/10/2022 16:23:01\",\"11/14/2022 14:45:46\",\"11/21/2022 14:46:01\",\"11/23/2022 8:46:10\",\"11/24/2022 9:05:12\",\"11/24/2022 9:59:44\",\"11/24/2022 21:25:40\",\"11/27/2022 11:08:44\",\"11/27/2022 22:11:15\",\"12/5/2022 9:14:38\"],\"y\":[8,8,7,8,6,9,9,8,8,10,9,8,10,10,7,8,8,8,10,10,10,6,7,8,10,9,8,10,10,8,7,8,8,6,10,9,10,9,9,7,6,8,10,10,8,9,8,8,10,10,10,7,7,6,9,9,6,2,9,6,10,8,5,8,9,9,8,9,9,8,5,7,8,10,10,8,10,10,8,10,9,8,9,9,9,9,7,7,7,9,6,10,8,8,7,7,2,8,9,9,10,8,7,8,10,10,9,8,8,7,10,9,10,10,8,8,9,7,8,10,8,10,8,10,10,7,9,10,8,8,9,7,10,7,9,8,10,7,9,9,8,10,10,10,7,6,6,8,6,9,9,10,9,6,5,6,10,7,10,4,6,5,7,8,8,8,10,10,10,8,10,4,10,3,8,8,7,3,9,10,9,10,9,6,10,7,7,8,9,7,8,10,9,10,8,9,7,10,9,9,10,9,4,10,10,8,10,10,7,8,9,10,9,10,8,10,10,10,10,7,9,9,10,10,7,5,9,9,8,1,9,9,7,8,9,2,9,8,9,10,5,5,5,10,10,10,10,1,6,8,7,8,10,9,5,7,10,2,9,7,8,8,2,8,9,8,9,9,6,9,9,8,8,8,8,10,7,9,10,10,7,9,9,9,9,1,8],\"type\":\"scatter\"}],                        {\"template\":{\"data\":{\"histogram2dcontour\":[{\"type\":\"histogram2dcontour\",\"colorbar\":{\"outlinewidth\":0,\"ticks\":\"\"},\"colorscale\":[[0.0,\"#0d0887\"],[0.1111111111111111,\"#46039f\"],[0.2222222222222222,\"#7201a8\"],[0.3333333333333333,\"#9c179e\"],[0.4444444444444444,\"#bd3786\"],[0.5555555555555556,\"#d8576b\"],[0.6666666666666666,\"#ed7953\"],[0.7777777777777778,\"#fb9f3a\"],[0.8888888888888888,\"#fdca26\"],[1.0,\"#f0f921\"]]}],\"choropleth\":[{\"type\":\"choropleth\",\"colorbar\":{\"outlinewidth\":0,\"ticks\":\"\"}}],\"histogram2d\":[{\"type\":\"histogram2d\",\"colorbar\":{\"outlinewidth\":0,\"ticks\":\"\"},\"colorscale\":[[0.0,\"#0d0887\"],[0.1111111111111111,\"#46039f\"],[0.2222222222222222,\"#7201a8\"],[0.3333333333333333,\"#9c179e\"],[0.4444444444444444,\"#bd3786\"],[0.5555555555555556,\"#d8576b\"],[0.6666666666666666,\"#ed7953\"],[0.7777777777777778,\"#fb9f3a\"],[0.8888888888888888,\"#fdca26\"],[1.0,\"#f0f921\"]]}],\"heatmap\":[{\"type\":\"heatmap\",\"colorbar\":{\"outlinewidth\":0,\"ticks\":\"\"},\"colorscale\":[[0.0,\"#0d0887\"],[0.1111111111111111,\"#46039f\"],[0.2222222222222222,\"#7201a8\"],[0.3333333333333333,\"#9c179e\"],[0.4444444444444444,\"#bd3786\"],[0.5555555555555556,\"#d8576b\"],[0.6666666666666666,\"#ed7953\"],[0.7777777777777778,\"#fb9f3a\"],[0.8888888888888888,\"#fdca26\"],[1.0,\"#f0f921\"]]}],\"heatmapgl\":[{\"type\":\"heatmapgl\",\"colorbar\":{\"outlinewidth\":0,\"ticks\":\"\"},\"colorscale\":[[0.0,\"#0d0887\"],[0.1111111111111111,\"#46039f\"],[0.2222222222222222,\"#7201a8\"],[0.3333333333333333,\"#9c179e\"],[0.4444444444444444,\"#bd3786\"],[0.5555555555555556,\"#d8576b\"],[0.6666666666666666,\"#ed7953\"],[0.7777777777777778,\"#fb9f3a\"],[0.8888888888888888,\"#fdca26\"],[1.0,\"#f0f921\"]]}],\"contourcarpet\":[{\"type\":\"contourcarpet\",\"colorbar\":{\"outlinewidth\":0,\"ticks\":\"\"}}],\"contour\":[{\"type\":\"contour\",\"colorbar\":{\"outlinewidth\":0,\"ticks\":\"\"},\"colorscale\":[[0.0,\"#0d0887\"],[0.1111111111111111,\"#46039f\"],[0.2222222222222222,\"#7201a8\"],[0.3333333333333333,\"#9c179e\"],[0.4444444444444444,\"#bd3786\"],[0.5555555555555556,\"#d8576b\"],[0.6666666666666666,\"#ed7953\"],[0.7777777777777778,\"#fb9f3a\"],[0.8888888888888888,\"#fdca26\"],[1.0,\"#f0f921\"]]}],\"surface\":[{\"type\":\"surface\",\"colorbar\":{\"outlinewidth\":0,\"ticks\":\"\"},\"colorscale\":[[0.0,\"#0d0887\"],[0.1111111111111111,\"#46039f\"],[0.2222222222222222,\"#7201a8\"],[0.3333333333333333,\"#9c179e\"],[0.4444444444444444,\"#bd3786\"],[0.5555555555555556,\"#d8576b\"],[0.6666666666666666,\"#ed7953\"],[0.7777777777777778,\"#fb9f3a\"],[0.8888888888888888,\"#fdca26\"],[1.0,\"#f0f921\"]]}],\"mesh3d\":[{\"type\":\"mesh3d\",\"colorbar\":{\"outlinewidth\":0,\"ticks\":\"\"}}],\"scatter\":[{\"fillpattern\":{\"fillmode\":\"overlay\",\"size\":10,\"solidity\":0.2},\"type\":\"scatter\"}],\"parcoords\":[{\"type\":\"parcoords\",\"line\":{\"colorbar\":{\"outlinewidth\":0,\"ticks\":\"\"}}}],\"scatterpolargl\":[{\"type\":\"scatterpolargl\",\"marker\":{\"colorbar\":{\"outlinewidth\":0,\"ticks\":\"\"}}}],\"bar\":[{\"error_x\":{\"color\":\"#2a3f5f\"},\"error_y\":{\"color\":\"#2a3f5f\"},\"marker\":{\"line\":{\"color\":\"#E5ECF6\",\"width\":0.5},\"pattern\":{\"fillmode\":\"overlay\",\"size\":10,\"solidity\":0.2}},\"type\":\"bar\"}],\"scattergeo\":[{\"type\":\"scattergeo\",\"marker\":{\"colorbar\":{\"outlinewidth\":0,\"ticks\":\"\"}}}],\"scatterpolar\":[{\"type\":\"scatterpolar\",\"marker\":{\"colorbar\":{\"outlinewidth\":0,\"ticks\":\"\"}}}],\"histogram\":[{\"marker\":{\"pattern\":{\"fillmode\":\"overlay\",\"size\":10,\"solidity\":0.2}},\"type\":\"histogram\"}],\"scattergl\":[{\"type\":\"scattergl\",\"marker\":{\"colorbar\":{\"outlinewidth\":0,\"ticks\":\"\"}}}],\"scatter3d\":[{\"type\":\"scatter3d\",\"line\":{\"colorbar\":{\"outlinewidth\":0,\"ticks\":\"\"}},\"marker\":{\"colorbar\":{\"outlinewidth\":0,\"ticks\":\"\"}}}],\"scattermapbox\":[{\"type\":\"scattermapbox\",\"marker\":{\"colorbar\":{\"outlinewidth\":0,\"ticks\":\"\"}}}],\"scatterternary\":[{\"type\":\"scatterternary\",\"marker\":{\"colorbar\":{\"outlinewidth\":0,\"ticks\":\"\"}}}],\"scattercarpet\":[{\"type\":\"scattercarpet\",\"marker\":{\"colorbar\":{\"outlinewidth\":0,\"ticks\":\"\"}}}],\"carpet\":[{\"aaxis\":{\"endlinecolor\":\"#2a3f5f\",\"gridcolor\":\"white\",\"linecolor\":\"white\",\"minorgridcolor\":\"white\",\"startlinecolor\":\"#2a3f5f\"},\"baxis\":{\"endlinecolor\":\"#2a3f5f\",\"gridcolor\":\"white\",\"linecolor\":\"white\",\"minorgridcolor\":\"white\",\"startlinecolor\":\"#2a3f5f\"},\"type\":\"carpet\"}],\"table\":[{\"cells\":{\"fill\":{\"color\":\"#EBF0F8\"},\"line\":{\"color\":\"white\"}},\"header\":{\"fill\":{\"color\":\"#C8D4E3\"},\"line\":{\"color\":\"white\"}},\"type\":\"table\"}],\"barpolar\":[{\"marker\":{\"line\":{\"color\":\"#E5ECF6\",\"width\":0.5},\"pattern\":{\"fillmode\":\"overlay\",\"size\":10,\"solidity\":0.2}},\"type\":\"barpolar\"}],\"pie\":[{\"automargin\":true,\"type\":\"pie\"}]},\"layout\":{\"autotypenumbers\":\"strict\",\"colorway\":[\"#636efa\",\"#EF553B\",\"#00cc96\",\"#ab63fa\",\"#FFA15A\",\"#19d3f3\",\"#FF6692\",\"#B6E880\",\"#FF97FF\",\"#FECB52\"],\"font\":{\"color\":\"#2a3f5f\"},\"hovermode\":\"closest\",\"hoverlabel\":{\"align\":\"left\"},\"paper_bgcolor\":\"white\",\"plot_bgcolor\":\"#E5ECF6\",\"polar\":{\"bgcolor\":\"#E5ECF6\",\"angularaxis\":{\"gridcolor\":\"white\",\"linecolor\":\"white\",\"ticks\":\"\"},\"radialaxis\":{\"gridcolor\":\"white\",\"linecolor\":\"white\",\"ticks\":\"\"}},\"ternary\":{\"bgcolor\":\"#E5ECF6\",\"aaxis\":{\"gridcolor\":\"white\",\"linecolor\":\"white\",\"ticks\":\"\"},\"baxis\":{\"gridcolor\":\"white\",\"linecolor\":\"white\",\"ticks\":\"\"},\"caxis\":{\"gridcolor\":\"white\",\"linecolor\":\"white\",\"ticks\":\"\"}},\"coloraxis\":{\"colorbar\":{\"outlinewidth\":0,\"ticks\":\"\"}},\"colorscale\":{\"sequential\":[[0.0,\"#0d0887\"],[0.1111111111111111,\"#46039f\"],[0.2222222222222222,\"#7201a8\"],[0.3333333333333333,\"#9c179e\"],[0.4444444444444444,\"#bd3786\"],[0.5555555555555556,\"#d8576b\"],[0.6666666666666666,\"#ed7953\"],[0.7777777777777778,\"#fb9f3a\"],[0.8888888888888888,\"#fdca26\"],[1.0,\"#f0f921\"]],\"sequentialminus\":[[0.0,\"#0d0887\"],[0.1111111111111111,\"#46039f\"],[0.2222222222222222,\"#7201a8\"],[0.3333333333333333,\"#9c179e\"],[0.4444444444444444,\"#bd3786\"],[0.5555555555555556,\"#d8576b\"],[0.6666666666666666,\"#ed7953\"],[0.7777777777777778,\"#fb9f3a\"],[0.8888888888888888,\"#fdca26\"],[1.0,\"#f0f921\"]],\"diverging\":[[0,\"#8e0152\"],[0.1,\"#c51b7d\"],[0.2,\"#de77ae\"],[0.3,\"#f1b6da\"],[0.4,\"#fde0ef\"],[0.5,\"#f7f7f7\"],[0.6,\"#e6f5d0\"],[0.7,\"#b8e186\"],[0.8,\"#7fbc41\"],[0.9,\"#4d9221\"],[1,\"#276419\"]]},\"xaxis\":{\"gridcolor\":\"white\",\"linecolor\":\"white\",\"ticks\":\"\",\"title\":{\"standoff\":15},\"zerolinecolor\":\"white\",\"automargin\":true,\"zerolinewidth\":2},\"yaxis\":{\"gridcolor\":\"white\",\"linecolor\":\"white\",\"ticks\":\"\",\"title\":{\"standoff\":15},\"zerolinecolor\":\"white\",\"automargin\":true,\"zerolinewidth\":2},\"scene\":{\"xaxis\":{\"backgroundcolor\":\"#E5ECF6\",\"gridcolor\":\"white\",\"linecolor\":\"white\",\"showbackground\":true,\"ticks\":\"\",\"zerolinecolor\":\"white\",\"gridwidth\":2},\"yaxis\":{\"backgroundcolor\":\"#E5ECF6\",\"gridcolor\":\"white\",\"linecolor\":\"white\",\"showbackground\":true,\"ticks\":\"\",\"zerolinecolor\":\"white\",\"gridwidth\":2},\"zaxis\":{\"backgroundcolor\":\"#E5ECF6\",\"gridcolor\":\"white\",\"linecolor\":\"white\",\"showbackground\":true,\"ticks\":\"\",\"zerolinecolor\":\"white\",\"gridwidth\":2}},\"shapedefaults\":{\"line\":{\"color\":\"#2a3f5f\"}},\"annotationdefaults\":{\"arrowcolor\":\"#2a3f5f\",\"arrowhead\":0,\"arrowwidth\":1},\"geo\":{\"bgcolor\":\"white\",\"landcolor\":\"#E5ECF6\",\"subunitcolor\":\"white\",\"showland\":true,\"showlakes\":true,\"lakecolor\":\"white\"},\"title\":{\"x\":0.05},\"mapbox\":{\"style\":\"light\"}}},\"title\":{\"text\":\"Maintainance Ratings Over Time\"},\"xaxis\":{\"title\":{\"text\":\"Maintainance Rating\"}},\"yaxis\":{\"title\":{\"text\":\"Time\"}}},                        {\"responsive\": true}                    ).then(function(){\n",
       "                            \n",
       "var gd = document.getElementById('482425dc-e7a9-4fd7-a335-649385626128');\n",
       "var x = new MutationObserver(function (mutations, observer) {{\n",
       "        var display = window.getComputedStyle(gd).display;\n",
       "        if (!display || display === 'none') {{\n",
       "            console.log([gd, 'removed!']);\n",
       "            Plotly.purge(gd);\n",
       "            observer.disconnect();\n",
       "        }}\n",
       "}});\n",
       "\n",
       "// Listen for the removal of the full notebook cells\n",
       "var notebookContainer = gd.closest('#notebook-container');\n",
       "if (notebookContainer) {{\n",
       "    x.observe(notebookContainer, {childList: true});\n",
       "}}\n",
       "\n",
       "// Listen for the clearing of the current output cell\n",
       "var outputEl = gd.closest('.output');\n",
       "if (outputEl) {{\n",
       "    x.observe(outputEl, {childList: true});\n",
       "}}\n",
       "\n",
       "                        })                };                });            </script>        </div>"
      ]
     },
     "metadata": {},
     "output_type": "display_data"
    }
   ],
   "source": [
    "fig = go.Figure([go.Scatter(x = df['Timestamp'], y = df['On a scale of 1 to 10, with 1 being \"Very poorly\" and 10 being \"Very well\", how do you feel that the Park is maintained?'],\\\n",
    "                     line = dict(color = 'firebrick', width = 4))\n",
    "                     ])\n",
    "fig.update_layout(title = 'Maintainance Ratings Over Time',\n",
    "                  xaxis = dict(\n",
    "                      title = 'Maintainance Rating',\n",
    "#                       tickformat = '%d/%m',\n",
    "                  ),\n",
    "                  yaxis = dict(\n",
    "                      title = 'Time'\n",
    "                  ),\n",
    "                  \n",
    "                  )"
   ]
  },
  {
   "cell_type": "code",
   "execution_count": 52,
   "metadata": {},
   "outputs": [
    {
     "data": {
      "application/vnd.plotly.v1+json": {
       "config": {
        "plotlyServerURL": "https://plot.ly"
       },
       "data": [
        {
         "line": {
          "color": "firebrick",
          "width": 4
         },
         "name": "Google",
         "type": "scatter",
         "x": [
          "4/15/2022 12:54:14",
          "4/16/2022 11:20:37",
          "4/16/2022 13:57:18",
          "4/16/2022 14:41:01",
          "4/17/2022 17:04:15",
          "4/18/2022 16:22:04",
          "4/19/2022 11:11:20",
          "4/19/2022 18:29:06",
          "4/20/2022 12:50:16",
          "4/20/2022 16:48:35",
          "4/20/2022 18:24:50",
          "4/20/2022 20:38:38",
          "4/21/2022 11:36:58",
          "4/21/2022 22:25:47",
          "4/23/2022 13:44:16",
          "4/24/2022 17:06:00",
          "4/25/2022 7:40:34",
          "4/25/2022 17:21:19",
          "4/26/2022 8:56:24",
          "4/27/2022 23:31:09",
          "5/1/2022 23:53:28",
          "5/2/2022 19:34:16",
          "5/3/2022 19:39:01",
          "5/4/2022 16:28:06",
          "5/5/2022 14:25:02",
          "5/6/2022 18:57:28",
          "5/7/2022 19:00:21",
          "5/7/2022 19:00:28",
          "5/7/2022 19:00:42",
          "5/8/2022 18:42:04",
          "5/9/2022 23:06:44",
          "5/10/2022 13:17:03",
          "5/15/2022 12:44:47",
          "5/17/2022 19:17:27",
          "5/24/2022 20:47:10",
          "5/24/2022 20:47:45",
          "5/26/2022 19:43:50",
          "5/29/2022 17:45:47",
          "6/2/2022 18:20:41",
          "6/5/2022 19:36:11",
          "6/11/2022 14:14:22",
          "4/15/2022 10:22:16",
          "4/15/2022 10:59:44",
          "4/15/2022 11:35:19",
          "4/15/2022 11:35:39",
          "4/15/2022 11:55:48",
          "4/15/2022 18:16:48",
          "4/15/2022 18:17:54",
          "4/16/2022 13:01:22",
          "4/16/2022 13:15:24",
          "4/16/2022 14:11:44",
          "4/16/2022 14:34:34",
          "4/16/2022 18:15:59",
          "4/16/2022 20:25:27",
          "4/17/2022 13:52:47",
          "4/17/2022 15:53:39",
          "4/17/2022 16:32:30",
          "4/18/2022 9:02:50",
          "4/18/2022 19:23:35",
          "4/18/2022 19:46:08",
          "4/18/2022 21:43:56",
          "4/19/2022 10:25:50",
          "4/19/2022 14:19:57",
          "4/19/2022 17:31:14",
          "4/19/2022 18:30:26",
          "4/20/2022 12:22:22",
          "4/20/2022 12:25:05",
          "4/20/2022 14:55:56",
          "4/20/2022 15:16:27",
          "4/20/2022 15:45:10",
          "4/20/2022 16:14:07",
          "4/20/2022 18:42:11",
          "4/21/2022 9:50:48",
          "4/21/2022 11:35:30",
          "4/21/2022 11:37:41",
          "4/22/2022 12:29:05",
          "4/22/2022 14:01:36",
          "4/22/2022 14:46:17",
          "4/22/2022 17:22:21",
          "4/22/2022 18:04:25",
          "4/22/2022 18:05:10",
          "4/23/2022 16:46:41",
          "4/24/2022 7:50:56",
          "4/24/2022 7:51:26",
          "4/24/2022 11:46:41",
          "4/24/2022 15:48:08",
          "4/25/2022 7:55:53",
          "4/25/2022 7:59:24",
          "4/25/2022 8:01:45",
          "4/25/2022 17:52:37",
          "4/26/2022 17:13:22",
          "4/29/2022 13:05:21",
          "4/29/2022 19:00:28",
          "4/30/2022 13:59:33",
          "5/3/2022 11:15:24",
          "5/3/2022 11:22:57",
          "5/3/2022 13:44:32",
          "5/4/2022 20:28:04",
          "5/5/2022 15:38:33",
          "5/7/2022 18:59:11",
          "5/7/2022 19:01:12",
          "5/8/2022 10:31:14",
          "5/9/2022 14:35:38",
          "5/9/2022 18:18:23",
          "5/9/2022 18:21:11",
          "5/10/2022 11:24:50",
          "5/10/2022 13:15:39",
          "5/10/2022 13:16:30",
          "5/10/2022 13:16:53",
          "5/12/2022 15:51:52",
          "5/13/2022 18:37:57",
          "5/14/2022 9:05:40",
          "5/16/2022 18:34:12",
          "5/17/2022 14:09:09",
          "5/19/2022 11:37:38",
          "5/19/2022 11:37:57",
          "5/19/2022 19:47:13",
          "5/21/2022 13:45:32",
          "5/22/2022 18:01:29",
          "5/22/2022 18:11:20",
          "5/23/2022 21:39:19",
          "5/25/2022 14:34:27",
          "5/25/2022 15:59:17",
          "5/25/2022 17:48:21",
          "5/26/2022 13:55:23",
          "5/29/2022 18:02:35",
          "5/29/2022 18:59:07",
          "5/31/2022 10:55:29",
          "6/2/2022 18:18:47",
          "6/3/2022 11:00:23",
          "6/3/2022 11:10:35",
          "6/3/2022 11:15:15",
          "6/4/2022 0:22:45",
          "6/4/2022 9:10:05",
          "6/4/2022 11:45:23",
          "6/9/2022 19:56:05",
          "6/11/2022 12:12:59",
          "6/12/2022 15:15:57",
          "6/16/2022 13:16:01",
          "6/18/2022 18:19:49",
          "6/19/2022 18:16:20",
          "6/20/2022 0:26:39",
          "6/20/2022 9:48:57",
          "6/20/2022 14:04:08",
          "6/23/2022 10:47:14",
          "6/24/2022 17:44:39",
          "6/24/2022 17:44:54",
          "6/25/2022 12:27:13",
          "6/26/2022 18:13:02",
          "6/29/2022 18:36:53",
          "6/30/2022 18:59:44",
          "6/30/2022 19:52:02",
          "7/1/2022 7:05:55",
          "7/1/2022 17:32:55",
          "7/3/2022 13:55:32",
          "7/3/2022 13:55:55",
          "7/3/2022 20:23:02",
          "7/4/2022 16:00:04",
          "7/4/2022 19:46:57",
          "7/5/2022 14:57:58",
          "7/5/2022 18:43:46",
          "7/6/2022 10:24:24",
          "7/6/2022 10:26:56",
          "7/6/2022 14:31:15",
          "7/6/2022 14:32:34",
          "7/9/2022 20:33:36",
          "7/13/2022 11:04:16",
          "7/14/2022 20:58:40",
          "7/16/2022 15:21:14",
          "7/17/2022 10:23:00",
          "7/17/2022 11:09:41",
          "7/17/2022 13:57:46",
          "7/17/2022 16:42:06",
          "7/17/2022 17:24:22",
          "7/20/2022 19:52:27",
          "7/21/2022 10:58:23",
          "7/21/2022 21:26:05",
          "7/23/2022 10:29:29",
          "8/6/2022 10:08:52",
          "8/6/2022 19:11:51",
          "8/6/2022 19:11:52",
          "8/11/2022 7:16:31",
          "8/11/2022 11:31:55",
          "8/14/2022 16:45:41",
          "8/17/2022 18:15:48",
          "8/20/2022 16:48:58",
          "8/21/2022 12:33:50",
          "8/23/2022 16:46:02",
          "8/24/2022 12:29:53",
          "8/24/2022 12:47:16",
          "8/24/2022 13:30:48",
          "8/24/2022 19:33:12",
          "8/25/2022 12:38:30",
          "8/25/2022 16:21:11",
          "8/25/2022 16:31:13",
          "8/27/2022 9:01:57",
          "8/27/2022 15:35:18",
          "8/27/2022 16:33:18",
          "8/27/2022 20:31:33",
          "8/27/2022 20:32:05",
          "8/28/2022 11:01:39",
          "8/29/2022 10:36:26",
          "8/30/2022 7:42:34",
          "8/30/2022 20:27:20",
          "8/30/2022 21:26:40",
          "8/30/2022 23:15:06",
          "8/31/2022 9:59:24",
          "8/31/2022 12:36:05",
          "8/31/2022 18:27:57",
          "9/1/2022 9:24:10",
          "9/1/2022 18:21:48",
          "9/3/2022 14:18:02",
          "9/3/2022 18:37:55",
          "9/4/2022 13:03:58",
          "9/4/2022 15:41:30",
          "9/5/2022 10:17:09",
          "9/6/2022 10:50:49",
          "9/6/2022 13:39:33",
          "9/6/2022 13:40:50",
          "9/6/2022 13:41:07",
          "9/7/2022 17:35:58",
          "9/8/2022 11:47:49",
          "9/8/2022 17:16:56",
          "9/11/2022 9:29:32",
          "9/11/2022 11:45:03",
          "9/11/2022 16:02:55",
          "9/11/2022 17:39:50",
          "9/12/2022 11:41:01",
          "9/12/2022 13:06:01",
          "9/12/2022 14:23:10",
          "9/13/2022 18:20:00",
          "9/14/2022 12:19:33",
          "9/17/2022 13:20:15",
          "9/17/2022 14:06:17",
          "9/18/2022 22:59:33",
          "9/19/2022 11:45:13",
          "9/21/2022 9:46:03",
          "9/21/2022 12:23:20",
          "9/22/2022 12:13:46",
          "9/22/2022 14:06:16",
          "9/23/2022 15:39:48",
          "9/23/2022 15:40:58",
          "9/23/2022 16:37:36",
          "9/24/2022 12:27:18",
          "9/24/2022 12:34:54",
          "9/25/2022 15:47:42",
          "9/26/2022 12:56:29",
          "9/27/2022 11:18:46",
          "10/1/2022 21:28:52",
          "10/2/2022 14:27:45",
          "10/2/2022 15:10:30",
          "10/5/2022 8:39:50",
          "10/5/2022 11:32:20",
          "10/5/2022 18:12:28",
          "10/6/2022 13:09:46",
          "10/6/2022 15:19:00",
          "10/8/2022 15:11:03",
          "10/8/2022 15:22:08",
          "10/9/2022 10:24:18",
          "10/10/2022 5:37:09",
          "10/12/2022 14:28:06",
          "10/14/2022 14:17:13",
          "10/15/2022 11:54:35",
          "10/15/2022 12:58:06",
          "10/16/2022 15:52:41",
          "10/16/2022 21:36:19",
          "10/17/2022 8:14:27",
          "10/17/2022 12:51:31",
          "10/17/2022 12:53:11",
          "10/19/2022 16:58:51",
          "10/23/2022 18:11:55",
          "10/26/2022 15:56:40",
          "10/26/2022 16:19:22",
          "10/28/2022 5:43:17",
          "11/4/2022 14:49:51",
          "11/5/2022 12:34:56",
          "11/7/2022 11:57:39",
          "11/10/2022 16:23:01",
          "11/14/2022 14:45:46",
          "11/21/2022 14:46:01",
          "11/23/2022 8:46:10",
          "11/24/2022 9:05:12",
          "11/24/2022 9:59:44",
          "11/24/2022 21:25:40",
          "11/27/2022 11:08:44",
          "11/27/2022 22:11:15",
          "12/5/2022 9:14:38"
         ],
         "y": [
          9,
          10,
          8,
          10,
          9,
          8,
          10,
          7,
          8,
          10,
          8,
          8,
          10,
          10,
          10,
          8,
          8,
          8,
          10,
          10,
          10,
          10,
          10,
          8,
          8,
          9,
          10,
          10,
          10,
          7,
          9,
          10,
          10,
          8,
          7,
          9,
          10,
          7,
          10,
          9,
          5,
          10,
          10,
          7,
          7,
          9,
          10,
          10,
          10,
          8,
          10,
          9,
          7,
          6,
          10,
          9,
          8,
          5,
          10,
          7,
          10,
          7,
          9,
          9,
          8,
          6,
          6,
          10,
          8,
          7,
          10,
          7,
          7,
          10,
          10,
          10,
          10,
          10,
          10,
          10,
          10,
          8,
          9,
          10,
          8,
          9,
          6,
          7,
          6,
          9,
          6,
          10,
          8,
          10,
          9,
          9,
          7,
          10,
          10,
          10,
          9,
          7,
          10,
          8,
          9,
          10,
          9,
          8,
          10,
          8,
          10,
          9,
          5,
          9,
          7,
          7,
          7,
          7,
          10,
          8,
          8,
          10,
          9,
          10,
          10,
          10,
          9,
          10,
          9,
          8,
          10,
          7,
          10,
          9,
          8,
          7,
          9,
          7,
          7,
          10,
          7,
          10,
          9,
          10,
          8,
          6,
          4,
          8,
          6,
          10,
          9,
          10,
          9,
          8,
          7,
          10,
          10,
          9,
          7,
          9,
          8,
          5,
          7,
          7,
          7,
          6,
          10,
          8,
          10,
          9,
          9,
          7,
          9,
          9,
          8,
          7,
          9,
          8,
          10,
          10,
          10,
          10,
          10,
          7,
          10,
          7,
          10,
          8,
          7,
          8,
          7,
          10,
          10,
          10,
          8,
          9,
          10,
          9,
          9,
          10,
          9,
          10,
          3,
          10,
          8,
          5,
          10,
          8,
          8,
          6,
          7,
          10,
          9,
          10,
          8,
          10,
          8,
          10,
          10,
          7,
          9,
          9,
          10,
          7,
          8,
          7,
          9,
          5,
          8,
          10,
          10,
          8,
          9,
          8,
          9,
          5,
          9,
          9,
          10,
          10,
          7,
          8,
          7,
          10,
          10,
          10,
          10,
          1,
          6,
          8,
          8,
          9,
          10,
          8,
          7,
          6,
          8,
          5,
          10,
          10,
          9,
          6,
          8,
          9,
          10,
          8,
          9,
          9,
          7,
          9,
          10,
          10,
          10,
          8,
          10,
          10,
          7,
          9,
          10,
          10,
          6,
          9,
          9,
          9,
          9,
          6,
          9
         ]
        }
       ],
       "layout": {
        "template": {
         "data": {
          "bar": [
           {
            "error_x": {
             "color": "#2a3f5f"
            },
            "error_y": {
             "color": "#2a3f5f"
            },
            "marker": {
             "line": {
              "color": "#E5ECF6",
              "width": 0.5
             },
             "pattern": {
              "fillmode": "overlay",
              "size": 10,
              "solidity": 0.2
             }
            },
            "type": "bar"
           }
          ],
          "barpolar": [
           {
            "marker": {
             "line": {
              "color": "#E5ECF6",
              "width": 0.5
             },
             "pattern": {
              "fillmode": "overlay",
              "size": 10,
              "solidity": 0.2
             }
            },
            "type": "barpolar"
           }
          ],
          "carpet": [
           {
            "aaxis": {
             "endlinecolor": "#2a3f5f",
             "gridcolor": "white",
             "linecolor": "white",
             "minorgridcolor": "white",
             "startlinecolor": "#2a3f5f"
            },
            "baxis": {
             "endlinecolor": "#2a3f5f",
             "gridcolor": "white",
             "linecolor": "white",
             "minorgridcolor": "white",
             "startlinecolor": "#2a3f5f"
            },
            "type": "carpet"
           }
          ],
          "choropleth": [
           {
            "colorbar": {
             "outlinewidth": 0,
             "ticks": ""
            },
            "type": "choropleth"
           }
          ],
          "contour": [
           {
            "colorbar": {
             "outlinewidth": 0,
             "ticks": ""
            },
            "colorscale": [
             [
              0,
              "#0d0887"
             ],
             [
              0.1111111111111111,
              "#46039f"
             ],
             [
              0.2222222222222222,
              "#7201a8"
             ],
             [
              0.3333333333333333,
              "#9c179e"
             ],
             [
              0.4444444444444444,
              "#bd3786"
             ],
             [
              0.5555555555555556,
              "#d8576b"
             ],
             [
              0.6666666666666666,
              "#ed7953"
             ],
             [
              0.7777777777777778,
              "#fb9f3a"
             ],
             [
              0.8888888888888888,
              "#fdca26"
             ],
             [
              1,
              "#f0f921"
             ]
            ],
            "type": "contour"
           }
          ],
          "contourcarpet": [
           {
            "colorbar": {
             "outlinewidth": 0,
             "ticks": ""
            },
            "type": "contourcarpet"
           }
          ],
          "heatmap": [
           {
            "colorbar": {
             "outlinewidth": 0,
             "ticks": ""
            },
            "colorscale": [
             [
              0,
              "#0d0887"
             ],
             [
              0.1111111111111111,
              "#46039f"
             ],
             [
              0.2222222222222222,
              "#7201a8"
             ],
             [
              0.3333333333333333,
              "#9c179e"
             ],
             [
              0.4444444444444444,
              "#bd3786"
             ],
             [
              0.5555555555555556,
              "#d8576b"
             ],
             [
              0.6666666666666666,
              "#ed7953"
             ],
             [
              0.7777777777777778,
              "#fb9f3a"
             ],
             [
              0.8888888888888888,
              "#fdca26"
             ],
             [
              1,
              "#f0f921"
             ]
            ],
            "type": "heatmap"
           }
          ],
          "heatmapgl": [
           {
            "colorbar": {
             "outlinewidth": 0,
             "ticks": ""
            },
            "colorscale": [
             [
              0,
              "#0d0887"
             ],
             [
              0.1111111111111111,
              "#46039f"
             ],
             [
              0.2222222222222222,
              "#7201a8"
             ],
             [
              0.3333333333333333,
              "#9c179e"
             ],
             [
              0.4444444444444444,
              "#bd3786"
             ],
             [
              0.5555555555555556,
              "#d8576b"
             ],
             [
              0.6666666666666666,
              "#ed7953"
             ],
             [
              0.7777777777777778,
              "#fb9f3a"
             ],
             [
              0.8888888888888888,
              "#fdca26"
             ],
             [
              1,
              "#f0f921"
             ]
            ],
            "type": "heatmapgl"
           }
          ],
          "histogram": [
           {
            "marker": {
             "pattern": {
              "fillmode": "overlay",
              "size": 10,
              "solidity": 0.2
             }
            },
            "type": "histogram"
           }
          ],
          "histogram2d": [
           {
            "colorbar": {
             "outlinewidth": 0,
             "ticks": ""
            },
            "colorscale": [
             [
              0,
              "#0d0887"
             ],
             [
              0.1111111111111111,
              "#46039f"
             ],
             [
              0.2222222222222222,
              "#7201a8"
             ],
             [
              0.3333333333333333,
              "#9c179e"
             ],
             [
              0.4444444444444444,
              "#bd3786"
             ],
             [
              0.5555555555555556,
              "#d8576b"
             ],
             [
              0.6666666666666666,
              "#ed7953"
             ],
             [
              0.7777777777777778,
              "#fb9f3a"
             ],
             [
              0.8888888888888888,
              "#fdca26"
             ],
             [
              1,
              "#f0f921"
             ]
            ],
            "type": "histogram2d"
           }
          ],
          "histogram2dcontour": [
           {
            "colorbar": {
             "outlinewidth": 0,
             "ticks": ""
            },
            "colorscale": [
             [
              0,
              "#0d0887"
             ],
             [
              0.1111111111111111,
              "#46039f"
             ],
             [
              0.2222222222222222,
              "#7201a8"
             ],
             [
              0.3333333333333333,
              "#9c179e"
             ],
             [
              0.4444444444444444,
              "#bd3786"
             ],
             [
              0.5555555555555556,
              "#d8576b"
             ],
             [
              0.6666666666666666,
              "#ed7953"
             ],
             [
              0.7777777777777778,
              "#fb9f3a"
             ],
             [
              0.8888888888888888,
              "#fdca26"
             ],
             [
              1,
              "#f0f921"
             ]
            ],
            "type": "histogram2dcontour"
           }
          ],
          "mesh3d": [
           {
            "colorbar": {
             "outlinewidth": 0,
             "ticks": ""
            },
            "type": "mesh3d"
           }
          ],
          "parcoords": [
           {
            "line": {
             "colorbar": {
              "outlinewidth": 0,
              "ticks": ""
             }
            },
            "type": "parcoords"
           }
          ],
          "pie": [
           {
            "automargin": true,
            "type": "pie"
           }
          ],
          "scatter": [
           {
            "fillpattern": {
             "fillmode": "overlay",
             "size": 10,
             "solidity": 0.2
            },
            "type": "scatter"
           }
          ],
          "scatter3d": [
           {
            "line": {
             "colorbar": {
              "outlinewidth": 0,
              "ticks": ""
             }
            },
            "marker": {
             "colorbar": {
              "outlinewidth": 0,
              "ticks": ""
             }
            },
            "type": "scatter3d"
           }
          ],
          "scattercarpet": [
           {
            "marker": {
             "colorbar": {
              "outlinewidth": 0,
              "ticks": ""
             }
            },
            "type": "scattercarpet"
           }
          ],
          "scattergeo": [
           {
            "marker": {
             "colorbar": {
              "outlinewidth": 0,
              "ticks": ""
             }
            },
            "type": "scattergeo"
           }
          ],
          "scattergl": [
           {
            "marker": {
             "colorbar": {
              "outlinewidth": 0,
              "ticks": ""
             }
            },
            "type": "scattergl"
           }
          ],
          "scattermapbox": [
           {
            "marker": {
             "colorbar": {
              "outlinewidth": 0,
              "ticks": ""
             }
            },
            "type": "scattermapbox"
           }
          ],
          "scatterpolar": [
           {
            "marker": {
             "colorbar": {
              "outlinewidth": 0,
              "ticks": ""
             }
            },
            "type": "scatterpolar"
           }
          ],
          "scatterpolargl": [
           {
            "marker": {
             "colorbar": {
              "outlinewidth": 0,
              "ticks": ""
             }
            },
            "type": "scatterpolargl"
           }
          ],
          "scatterternary": [
           {
            "marker": {
             "colorbar": {
              "outlinewidth": 0,
              "ticks": ""
             }
            },
            "type": "scatterternary"
           }
          ],
          "surface": [
           {
            "colorbar": {
             "outlinewidth": 0,
             "ticks": ""
            },
            "colorscale": [
             [
              0,
              "#0d0887"
             ],
             [
              0.1111111111111111,
              "#46039f"
             ],
             [
              0.2222222222222222,
              "#7201a8"
             ],
             [
              0.3333333333333333,
              "#9c179e"
             ],
             [
              0.4444444444444444,
              "#bd3786"
             ],
             [
              0.5555555555555556,
              "#d8576b"
             ],
             [
              0.6666666666666666,
              "#ed7953"
             ],
             [
              0.7777777777777778,
              "#fb9f3a"
             ],
             [
              0.8888888888888888,
              "#fdca26"
             ],
             [
              1,
              "#f0f921"
             ]
            ],
            "type": "surface"
           }
          ],
          "table": [
           {
            "cells": {
             "fill": {
              "color": "#EBF0F8"
             },
             "line": {
              "color": "white"
             }
            },
            "header": {
             "fill": {
              "color": "#C8D4E3"
             },
             "line": {
              "color": "white"
             }
            },
            "type": "table"
           }
          ]
         },
         "layout": {
          "annotationdefaults": {
           "arrowcolor": "#2a3f5f",
           "arrowhead": 0,
           "arrowwidth": 1
          },
          "autotypenumbers": "strict",
          "coloraxis": {
           "colorbar": {
            "outlinewidth": 0,
            "ticks": ""
           }
          },
          "colorscale": {
           "diverging": [
            [
             0,
             "#8e0152"
            ],
            [
             0.1,
             "#c51b7d"
            ],
            [
             0.2,
             "#de77ae"
            ],
            [
             0.3,
             "#f1b6da"
            ],
            [
             0.4,
             "#fde0ef"
            ],
            [
             0.5,
             "#f7f7f7"
            ],
            [
             0.6,
             "#e6f5d0"
            ],
            [
             0.7,
             "#b8e186"
            ],
            [
             0.8,
             "#7fbc41"
            ],
            [
             0.9,
             "#4d9221"
            ],
            [
             1,
             "#276419"
            ]
           ],
           "sequential": [
            [
             0,
             "#0d0887"
            ],
            [
             0.1111111111111111,
             "#46039f"
            ],
            [
             0.2222222222222222,
             "#7201a8"
            ],
            [
             0.3333333333333333,
             "#9c179e"
            ],
            [
             0.4444444444444444,
             "#bd3786"
            ],
            [
             0.5555555555555556,
             "#d8576b"
            ],
            [
             0.6666666666666666,
             "#ed7953"
            ],
            [
             0.7777777777777778,
             "#fb9f3a"
            ],
            [
             0.8888888888888888,
             "#fdca26"
            ],
            [
             1,
             "#f0f921"
            ]
           ],
           "sequentialminus": [
            [
             0,
             "#0d0887"
            ],
            [
             0.1111111111111111,
             "#46039f"
            ],
            [
             0.2222222222222222,
             "#7201a8"
            ],
            [
             0.3333333333333333,
             "#9c179e"
            ],
            [
             0.4444444444444444,
             "#bd3786"
            ],
            [
             0.5555555555555556,
             "#d8576b"
            ],
            [
             0.6666666666666666,
             "#ed7953"
            ],
            [
             0.7777777777777778,
             "#fb9f3a"
            ],
            [
             0.8888888888888888,
             "#fdca26"
            ],
            [
             1,
             "#f0f921"
            ]
           ]
          },
          "colorway": [
           "#636efa",
           "#EF553B",
           "#00cc96",
           "#ab63fa",
           "#FFA15A",
           "#19d3f3",
           "#FF6692",
           "#B6E880",
           "#FF97FF",
           "#FECB52"
          ],
          "font": {
           "color": "#2a3f5f"
          },
          "geo": {
           "bgcolor": "white",
           "lakecolor": "white",
           "landcolor": "#E5ECF6",
           "showlakes": true,
           "showland": true,
           "subunitcolor": "white"
          },
          "hoverlabel": {
           "align": "left"
          },
          "hovermode": "closest",
          "mapbox": {
           "style": "light"
          },
          "paper_bgcolor": "white",
          "plot_bgcolor": "#E5ECF6",
          "polar": {
           "angularaxis": {
            "gridcolor": "white",
            "linecolor": "white",
            "ticks": ""
           },
           "bgcolor": "#E5ECF6",
           "radialaxis": {
            "gridcolor": "white",
            "linecolor": "white",
            "ticks": ""
           }
          },
          "scene": {
           "xaxis": {
            "backgroundcolor": "#E5ECF6",
            "gridcolor": "white",
            "gridwidth": 2,
            "linecolor": "white",
            "showbackground": true,
            "ticks": "",
            "zerolinecolor": "white"
           },
           "yaxis": {
            "backgroundcolor": "#E5ECF6",
            "gridcolor": "white",
            "gridwidth": 2,
            "linecolor": "white",
            "showbackground": true,
            "ticks": "",
            "zerolinecolor": "white"
           },
           "zaxis": {
            "backgroundcolor": "#E5ECF6",
            "gridcolor": "white",
            "gridwidth": 2,
            "linecolor": "white",
            "showbackground": true,
            "ticks": "",
            "zerolinecolor": "white"
           }
          },
          "shapedefaults": {
           "line": {
            "color": "#2a3f5f"
           }
          },
          "ternary": {
           "aaxis": {
            "gridcolor": "white",
            "linecolor": "white",
            "ticks": ""
           },
           "baxis": {
            "gridcolor": "white",
            "linecolor": "white",
            "ticks": ""
           },
           "bgcolor": "#E5ECF6",
           "caxis": {
            "gridcolor": "white",
            "linecolor": "white",
            "ticks": ""
           }
          },
          "title": {
           "x": 0.05
          },
          "xaxis": {
           "automargin": true,
           "gridcolor": "white",
           "linecolor": "white",
           "ticks": "",
           "title": {
            "standoff": 15
           },
           "zerolinecolor": "white",
           "zerolinewidth": 2
          },
          "yaxis": {
           "automargin": true,
           "gridcolor": "white",
           "linecolor": "white",
           "ticks": "",
           "title": {
            "standoff": 15
           },
           "zerolinecolor": "white",
           "zerolinewidth": 2
          }
         }
        },
        "title": {
         "text": "Safety Ratings Over Time"
        },
        "xaxis": {
         "title": {
          "text": "Maintainance Rating"
         }
        },
        "yaxis": {
         "title": {
          "text": "Time"
         }
        }
       }
      },
      "text/html": [
       "<div>                            <div id=\"a0ff0f4e-58f4-497f-9d62-223552b63262\" class=\"plotly-graph-div\" style=\"height:525px; width:100%;\"></div>            <script type=\"text/javascript\">                require([\"plotly\"], function(Plotly) {                    window.PLOTLYENV=window.PLOTLYENV || {};                                    if (document.getElementById(\"a0ff0f4e-58f4-497f-9d62-223552b63262\")) {                    Plotly.newPlot(                        \"a0ff0f4e-58f4-497f-9d62-223552b63262\",                        [{\"line\":{\"color\":\"firebrick\",\"width\":4},\"name\":\"Google\",\"x\":[\"4/15/2022 12:54:14\",\"4/16/2022 11:20:37\",\"4/16/2022 13:57:18\",\"4/16/2022 14:41:01\",\"4/17/2022 17:04:15\",\"4/18/2022 16:22:04\",\"4/19/2022 11:11:20\",\"4/19/2022 18:29:06\",\"4/20/2022 12:50:16\",\"4/20/2022 16:48:35\",\"4/20/2022 18:24:50\",\"4/20/2022 20:38:38\",\"4/21/2022 11:36:58\",\"4/21/2022 22:25:47\",\"4/23/2022 13:44:16\",\"4/24/2022 17:06:00\",\"4/25/2022 7:40:34\",\"4/25/2022 17:21:19\",\"4/26/2022 8:56:24\",\"4/27/2022 23:31:09\",\"5/1/2022 23:53:28\",\"5/2/2022 19:34:16\",\"5/3/2022 19:39:01\",\"5/4/2022 16:28:06\",\"5/5/2022 14:25:02\",\"5/6/2022 18:57:28\",\"5/7/2022 19:00:21\",\"5/7/2022 19:00:28\",\"5/7/2022 19:00:42\",\"5/8/2022 18:42:04\",\"5/9/2022 23:06:44\",\"5/10/2022 13:17:03\",\"5/15/2022 12:44:47\",\"5/17/2022 19:17:27\",\"5/24/2022 20:47:10\",\"5/24/2022 20:47:45\",\"5/26/2022 19:43:50\",\"5/29/2022 17:45:47\",\"6/2/2022 18:20:41\",\"6/5/2022 19:36:11\",\"6/11/2022 14:14:22\",\"4/15/2022 10:22:16\",\"4/15/2022 10:59:44\",\"4/15/2022 11:35:19\",\"4/15/2022 11:35:39\",\"4/15/2022 11:55:48\",\"4/15/2022 18:16:48\",\"4/15/2022 18:17:54\",\"4/16/2022 13:01:22\",\"4/16/2022 13:15:24\",\"4/16/2022 14:11:44\",\"4/16/2022 14:34:34\",\"4/16/2022 18:15:59\",\"4/16/2022 20:25:27\",\"4/17/2022 13:52:47\",\"4/17/2022 15:53:39\",\"4/17/2022 16:32:30\",\"4/18/2022 9:02:50\",\"4/18/2022 19:23:35\",\"4/18/2022 19:46:08\",\"4/18/2022 21:43:56\",\"4/19/2022 10:25:50\",\"4/19/2022 14:19:57\",\"4/19/2022 17:31:14\",\"4/19/2022 18:30:26\",\"4/20/2022 12:22:22\",\"4/20/2022 12:25:05\",\"4/20/2022 14:55:56\",\"4/20/2022 15:16:27\",\"4/20/2022 15:45:10\",\"4/20/2022 16:14:07\",\"4/20/2022 18:42:11\",\"4/21/2022 9:50:48\",\"4/21/2022 11:35:30\",\"4/21/2022 11:37:41\",\"4/22/2022 12:29:05\",\"4/22/2022 14:01:36\",\"4/22/2022 14:46:17\",\"4/22/2022 17:22:21\",\"4/22/2022 18:04:25\",\"4/22/2022 18:05:10\",\"4/23/2022 16:46:41\",\"4/24/2022 7:50:56\",\"4/24/2022 7:51:26\",\"4/24/2022 11:46:41\",\"4/24/2022 15:48:08\",\"4/25/2022 7:55:53\",\"4/25/2022 7:59:24\",\"4/25/2022 8:01:45\",\"4/25/2022 17:52:37\",\"4/26/2022 17:13:22\",\"4/29/2022 13:05:21\",\"4/29/2022 19:00:28\",\"4/30/2022 13:59:33\",\"5/3/2022 11:15:24\",\"5/3/2022 11:22:57\",\"5/3/2022 13:44:32\",\"5/4/2022 20:28:04\",\"5/5/2022 15:38:33\",\"5/7/2022 18:59:11\",\"5/7/2022 19:01:12\",\"5/8/2022 10:31:14\",\"5/9/2022 14:35:38\",\"5/9/2022 18:18:23\",\"5/9/2022 18:21:11\",\"5/10/2022 11:24:50\",\"5/10/2022 13:15:39\",\"5/10/2022 13:16:30\",\"5/10/2022 13:16:53\",\"5/12/2022 15:51:52\",\"5/13/2022 18:37:57\",\"5/14/2022 9:05:40\",\"5/16/2022 18:34:12\",\"5/17/2022 14:09:09\",\"5/19/2022 11:37:38\",\"5/19/2022 11:37:57\",\"5/19/2022 19:47:13\",\"5/21/2022 13:45:32\",\"5/22/2022 18:01:29\",\"5/22/2022 18:11:20\",\"5/23/2022 21:39:19\",\"5/25/2022 14:34:27\",\"5/25/2022 15:59:17\",\"5/25/2022 17:48:21\",\"5/26/2022 13:55:23\",\"5/29/2022 18:02:35\",\"5/29/2022 18:59:07\",\"5/31/2022 10:55:29\",\"6/2/2022 18:18:47\",\"6/3/2022 11:00:23\",\"6/3/2022 11:10:35\",\"6/3/2022 11:15:15\",\"6/4/2022 0:22:45\",\"6/4/2022 9:10:05\",\"6/4/2022 11:45:23\",\"6/9/2022 19:56:05\",\"6/11/2022 12:12:59\",\"6/12/2022 15:15:57\",\"6/16/2022 13:16:01\",\"6/18/2022 18:19:49\",\"6/19/2022 18:16:20\",\"6/20/2022 0:26:39\",\"6/20/2022 9:48:57\",\"6/20/2022 14:04:08\",\"6/23/2022 10:47:14\",\"6/24/2022 17:44:39\",\"6/24/2022 17:44:54\",\"6/25/2022 12:27:13\",\"6/26/2022 18:13:02\",\"6/29/2022 18:36:53\",\"6/30/2022 18:59:44\",\"6/30/2022 19:52:02\",\"7/1/2022 7:05:55\",\"7/1/2022 17:32:55\",\"7/3/2022 13:55:32\",\"7/3/2022 13:55:55\",\"7/3/2022 20:23:02\",\"7/4/2022 16:00:04\",\"7/4/2022 19:46:57\",\"7/5/2022 14:57:58\",\"7/5/2022 18:43:46\",\"7/6/2022 10:24:24\",\"7/6/2022 10:26:56\",\"7/6/2022 14:31:15\",\"7/6/2022 14:32:34\",\"7/9/2022 20:33:36\",\"7/13/2022 11:04:16\",\"7/14/2022 20:58:40\",\"7/16/2022 15:21:14\",\"7/17/2022 10:23:00\",\"7/17/2022 11:09:41\",\"7/17/2022 13:57:46\",\"7/17/2022 16:42:06\",\"7/17/2022 17:24:22\",\"7/20/2022 19:52:27\",\"7/21/2022 10:58:23\",\"7/21/2022 21:26:05\",\"7/23/2022 10:29:29\",\"8/6/2022 10:08:52\",\"8/6/2022 19:11:51\",\"8/6/2022 19:11:52\",\"8/11/2022 7:16:31\",\"8/11/2022 11:31:55\",\"8/14/2022 16:45:41\",\"8/17/2022 18:15:48\",\"8/20/2022 16:48:58\",\"8/21/2022 12:33:50\",\"8/23/2022 16:46:02\",\"8/24/2022 12:29:53\",\"8/24/2022 12:47:16\",\"8/24/2022 13:30:48\",\"8/24/2022 19:33:12\",\"8/25/2022 12:38:30\",\"8/25/2022 16:21:11\",\"8/25/2022 16:31:13\",\"8/27/2022 9:01:57\",\"8/27/2022 15:35:18\",\"8/27/2022 16:33:18\",\"8/27/2022 20:31:33\",\"8/27/2022 20:32:05\",\"8/28/2022 11:01:39\",\"8/29/2022 10:36:26\",\"8/30/2022 7:42:34\",\"8/30/2022 20:27:20\",\"8/30/2022 21:26:40\",\"8/30/2022 23:15:06\",\"8/31/2022 9:59:24\",\"8/31/2022 12:36:05\",\"8/31/2022 18:27:57\",\"9/1/2022 9:24:10\",\"9/1/2022 18:21:48\",\"9/3/2022 14:18:02\",\"9/3/2022 18:37:55\",\"9/4/2022 13:03:58\",\"9/4/2022 15:41:30\",\"9/5/2022 10:17:09\",\"9/6/2022 10:50:49\",\"9/6/2022 13:39:33\",\"9/6/2022 13:40:50\",\"9/6/2022 13:41:07\",\"9/7/2022 17:35:58\",\"9/8/2022 11:47:49\",\"9/8/2022 17:16:56\",\"9/11/2022 9:29:32\",\"9/11/2022 11:45:03\",\"9/11/2022 16:02:55\",\"9/11/2022 17:39:50\",\"9/12/2022 11:41:01\",\"9/12/2022 13:06:01\",\"9/12/2022 14:23:10\",\"9/13/2022 18:20:00\",\"9/14/2022 12:19:33\",\"9/17/2022 13:20:15\",\"9/17/2022 14:06:17\",\"9/18/2022 22:59:33\",\"9/19/2022 11:45:13\",\"9/21/2022 9:46:03\",\"9/21/2022 12:23:20\",\"9/22/2022 12:13:46\",\"9/22/2022 14:06:16\",\"9/23/2022 15:39:48\",\"9/23/2022 15:40:58\",\"9/23/2022 16:37:36\",\"9/24/2022 12:27:18\",\"9/24/2022 12:34:54\",\"9/25/2022 15:47:42\",\"9/26/2022 12:56:29\",\"9/27/2022 11:18:46\",\"10/1/2022 21:28:52\",\"10/2/2022 14:27:45\",\"10/2/2022 15:10:30\",\"10/5/2022 8:39:50\",\"10/5/2022 11:32:20\",\"10/5/2022 18:12:28\",\"10/6/2022 13:09:46\",\"10/6/2022 15:19:00\",\"10/8/2022 15:11:03\",\"10/8/2022 15:22:08\",\"10/9/2022 10:24:18\",\"10/10/2022 5:37:09\",\"10/12/2022 14:28:06\",\"10/14/2022 14:17:13\",\"10/15/2022 11:54:35\",\"10/15/2022 12:58:06\",\"10/16/2022 15:52:41\",\"10/16/2022 21:36:19\",\"10/17/2022 8:14:27\",\"10/17/2022 12:51:31\",\"10/17/2022 12:53:11\",\"10/19/2022 16:58:51\",\"10/23/2022 18:11:55\",\"10/26/2022 15:56:40\",\"10/26/2022 16:19:22\",\"10/28/2022 5:43:17\",\"11/4/2022 14:49:51\",\"11/5/2022 12:34:56\",\"11/7/2022 11:57:39\",\"11/10/2022 16:23:01\",\"11/14/2022 14:45:46\",\"11/21/2022 14:46:01\",\"11/23/2022 8:46:10\",\"11/24/2022 9:05:12\",\"11/24/2022 9:59:44\",\"11/24/2022 21:25:40\",\"11/27/2022 11:08:44\",\"11/27/2022 22:11:15\",\"12/5/2022 9:14:38\"],\"y\":[9,10,8,10,9,8,10,7,8,10,8,8,10,10,10,8,8,8,10,10,10,10,10,8,8,9,10,10,10,7,9,10,10,8,7,9,10,7,10,9,5,10,10,7,7,9,10,10,10,8,10,9,7,6,10,9,8,5,10,7,10,7,9,9,8,6,6,10,8,7,10,7,7,10,10,10,10,10,10,10,10,8,9,10,8,9,6,7,6,9,6,10,8,10,9,9,7,10,10,10,9,7,10,8,9,10,9,8,10,8,10,9,5,9,7,7,7,7,10,8,8,10,9,10,10,10,9,10,9,8,10,7,10,9,8,7,9,7,7,10,7,10,9,10,8,6,4,8,6,10,9,10,9,8,7,10,10,9,7,9,8,5,7,7,7,6,10,8,10,9,9,7,9,9,8,7,9,8,10,10,10,10,10,7,10,7,10,8,7,8,7,10,10,10,8,9,10,9,9,10,9,10,3,10,8,5,10,8,8,6,7,10,9,10,8,10,8,10,10,7,9,9,10,7,8,7,9,5,8,10,10,8,9,8,9,5,9,9,10,10,7,8,7,10,10,10,10,1,6,8,8,9,10,8,7,6,8,5,10,10,9,6,8,9,10,8,9,9,7,9,10,10,10,8,10,10,7,9,10,10,6,9,9,9,9,6,9],\"type\":\"scatter\"}],                        {\"template\":{\"data\":{\"histogram2dcontour\":[{\"type\":\"histogram2dcontour\",\"colorbar\":{\"outlinewidth\":0,\"ticks\":\"\"},\"colorscale\":[[0.0,\"#0d0887\"],[0.1111111111111111,\"#46039f\"],[0.2222222222222222,\"#7201a8\"],[0.3333333333333333,\"#9c179e\"],[0.4444444444444444,\"#bd3786\"],[0.5555555555555556,\"#d8576b\"],[0.6666666666666666,\"#ed7953\"],[0.7777777777777778,\"#fb9f3a\"],[0.8888888888888888,\"#fdca26\"],[1.0,\"#f0f921\"]]}],\"choropleth\":[{\"type\":\"choropleth\",\"colorbar\":{\"outlinewidth\":0,\"ticks\":\"\"}}],\"histogram2d\":[{\"type\":\"histogram2d\",\"colorbar\":{\"outlinewidth\":0,\"ticks\":\"\"},\"colorscale\":[[0.0,\"#0d0887\"],[0.1111111111111111,\"#46039f\"],[0.2222222222222222,\"#7201a8\"],[0.3333333333333333,\"#9c179e\"],[0.4444444444444444,\"#bd3786\"],[0.5555555555555556,\"#d8576b\"],[0.6666666666666666,\"#ed7953\"],[0.7777777777777778,\"#fb9f3a\"],[0.8888888888888888,\"#fdca26\"],[1.0,\"#f0f921\"]]}],\"heatmap\":[{\"type\":\"heatmap\",\"colorbar\":{\"outlinewidth\":0,\"ticks\":\"\"},\"colorscale\":[[0.0,\"#0d0887\"],[0.1111111111111111,\"#46039f\"],[0.2222222222222222,\"#7201a8\"],[0.3333333333333333,\"#9c179e\"],[0.4444444444444444,\"#bd3786\"],[0.5555555555555556,\"#d8576b\"],[0.6666666666666666,\"#ed7953\"],[0.7777777777777778,\"#fb9f3a\"],[0.8888888888888888,\"#fdca26\"],[1.0,\"#f0f921\"]]}],\"heatmapgl\":[{\"type\":\"heatmapgl\",\"colorbar\":{\"outlinewidth\":0,\"ticks\":\"\"},\"colorscale\":[[0.0,\"#0d0887\"],[0.1111111111111111,\"#46039f\"],[0.2222222222222222,\"#7201a8\"],[0.3333333333333333,\"#9c179e\"],[0.4444444444444444,\"#bd3786\"],[0.5555555555555556,\"#d8576b\"],[0.6666666666666666,\"#ed7953\"],[0.7777777777777778,\"#fb9f3a\"],[0.8888888888888888,\"#fdca26\"],[1.0,\"#f0f921\"]]}],\"contourcarpet\":[{\"type\":\"contourcarpet\",\"colorbar\":{\"outlinewidth\":0,\"ticks\":\"\"}}],\"contour\":[{\"type\":\"contour\",\"colorbar\":{\"outlinewidth\":0,\"ticks\":\"\"},\"colorscale\":[[0.0,\"#0d0887\"],[0.1111111111111111,\"#46039f\"],[0.2222222222222222,\"#7201a8\"],[0.3333333333333333,\"#9c179e\"],[0.4444444444444444,\"#bd3786\"],[0.5555555555555556,\"#d8576b\"],[0.6666666666666666,\"#ed7953\"],[0.7777777777777778,\"#fb9f3a\"],[0.8888888888888888,\"#fdca26\"],[1.0,\"#f0f921\"]]}],\"surface\":[{\"type\":\"surface\",\"colorbar\":{\"outlinewidth\":0,\"ticks\":\"\"},\"colorscale\":[[0.0,\"#0d0887\"],[0.1111111111111111,\"#46039f\"],[0.2222222222222222,\"#7201a8\"],[0.3333333333333333,\"#9c179e\"],[0.4444444444444444,\"#bd3786\"],[0.5555555555555556,\"#d8576b\"],[0.6666666666666666,\"#ed7953\"],[0.7777777777777778,\"#fb9f3a\"],[0.8888888888888888,\"#fdca26\"],[1.0,\"#f0f921\"]]}],\"mesh3d\":[{\"type\":\"mesh3d\",\"colorbar\":{\"outlinewidth\":0,\"ticks\":\"\"}}],\"scatter\":[{\"fillpattern\":{\"fillmode\":\"overlay\",\"size\":10,\"solidity\":0.2},\"type\":\"scatter\"}],\"parcoords\":[{\"type\":\"parcoords\",\"line\":{\"colorbar\":{\"outlinewidth\":0,\"ticks\":\"\"}}}],\"scatterpolargl\":[{\"type\":\"scatterpolargl\",\"marker\":{\"colorbar\":{\"outlinewidth\":0,\"ticks\":\"\"}}}],\"bar\":[{\"error_x\":{\"color\":\"#2a3f5f\"},\"error_y\":{\"color\":\"#2a3f5f\"},\"marker\":{\"line\":{\"color\":\"#E5ECF6\",\"width\":0.5},\"pattern\":{\"fillmode\":\"overlay\",\"size\":10,\"solidity\":0.2}},\"type\":\"bar\"}],\"scattergeo\":[{\"type\":\"scattergeo\",\"marker\":{\"colorbar\":{\"outlinewidth\":0,\"ticks\":\"\"}}}],\"scatterpolar\":[{\"type\":\"scatterpolar\",\"marker\":{\"colorbar\":{\"outlinewidth\":0,\"ticks\":\"\"}}}],\"histogram\":[{\"marker\":{\"pattern\":{\"fillmode\":\"overlay\",\"size\":10,\"solidity\":0.2}},\"type\":\"histogram\"}],\"scattergl\":[{\"type\":\"scattergl\",\"marker\":{\"colorbar\":{\"outlinewidth\":0,\"ticks\":\"\"}}}],\"scatter3d\":[{\"type\":\"scatter3d\",\"line\":{\"colorbar\":{\"outlinewidth\":0,\"ticks\":\"\"}},\"marker\":{\"colorbar\":{\"outlinewidth\":0,\"ticks\":\"\"}}}],\"scattermapbox\":[{\"type\":\"scattermapbox\",\"marker\":{\"colorbar\":{\"outlinewidth\":0,\"ticks\":\"\"}}}],\"scatterternary\":[{\"type\":\"scatterternary\",\"marker\":{\"colorbar\":{\"outlinewidth\":0,\"ticks\":\"\"}}}],\"scattercarpet\":[{\"type\":\"scattercarpet\",\"marker\":{\"colorbar\":{\"outlinewidth\":0,\"ticks\":\"\"}}}],\"carpet\":[{\"aaxis\":{\"endlinecolor\":\"#2a3f5f\",\"gridcolor\":\"white\",\"linecolor\":\"white\",\"minorgridcolor\":\"white\",\"startlinecolor\":\"#2a3f5f\"},\"baxis\":{\"endlinecolor\":\"#2a3f5f\",\"gridcolor\":\"white\",\"linecolor\":\"white\",\"minorgridcolor\":\"white\",\"startlinecolor\":\"#2a3f5f\"},\"type\":\"carpet\"}],\"table\":[{\"cells\":{\"fill\":{\"color\":\"#EBF0F8\"},\"line\":{\"color\":\"white\"}},\"header\":{\"fill\":{\"color\":\"#C8D4E3\"},\"line\":{\"color\":\"white\"}},\"type\":\"table\"}],\"barpolar\":[{\"marker\":{\"line\":{\"color\":\"#E5ECF6\",\"width\":0.5},\"pattern\":{\"fillmode\":\"overlay\",\"size\":10,\"solidity\":0.2}},\"type\":\"barpolar\"}],\"pie\":[{\"automargin\":true,\"type\":\"pie\"}]},\"layout\":{\"autotypenumbers\":\"strict\",\"colorway\":[\"#636efa\",\"#EF553B\",\"#00cc96\",\"#ab63fa\",\"#FFA15A\",\"#19d3f3\",\"#FF6692\",\"#B6E880\",\"#FF97FF\",\"#FECB52\"],\"font\":{\"color\":\"#2a3f5f\"},\"hovermode\":\"closest\",\"hoverlabel\":{\"align\":\"left\"},\"paper_bgcolor\":\"white\",\"plot_bgcolor\":\"#E5ECF6\",\"polar\":{\"bgcolor\":\"#E5ECF6\",\"angularaxis\":{\"gridcolor\":\"white\",\"linecolor\":\"white\",\"ticks\":\"\"},\"radialaxis\":{\"gridcolor\":\"white\",\"linecolor\":\"white\",\"ticks\":\"\"}},\"ternary\":{\"bgcolor\":\"#E5ECF6\",\"aaxis\":{\"gridcolor\":\"white\",\"linecolor\":\"white\",\"ticks\":\"\"},\"baxis\":{\"gridcolor\":\"white\",\"linecolor\":\"white\",\"ticks\":\"\"},\"caxis\":{\"gridcolor\":\"white\",\"linecolor\":\"white\",\"ticks\":\"\"}},\"coloraxis\":{\"colorbar\":{\"outlinewidth\":0,\"ticks\":\"\"}},\"colorscale\":{\"sequential\":[[0.0,\"#0d0887\"],[0.1111111111111111,\"#46039f\"],[0.2222222222222222,\"#7201a8\"],[0.3333333333333333,\"#9c179e\"],[0.4444444444444444,\"#bd3786\"],[0.5555555555555556,\"#d8576b\"],[0.6666666666666666,\"#ed7953\"],[0.7777777777777778,\"#fb9f3a\"],[0.8888888888888888,\"#fdca26\"],[1.0,\"#f0f921\"]],\"sequentialminus\":[[0.0,\"#0d0887\"],[0.1111111111111111,\"#46039f\"],[0.2222222222222222,\"#7201a8\"],[0.3333333333333333,\"#9c179e\"],[0.4444444444444444,\"#bd3786\"],[0.5555555555555556,\"#d8576b\"],[0.6666666666666666,\"#ed7953\"],[0.7777777777777778,\"#fb9f3a\"],[0.8888888888888888,\"#fdca26\"],[1.0,\"#f0f921\"]],\"diverging\":[[0,\"#8e0152\"],[0.1,\"#c51b7d\"],[0.2,\"#de77ae\"],[0.3,\"#f1b6da\"],[0.4,\"#fde0ef\"],[0.5,\"#f7f7f7\"],[0.6,\"#e6f5d0\"],[0.7,\"#b8e186\"],[0.8,\"#7fbc41\"],[0.9,\"#4d9221\"],[1,\"#276419\"]]},\"xaxis\":{\"gridcolor\":\"white\",\"linecolor\":\"white\",\"ticks\":\"\",\"title\":{\"standoff\":15},\"zerolinecolor\":\"white\",\"automargin\":true,\"zerolinewidth\":2},\"yaxis\":{\"gridcolor\":\"white\",\"linecolor\":\"white\",\"ticks\":\"\",\"title\":{\"standoff\":15},\"zerolinecolor\":\"white\",\"automargin\":true,\"zerolinewidth\":2},\"scene\":{\"xaxis\":{\"backgroundcolor\":\"#E5ECF6\",\"gridcolor\":\"white\",\"linecolor\":\"white\",\"showbackground\":true,\"ticks\":\"\",\"zerolinecolor\":\"white\",\"gridwidth\":2},\"yaxis\":{\"backgroundcolor\":\"#E5ECF6\",\"gridcolor\":\"white\",\"linecolor\":\"white\",\"showbackground\":true,\"ticks\":\"\",\"zerolinecolor\":\"white\",\"gridwidth\":2},\"zaxis\":{\"backgroundcolor\":\"#E5ECF6\",\"gridcolor\":\"white\",\"linecolor\":\"white\",\"showbackground\":true,\"ticks\":\"\",\"zerolinecolor\":\"white\",\"gridwidth\":2}},\"shapedefaults\":{\"line\":{\"color\":\"#2a3f5f\"}},\"annotationdefaults\":{\"arrowcolor\":\"#2a3f5f\",\"arrowhead\":0,\"arrowwidth\":1},\"geo\":{\"bgcolor\":\"white\",\"landcolor\":\"#E5ECF6\",\"subunitcolor\":\"white\",\"showland\":true,\"showlakes\":true,\"lakecolor\":\"white\"},\"title\":{\"x\":0.05},\"mapbox\":{\"style\":\"light\"}}},\"title\":{\"text\":\"Safety Ratings Over Time\"},\"xaxis\":{\"title\":{\"text\":\"Maintainance Rating\"}},\"yaxis\":{\"title\":{\"text\":\"Time\"}}},                        {\"responsive\": true}                    ).then(function(){\n",
       "                            \n",
       "var gd = document.getElementById('a0ff0f4e-58f4-497f-9d62-223552b63262');\n",
       "var x = new MutationObserver(function (mutations, observer) {{\n",
       "        var display = window.getComputedStyle(gd).display;\n",
       "        if (!display || display === 'none') {{\n",
       "            console.log([gd, 'removed!']);\n",
       "            Plotly.purge(gd);\n",
       "            observer.disconnect();\n",
       "        }}\n",
       "}});\n",
       "\n",
       "// Listen for the removal of the full notebook cells\n",
       "var notebookContainer = gd.closest('#notebook-container');\n",
       "if (notebookContainer) {{\n",
       "    x.observe(notebookContainer, {childList: true});\n",
       "}}\n",
       "\n",
       "// Listen for the clearing of the current output cell\n",
       "var outputEl = gd.closest('.output');\n",
       "if (outputEl) {{\n",
       "    x.observe(outputEl, {childList: true});\n",
       "}}\n",
       "\n",
       "                        })                };                });            </script>        </div>"
      ]
     },
     "metadata": {},
     "output_type": "display_data"
    }
   ],
   "source": [
    "fig1 = go.Figure([go.Scatter(x = df['Timestamp'], y = df['On a scale of 1-10, with 1 being \"Not safe at all\" and 10 being \"Very safe\", how safe do you feel in the Park?'],\\\n",
    "                     line = dict(color = 'firebrick', width = 4), name = 'Google')\n",
    "                     ])\n",
    "fig1.update_layout(title = 'Safety Ratings Over Time',\n",
    "                  xaxis = dict(\n",
    "                      title = 'Maintainance Rating',\n",
    "#                       tickformat = '%d/%m',\n",
    "                  ),\n",
    "                  yaxis = dict(\n",
    "                      title = 'Time'\n",
    "                  ),\n",
    "                  \n",
    "                  )"
   ]
  },
  {
   "cell_type": "code",
   "execution_count": 53,
   "metadata": {},
   "outputs": [
    {
     "data": {
      "application/vnd.plotly.v1+json": {
       "config": {
        "plotlyServerURL": "https://plot.ly"
       },
       "data": [
        {
         "hovertemplate": "What is your age?=16-25<br>On a scale of 1-10, with 1 being \"Not safe at all\" and 10 being \"Very safe\", how safe do you feel in the Park?=%{x}<br>On a scale of 1 to 10, with 1 being \"Very poorly\" and 10 being \"Very well\", how do you feel that the Park is maintained?=%{y}<extra></extra>",
         "legendgroup": "16-25",
         "marker": {
          "color": "#636efa",
          "symbol": "circle"
         },
         "mode": "markers",
         "name": "16-25",
         "orientation": "v",
         "showlegend": true,
         "type": "scatter",
         "x": [
          9,
          7,
          8,
          10,
          10,
          8,
          10,
          10,
          10,
          10,
          10,
          10,
          8,
          7,
          9,
          7,
          10,
          7,
          7,
          7,
          10,
          10,
          9,
          9,
          8,
          10,
          7,
          7,
          10,
          10,
          10,
          10,
          10,
          8,
          9,
          9,
          6,
          9,
          9,
          10,
          9,
          10,
          9,
          8,
          10,
          9,
          9,
          7,
          7,
          10,
          8,
          10,
          10,
          10,
          8,
          10,
          9,
          8,
          9,
          7,
          10,
          6,
          9,
          10,
          7,
          10,
          7,
          7,
          7,
          6,
          8,
          9,
          10,
          10,
          10,
          8,
          9,
          7,
          10,
          8,
          7,
          10,
          9,
          9,
          10,
          10,
          10,
          10,
          6,
          10,
          10,
          6,
          8,
          9,
          8,
          9,
          10,
          9
         ],
         "xaxis": "x",
         "y": [
          8,
          8,
          9,
          10,
          7,
          8,
          10,
          7,
          8,
          10,
          10,
          8,
          6,
          10,
          9,
          9,
          9,
          10,
          8,
          7,
          9,
          10,
          5,
          8,
          9,
          9,
          8,
          8,
          10,
          8,
          10,
          10,
          9,
          9,
          9,
          9,
          6,
          7,
          7,
          9,
          10,
          10,
          9,
          8,
          8,
          9,
          10,
          8,
          8,
          8,
          10,
          10,
          10,
          10,
          8,
          10,
          7,
          9,
          10,
          9,
          10,
          6,
          9,
          10,
          5,
          6,
          10,
          8,
          8,
          8,
          8,
          7,
          10,
          7,
          10,
          8,
          10,
          9,
          10,
          10,
          5,
          9,
          7,
          9,
          9,
          10,
          10,
          10,
          7,
          9,
          7,
          8,
          2,
          8,
          8,
          9,
          10,
          8
         ],
         "yaxis": "y"
        },
        {
         "hovertemplate": "What is your age?=36-45<br>On a scale of 1-10, with 1 being \"Not safe at all\" and 10 being \"Very safe\", how safe do you feel in the Park?=%{x}<br>On a scale of 1 to 10, with 1 being \"Very poorly\" and 10 being \"Very well\", how do you feel that the Park is maintained?=%{y}<extra></extra>",
         "legendgroup": "36-45",
         "marker": {
          "color": "#EF553B",
          "symbol": "circle"
         },
         "mode": "markers",
         "name": "36-45",
         "orientation": "v",
         "showlegend": true,
         "type": "scatter",
         "x": [
          10,
          8,
          8,
          10,
          10,
          10,
          9,
          5,
          10,
          7,
          7,
          10,
          8,
          9,
          8,
          5,
          10,
          10,
          8,
          10,
          9,
          10,
          8,
          9,
          8,
          8,
          9,
          1,
          10,
          7,
          10,
          10,
          10,
          9,
          10,
          10,
          9
         ],
         "xaxis": "x",
         "y": [
          8,
          9,
          8,
          10,
          10,
          10,
          9,
          2,
          5,
          8,
          8,
          10,
          7,
          9,
          6,
          5,
          9,
          10,
          7,
          10,
          9,
          9,
          7,
          9,
          7,
          9,
          8,
          1,
          9,
          6,
          9,
          8,
          8,
          9,
          10,
          10,
          9
         ],
         "yaxis": "y"
        },
        {
         "hovertemplate": "What is your age?=26-35<br>On a scale of 1-10, with 1 being \"Not safe at all\" and 10 being \"Very safe\", how safe do you feel in the Park?=%{x}<br>On a scale of 1 to 10, with 1 being \"Very poorly\" and 10 being \"Very well\", how do you feel that the Park is maintained?=%{y}<extra></extra>",
         "legendgroup": "26-35",
         "marker": {
          "color": "#00cc96",
          "symbol": "circle"
         },
         "mode": "markers",
         "name": "26-35",
         "orientation": "v",
         "showlegend": true,
         "type": "scatter",
         "x": [
          8,
          9,
          10,
          8,
          10,
          8,
          10,
          8,
          9,
          7,
          9,
          10,
          10,
          10,
          10,
          8,
          10,
          6,
          8,
          7,
          6,
          6,
          7,
          10,
          10,
          8,
          9,
          10,
          6,
          7,
          6,
          10,
          10,
          8,
          10,
          10,
          9,
          7,
          10,
          9,
          4,
          8,
          8,
          9,
          7,
          10,
          8,
          10,
          9,
          9,
          10,
          10,
          10,
          7,
          7,
          9,
          10,
          8,
          5,
          10,
          8,
          10,
          10,
          10,
          7,
          7,
          9,
          10,
          8,
          9,
          10,
          7,
          8,
          7,
          10,
          8,
          8,
          9,
          10,
          8,
          9,
          9,
          7,
          9,
          9
         ],
         "xaxis": "x",
         "y": [
          7,
          6,
          9,
          8,
          10,
          8,
          6,
          10,
          9,
          8,
          7,
          8,
          8,
          8,
          10,
          10,
          10,
          6,
          6,
          6,
          9,
          8,
          7,
          10,
          8,
          8,
          9,
          9,
          7,
          7,
          7,
          8,
          10,
          8,
          10,
          7,
          9,
          7,
          9,
          10,
          6,
          8,
          6,
          4,
          7,
          10,
          10,
          10,
          8,
          10,
          10,
          9,
          9,
          7,
          8,
          10,
          9,
          10,
          8,
          10,
          8,
          10,
          10,
          10,
          7,
          10,
          9,
          1,
          8,
          9,
          10,
          5,
          5,
          5,
          10,
          8,
          7,
          8,
          10,
          9,
          9,
          9,
          7,
          9,
          9
         ],
         "yaxis": "y"
        },
        {
         "hovertemplate": "What is your age?=56-65<br>On a scale of 1-10, with 1 being \"Not safe at all\" and 10 being \"Very safe\", how safe do you feel in the Park?=%{x}<br>On a scale of 1 to 10, with 1 being \"Very poorly\" and 10 being \"Very well\", how do you feel that the Park is maintained?=%{y}<extra></extra>",
         "legendgroup": "56-65",
         "marker": {
          "color": "#ab63fa",
          "symbol": "circle"
         },
         "mode": "markers",
         "name": "56-65",
         "orientation": "v",
         "showlegend": true,
         "type": "scatter",
         "x": [
          10,
          10,
          10,
          9,
          10,
          7,
          10,
          9,
          10,
          6,
          9,
          7,
          8,
          10,
          9,
          3,
          10,
          5,
          8,
          5,
          9,
          8,
          9
         ],
         "xaxis": "x",
         "y": [
          8,
          10,
          10,
          7,
          10,
          2,
          9,
          8,
          9,
          6,
          7,
          4,
          3,
          9,
          9,
          4,
          10,
          9,
          8,
          2,
          8,
          8,
          9
         ],
         "yaxis": "y"
        },
        {
         "hovertemplate": "What is your age?=46-55<br>On a scale of 1-10, with 1 being \"Not safe at all\" and 10 being \"Very safe\", how safe do you feel in the Park?=%{x}<br>On a scale of 1 to 10, with 1 being \"Very poorly\" and 10 being \"Very well\", how do you feel that the Park is maintained?=%{y}<extra></extra>",
         "legendgroup": "46-55",
         "marker": {
          "color": "#FFA15A",
          "symbol": "circle"
         },
         "mode": "markers",
         "name": "46-55",
         "orientation": "v",
         "showlegend": true,
         "type": "scatter",
         "x": [
          8,
          8,
          10,
          10,
          7,
          8,
          10,
          10,
          7,
          10,
          8,
          5,
          7,
          7,
          9,
          7,
          9,
          7,
          8,
          7,
          10,
          8,
          6,
          6,
          8,
          5,
          6,
          6
         ],
         "xaxis": "x",
         "y": [
          8,
          8,
          8,
          9,
          8,
          9,
          10,
          8,
          8,
          7,
          8,
          10,
          9,
          7,
          8,
          7,
          3,
          6,
          8,
          9,
          10,
          10,
          8,
          6,
          10,
          2,
          7,
          1
         ],
         "yaxis": "y"
        },
        {
         "hovertemplate": "What is your age?=Prefer not to say<br>On a scale of 1-10, with 1 being \"Not safe at all\" and 10 being \"Very safe\", how safe do you feel in the Park?=%{x}<br>On a scale of 1 to 10, with 1 being \"Very poorly\" and 10 being \"Very well\", how do you feel that the Park is maintained?=%{y}<extra></extra>",
         "legendgroup": "Prefer not to say",
         "marker": {
          "color": "#19d3f3",
          "symbol": "circle"
         },
         "mode": "markers",
         "name": "Prefer not to say",
         "orientation": "v",
         "showlegend": true,
         "type": "scatter",
         "x": [
          9,
          5,
          8,
          10,
          9,
          9,
          9,
          10
         ],
         "xaxis": "x",
         "y": [
          7,
          6,
          8,
          10,
          10,
          9,
          9,
          10
         ],
         "yaxis": "y"
        },
        {
         "hovertemplate": "What is your age?=66+<br>On a scale of 1-10, with 1 being \"Not safe at all\" and 10 being \"Very safe\", how safe do you feel in the Park?=%{x}<br>On a scale of 1 to 10, with 1 being \"Very poorly\" and 10 being \"Very well\", how do you feel that the Park is maintained?=%{y}<extra></extra>",
         "legendgroup": "66+",
         "marker": {
          "color": "#FF6692",
          "symbol": "circle"
         },
         "mode": "markers",
         "name": "66+",
         "orientation": "v",
         "showlegend": true,
         "type": "scatter",
         "x": [
          9,
          9,
          8,
          10,
          7,
          10,
          7,
          10
         ],
         "xaxis": "x",
         "y": [
          9,
          10,
          7,
          9,
          8,
          7,
          5,
          8
         ],
         "yaxis": "y"
        }
       ],
       "layout": {
        "legend": {
         "title": {
          "text": "What is your age?"
         },
         "tracegroupgap": 0
        },
        "template": {
         "data": {
          "bar": [
           {
            "error_x": {
             "color": "#2a3f5f"
            },
            "error_y": {
             "color": "#2a3f5f"
            },
            "marker": {
             "line": {
              "color": "#E5ECF6",
              "width": 0.5
             },
             "pattern": {
              "fillmode": "overlay",
              "size": 10,
              "solidity": 0.2
             }
            },
            "type": "bar"
           }
          ],
          "barpolar": [
           {
            "marker": {
             "line": {
              "color": "#E5ECF6",
              "width": 0.5
             },
             "pattern": {
              "fillmode": "overlay",
              "size": 10,
              "solidity": 0.2
             }
            },
            "type": "barpolar"
           }
          ],
          "carpet": [
           {
            "aaxis": {
             "endlinecolor": "#2a3f5f",
             "gridcolor": "white",
             "linecolor": "white",
             "minorgridcolor": "white",
             "startlinecolor": "#2a3f5f"
            },
            "baxis": {
             "endlinecolor": "#2a3f5f",
             "gridcolor": "white",
             "linecolor": "white",
             "minorgridcolor": "white",
             "startlinecolor": "#2a3f5f"
            },
            "type": "carpet"
           }
          ],
          "choropleth": [
           {
            "colorbar": {
             "outlinewidth": 0,
             "ticks": ""
            },
            "type": "choropleth"
           }
          ],
          "contour": [
           {
            "colorbar": {
             "outlinewidth": 0,
             "ticks": ""
            },
            "colorscale": [
             [
              0,
              "#0d0887"
             ],
             [
              0.1111111111111111,
              "#46039f"
             ],
             [
              0.2222222222222222,
              "#7201a8"
             ],
             [
              0.3333333333333333,
              "#9c179e"
             ],
             [
              0.4444444444444444,
              "#bd3786"
             ],
             [
              0.5555555555555556,
              "#d8576b"
             ],
             [
              0.6666666666666666,
              "#ed7953"
             ],
             [
              0.7777777777777778,
              "#fb9f3a"
             ],
             [
              0.8888888888888888,
              "#fdca26"
             ],
             [
              1,
              "#f0f921"
             ]
            ],
            "type": "contour"
           }
          ],
          "contourcarpet": [
           {
            "colorbar": {
             "outlinewidth": 0,
             "ticks": ""
            },
            "type": "contourcarpet"
           }
          ],
          "heatmap": [
           {
            "colorbar": {
             "outlinewidth": 0,
             "ticks": ""
            },
            "colorscale": [
             [
              0,
              "#0d0887"
             ],
             [
              0.1111111111111111,
              "#46039f"
             ],
             [
              0.2222222222222222,
              "#7201a8"
             ],
             [
              0.3333333333333333,
              "#9c179e"
             ],
             [
              0.4444444444444444,
              "#bd3786"
             ],
             [
              0.5555555555555556,
              "#d8576b"
             ],
             [
              0.6666666666666666,
              "#ed7953"
             ],
             [
              0.7777777777777778,
              "#fb9f3a"
             ],
             [
              0.8888888888888888,
              "#fdca26"
             ],
             [
              1,
              "#f0f921"
             ]
            ],
            "type": "heatmap"
           }
          ],
          "heatmapgl": [
           {
            "colorbar": {
             "outlinewidth": 0,
             "ticks": ""
            },
            "colorscale": [
             [
              0,
              "#0d0887"
             ],
             [
              0.1111111111111111,
              "#46039f"
             ],
             [
              0.2222222222222222,
              "#7201a8"
             ],
             [
              0.3333333333333333,
              "#9c179e"
             ],
             [
              0.4444444444444444,
              "#bd3786"
             ],
             [
              0.5555555555555556,
              "#d8576b"
             ],
             [
              0.6666666666666666,
              "#ed7953"
             ],
             [
              0.7777777777777778,
              "#fb9f3a"
             ],
             [
              0.8888888888888888,
              "#fdca26"
             ],
             [
              1,
              "#f0f921"
             ]
            ],
            "type": "heatmapgl"
           }
          ],
          "histogram": [
           {
            "marker": {
             "pattern": {
              "fillmode": "overlay",
              "size": 10,
              "solidity": 0.2
             }
            },
            "type": "histogram"
           }
          ],
          "histogram2d": [
           {
            "colorbar": {
             "outlinewidth": 0,
             "ticks": ""
            },
            "colorscale": [
             [
              0,
              "#0d0887"
             ],
             [
              0.1111111111111111,
              "#46039f"
             ],
             [
              0.2222222222222222,
              "#7201a8"
             ],
             [
              0.3333333333333333,
              "#9c179e"
             ],
             [
              0.4444444444444444,
              "#bd3786"
             ],
             [
              0.5555555555555556,
              "#d8576b"
             ],
             [
              0.6666666666666666,
              "#ed7953"
             ],
             [
              0.7777777777777778,
              "#fb9f3a"
             ],
             [
              0.8888888888888888,
              "#fdca26"
             ],
             [
              1,
              "#f0f921"
             ]
            ],
            "type": "histogram2d"
           }
          ],
          "histogram2dcontour": [
           {
            "colorbar": {
             "outlinewidth": 0,
             "ticks": ""
            },
            "colorscale": [
             [
              0,
              "#0d0887"
             ],
             [
              0.1111111111111111,
              "#46039f"
             ],
             [
              0.2222222222222222,
              "#7201a8"
             ],
             [
              0.3333333333333333,
              "#9c179e"
             ],
             [
              0.4444444444444444,
              "#bd3786"
             ],
             [
              0.5555555555555556,
              "#d8576b"
             ],
             [
              0.6666666666666666,
              "#ed7953"
             ],
             [
              0.7777777777777778,
              "#fb9f3a"
             ],
             [
              0.8888888888888888,
              "#fdca26"
             ],
             [
              1,
              "#f0f921"
             ]
            ],
            "type": "histogram2dcontour"
           }
          ],
          "mesh3d": [
           {
            "colorbar": {
             "outlinewidth": 0,
             "ticks": ""
            },
            "type": "mesh3d"
           }
          ],
          "parcoords": [
           {
            "line": {
             "colorbar": {
              "outlinewidth": 0,
              "ticks": ""
             }
            },
            "type": "parcoords"
           }
          ],
          "pie": [
           {
            "automargin": true,
            "type": "pie"
           }
          ],
          "scatter": [
           {
            "fillpattern": {
             "fillmode": "overlay",
             "size": 10,
             "solidity": 0.2
            },
            "type": "scatter"
           }
          ],
          "scatter3d": [
           {
            "line": {
             "colorbar": {
              "outlinewidth": 0,
              "ticks": ""
             }
            },
            "marker": {
             "colorbar": {
              "outlinewidth": 0,
              "ticks": ""
             }
            },
            "type": "scatter3d"
           }
          ],
          "scattercarpet": [
           {
            "marker": {
             "colorbar": {
              "outlinewidth": 0,
              "ticks": ""
             }
            },
            "type": "scattercarpet"
           }
          ],
          "scattergeo": [
           {
            "marker": {
             "colorbar": {
              "outlinewidth": 0,
              "ticks": ""
             }
            },
            "type": "scattergeo"
           }
          ],
          "scattergl": [
           {
            "marker": {
             "colorbar": {
              "outlinewidth": 0,
              "ticks": ""
             }
            },
            "type": "scattergl"
           }
          ],
          "scattermapbox": [
           {
            "marker": {
             "colorbar": {
              "outlinewidth": 0,
              "ticks": ""
             }
            },
            "type": "scattermapbox"
           }
          ],
          "scatterpolar": [
           {
            "marker": {
             "colorbar": {
              "outlinewidth": 0,
              "ticks": ""
             }
            },
            "type": "scatterpolar"
           }
          ],
          "scatterpolargl": [
           {
            "marker": {
             "colorbar": {
              "outlinewidth": 0,
              "ticks": ""
             }
            },
            "type": "scatterpolargl"
           }
          ],
          "scatterternary": [
           {
            "marker": {
             "colorbar": {
              "outlinewidth": 0,
              "ticks": ""
             }
            },
            "type": "scatterternary"
           }
          ],
          "surface": [
           {
            "colorbar": {
             "outlinewidth": 0,
             "ticks": ""
            },
            "colorscale": [
             [
              0,
              "#0d0887"
             ],
             [
              0.1111111111111111,
              "#46039f"
             ],
             [
              0.2222222222222222,
              "#7201a8"
             ],
             [
              0.3333333333333333,
              "#9c179e"
             ],
             [
              0.4444444444444444,
              "#bd3786"
             ],
             [
              0.5555555555555556,
              "#d8576b"
             ],
             [
              0.6666666666666666,
              "#ed7953"
             ],
             [
              0.7777777777777778,
              "#fb9f3a"
             ],
             [
              0.8888888888888888,
              "#fdca26"
             ],
             [
              1,
              "#f0f921"
             ]
            ],
            "type": "surface"
           }
          ],
          "table": [
           {
            "cells": {
             "fill": {
              "color": "#EBF0F8"
             },
             "line": {
              "color": "white"
             }
            },
            "header": {
             "fill": {
              "color": "#C8D4E3"
             },
             "line": {
              "color": "white"
             }
            },
            "type": "table"
           }
          ]
         },
         "layout": {
          "annotationdefaults": {
           "arrowcolor": "#2a3f5f",
           "arrowhead": 0,
           "arrowwidth": 1
          },
          "autotypenumbers": "strict",
          "coloraxis": {
           "colorbar": {
            "outlinewidth": 0,
            "ticks": ""
           }
          },
          "colorscale": {
           "diverging": [
            [
             0,
             "#8e0152"
            ],
            [
             0.1,
             "#c51b7d"
            ],
            [
             0.2,
             "#de77ae"
            ],
            [
             0.3,
             "#f1b6da"
            ],
            [
             0.4,
             "#fde0ef"
            ],
            [
             0.5,
             "#f7f7f7"
            ],
            [
             0.6,
             "#e6f5d0"
            ],
            [
             0.7,
             "#b8e186"
            ],
            [
             0.8,
             "#7fbc41"
            ],
            [
             0.9,
             "#4d9221"
            ],
            [
             1,
             "#276419"
            ]
           ],
           "sequential": [
            [
             0,
             "#0d0887"
            ],
            [
             0.1111111111111111,
             "#46039f"
            ],
            [
             0.2222222222222222,
             "#7201a8"
            ],
            [
             0.3333333333333333,
             "#9c179e"
            ],
            [
             0.4444444444444444,
             "#bd3786"
            ],
            [
             0.5555555555555556,
             "#d8576b"
            ],
            [
             0.6666666666666666,
             "#ed7953"
            ],
            [
             0.7777777777777778,
             "#fb9f3a"
            ],
            [
             0.8888888888888888,
             "#fdca26"
            ],
            [
             1,
             "#f0f921"
            ]
           ],
           "sequentialminus": [
            [
             0,
             "#0d0887"
            ],
            [
             0.1111111111111111,
             "#46039f"
            ],
            [
             0.2222222222222222,
             "#7201a8"
            ],
            [
             0.3333333333333333,
             "#9c179e"
            ],
            [
             0.4444444444444444,
             "#bd3786"
            ],
            [
             0.5555555555555556,
             "#d8576b"
            ],
            [
             0.6666666666666666,
             "#ed7953"
            ],
            [
             0.7777777777777778,
             "#fb9f3a"
            ],
            [
             0.8888888888888888,
             "#fdca26"
            ],
            [
             1,
             "#f0f921"
            ]
           ]
          },
          "colorway": [
           "#636efa",
           "#EF553B",
           "#00cc96",
           "#ab63fa",
           "#FFA15A",
           "#19d3f3",
           "#FF6692",
           "#B6E880",
           "#FF97FF",
           "#FECB52"
          ],
          "font": {
           "color": "#2a3f5f"
          },
          "geo": {
           "bgcolor": "white",
           "lakecolor": "white",
           "landcolor": "#E5ECF6",
           "showlakes": true,
           "showland": true,
           "subunitcolor": "white"
          },
          "hoverlabel": {
           "align": "left"
          },
          "hovermode": "closest",
          "mapbox": {
           "style": "light"
          },
          "paper_bgcolor": "white",
          "plot_bgcolor": "#E5ECF6",
          "polar": {
           "angularaxis": {
            "gridcolor": "white",
            "linecolor": "white",
            "ticks": ""
           },
           "bgcolor": "#E5ECF6",
           "radialaxis": {
            "gridcolor": "white",
            "linecolor": "white",
            "ticks": ""
           }
          },
          "scene": {
           "xaxis": {
            "backgroundcolor": "#E5ECF6",
            "gridcolor": "white",
            "gridwidth": 2,
            "linecolor": "white",
            "showbackground": true,
            "ticks": "",
            "zerolinecolor": "white"
           },
           "yaxis": {
            "backgroundcolor": "#E5ECF6",
            "gridcolor": "white",
            "gridwidth": 2,
            "linecolor": "white",
            "showbackground": true,
            "ticks": "",
            "zerolinecolor": "white"
           },
           "zaxis": {
            "backgroundcolor": "#E5ECF6",
            "gridcolor": "white",
            "gridwidth": 2,
            "linecolor": "white",
            "showbackground": true,
            "ticks": "",
            "zerolinecolor": "white"
           }
          },
          "shapedefaults": {
           "line": {
            "color": "#2a3f5f"
           }
          },
          "ternary": {
           "aaxis": {
            "gridcolor": "white",
            "linecolor": "white",
            "ticks": ""
           },
           "baxis": {
            "gridcolor": "white",
            "linecolor": "white",
            "ticks": ""
           },
           "bgcolor": "#E5ECF6",
           "caxis": {
            "gridcolor": "white",
            "linecolor": "white",
            "ticks": ""
           }
          },
          "title": {
           "x": 0.05
          },
          "xaxis": {
           "automargin": true,
           "gridcolor": "white",
           "linecolor": "white",
           "ticks": "",
           "title": {
            "standoff": 15
           },
           "zerolinecolor": "white",
           "zerolinewidth": 2
          },
          "yaxis": {
           "automargin": true,
           "gridcolor": "white",
           "linecolor": "white",
           "ticks": "",
           "title": {
            "standoff": 15
           },
           "zerolinecolor": "white",
           "zerolinewidth": 2
          }
         }
        },
        "title": {
         "text": "Safety and Maintaince Ratings Across Age Groups"
        },
        "xaxis": {
         "anchor": "y",
         "domain": [
          0,
          1
         ],
         "title": {
          "text": "On a scale of 1-10, with 1 being \"Not safe at all\" and 10 being \"Very safe\", how safe do you feel in the Park?"
         }
        },
        "yaxis": {
         "anchor": "x",
         "domain": [
          0,
          1
         ],
         "title": {
          "text": "On a scale of 1 to 10, with 1 being \"Very poorly\" and 10 being \"Very well\", how do you feel that the Park is maintained?"
         }
        }
       }
      },
      "text/html": [
       "<div>                            <div id=\"463c4eec-ca3a-4391-9cf7-63234781e3bd\" class=\"plotly-graph-div\" style=\"height:525px; width:100%;\"></div>            <script type=\"text/javascript\">                require([\"plotly\"], function(Plotly) {                    window.PLOTLYENV=window.PLOTLYENV || {};                                    if (document.getElementById(\"463c4eec-ca3a-4391-9cf7-63234781e3bd\")) {                    Plotly.newPlot(                        \"463c4eec-ca3a-4391-9cf7-63234781e3bd\",                        [{\"hovertemplate\":\"What is your age?=16-25<br>On a scale of 1-10, with 1 being \\\"Not safe at all\\\" and 10 being \\\"Very safe\\\", how safe do you feel in the Park?=%{x}<br>On a scale of 1 to 10, with 1 being \\\"Very poorly\\\" and 10 being \\\"Very well\\\", how do you feel that the Park is maintained?=%{y}<extra></extra>\",\"legendgroup\":\"16-25\",\"marker\":{\"color\":\"#636efa\",\"symbol\":\"circle\"},\"mode\":\"markers\",\"name\":\"16-25\",\"orientation\":\"v\",\"showlegend\":true,\"x\":[9,7,8,10,10,8,10,10,10,10,10,10,8,7,9,7,10,7,7,7,10,10,9,9,8,10,7,7,10,10,10,10,10,8,9,9,6,9,9,10,9,10,9,8,10,9,9,7,7,10,8,10,10,10,8,10,9,8,9,7,10,6,9,10,7,10,7,7,7,6,8,9,10,10,10,8,9,7,10,8,7,10,9,9,10,10,10,10,6,10,10,6,8,9,8,9,10,9],\"xaxis\":\"x\",\"y\":[8,8,9,10,7,8,10,7,8,10,10,8,6,10,9,9,9,10,8,7,9,10,5,8,9,9,8,8,10,8,10,10,9,9,9,9,6,7,7,9,10,10,9,8,8,9,10,8,8,8,10,10,10,10,8,10,7,9,10,9,10,6,9,10,5,6,10,8,8,8,8,7,10,7,10,8,10,9,10,10,5,9,7,9,9,10,10,10,7,9,7,8,2,8,8,9,10,8],\"yaxis\":\"y\",\"type\":\"scatter\"},{\"hovertemplate\":\"What is your age?=36-45<br>On a scale of 1-10, with 1 being \\\"Not safe at all\\\" and 10 being \\\"Very safe\\\", how safe do you feel in the Park?=%{x}<br>On a scale of 1 to 10, with 1 being \\\"Very poorly\\\" and 10 being \\\"Very well\\\", how do you feel that the Park is maintained?=%{y}<extra></extra>\",\"legendgroup\":\"36-45\",\"marker\":{\"color\":\"#EF553B\",\"symbol\":\"circle\"},\"mode\":\"markers\",\"name\":\"36-45\",\"orientation\":\"v\",\"showlegend\":true,\"x\":[10,8,8,10,10,10,9,5,10,7,7,10,8,9,8,5,10,10,8,10,9,10,8,9,8,8,9,1,10,7,10,10,10,9,10,10,9],\"xaxis\":\"x\",\"y\":[8,9,8,10,10,10,9,2,5,8,8,10,7,9,6,5,9,10,7,10,9,9,7,9,7,9,8,1,9,6,9,8,8,9,10,10,9],\"yaxis\":\"y\",\"type\":\"scatter\"},{\"hovertemplate\":\"What is your age?=26-35<br>On a scale of 1-10, with 1 being \\\"Not safe at all\\\" and 10 being \\\"Very safe\\\", how safe do you feel in the Park?=%{x}<br>On a scale of 1 to 10, with 1 being \\\"Very poorly\\\" and 10 being \\\"Very well\\\", how do you feel that the Park is maintained?=%{y}<extra></extra>\",\"legendgroup\":\"26-35\",\"marker\":{\"color\":\"#00cc96\",\"symbol\":\"circle\"},\"mode\":\"markers\",\"name\":\"26-35\",\"orientation\":\"v\",\"showlegend\":true,\"x\":[8,9,10,8,10,8,10,8,9,7,9,10,10,10,10,8,10,6,8,7,6,6,7,10,10,8,9,10,6,7,6,10,10,8,10,10,9,7,10,9,4,8,8,9,7,10,8,10,9,9,10,10,10,7,7,9,10,8,5,10,8,10,10,10,7,7,9,10,8,9,10,7,8,7,10,8,8,9,10,8,9,9,7,9,9],\"xaxis\":\"x\",\"y\":[7,6,9,8,10,8,6,10,9,8,7,8,8,8,10,10,10,6,6,6,9,8,7,10,8,8,9,9,7,7,7,8,10,8,10,7,9,7,9,10,6,8,6,4,7,10,10,10,8,10,10,9,9,7,8,10,9,10,8,10,8,10,10,10,7,10,9,1,8,9,10,5,5,5,10,8,7,8,10,9,9,9,7,9,9],\"yaxis\":\"y\",\"type\":\"scatter\"},{\"hovertemplate\":\"What is your age?=56-65<br>On a scale of 1-10, with 1 being \\\"Not safe at all\\\" and 10 being \\\"Very safe\\\", how safe do you feel in the Park?=%{x}<br>On a scale of 1 to 10, with 1 being \\\"Very poorly\\\" and 10 being \\\"Very well\\\", how do you feel that the Park is maintained?=%{y}<extra></extra>\",\"legendgroup\":\"56-65\",\"marker\":{\"color\":\"#ab63fa\",\"symbol\":\"circle\"},\"mode\":\"markers\",\"name\":\"56-65\",\"orientation\":\"v\",\"showlegend\":true,\"x\":[10,10,10,9,10,7,10,9,10,6,9,7,8,10,9,3,10,5,8,5,9,8,9],\"xaxis\":\"x\",\"y\":[8,10,10,7,10,2,9,8,9,6,7,4,3,9,9,4,10,9,8,2,8,8,9],\"yaxis\":\"y\",\"type\":\"scatter\"},{\"hovertemplate\":\"What is your age?=46-55<br>On a scale of 1-10, with 1 being \\\"Not safe at all\\\" and 10 being \\\"Very safe\\\", how safe do you feel in the Park?=%{x}<br>On a scale of 1 to 10, with 1 being \\\"Very poorly\\\" and 10 being \\\"Very well\\\", how do you feel that the Park is maintained?=%{y}<extra></extra>\",\"legendgroup\":\"46-55\",\"marker\":{\"color\":\"#FFA15A\",\"symbol\":\"circle\"},\"mode\":\"markers\",\"name\":\"46-55\",\"orientation\":\"v\",\"showlegend\":true,\"x\":[8,8,10,10,7,8,10,10,7,10,8,5,7,7,9,7,9,7,8,7,10,8,6,6,8,5,6,6],\"xaxis\":\"x\",\"y\":[8,8,8,9,8,9,10,8,8,7,8,10,9,7,8,7,3,6,8,9,10,10,8,6,10,2,7,1],\"yaxis\":\"y\",\"type\":\"scatter\"},{\"hovertemplate\":\"What is your age?=Prefer not to say<br>On a scale of 1-10, with 1 being \\\"Not safe at all\\\" and 10 being \\\"Very safe\\\", how safe do you feel in the Park?=%{x}<br>On a scale of 1 to 10, with 1 being \\\"Very poorly\\\" and 10 being \\\"Very well\\\", how do you feel that the Park is maintained?=%{y}<extra></extra>\",\"legendgroup\":\"Prefer not to say\",\"marker\":{\"color\":\"#19d3f3\",\"symbol\":\"circle\"},\"mode\":\"markers\",\"name\":\"Prefer not to say\",\"orientation\":\"v\",\"showlegend\":true,\"x\":[9,5,8,10,9,9,9,10],\"xaxis\":\"x\",\"y\":[7,6,8,10,10,9,9,10],\"yaxis\":\"y\",\"type\":\"scatter\"},{\"hovertemplate\":\"What is your age?=66+<br>On a scale of 1-10, with 1 being \\\"Not safe at all\\\" and 10 being \\\"Very safe\\\", how safe do you feel in the Park?=%{x}<br>On a scale of 1 to 10, with 1 being \\\"Very poorly\\\" and 10 being \\\"Very well\\\", how do you feel that the Park is maintained?=%{y}<extra></extra>\",\"legendgroup\":\"66+\",\"marker\":{\"color\":\"#FF6692\",\"symbol\":\"circle\"},\"mode\":\"markers\",\"name\":\"66+\",\"orientation\":\"v\",\"showlegend\":true,\"x\":[9,9,8,10,7,10,7,10],\"xaxis\":\"x\",\"y\":[9,10,7,9,8,7,5,8],\"yaxis\":\"y\",\"type\":\"scatter\"}],                        {\"template\":{\"data\":{\"histogram2dcontour\":[{\"type\":\"histogram2dcontour\",\"colorbar\":{\"outlinewidth\":0,\"ticks\":\"\"},\"colorscale\":[[0.0,\"#0d0887\"],[0.1111111111111111,\"#46039f\"],[0.2222222222222222,\"#7201a8\"],[0.3333333333333333,\"#9c179e\"],[0.4444444444444444,\"#bd3786\"],[0.5555555555555556,\"#d8576b\"],[0.6666666666666666,\"#ed7953\"],[0.7777777777777778,\"#fb9f3a\"],[0.8888888888888888,\"#fdca26\"],[1.0,\"#f0f921\"]]}],\"choropleth\":[{\"type\":\"choropleth\",\"colorbar\":{\"outlinewidth\":0,\"ticks\":\"\"}}],\"histogram2d\":[{\"type\":\"histogram2d\",\"colorbar\":{\"outlinewidth\":0,\"ticks\":\"\"},\"colorscale\":[[0.0,\"#0d0887\"],[0.1111111111111111,\"#46039f\"],[0.2222222222222222,\"#7201a8\"],[0.3333333333333333,\"#9c179e\"],[0.4444444444444444,\"#bd3786\"],[0.5555555555555556,\"#d8576b\"],[0.6666666666666666,\"#ed7953\"],[0.7777777777777778,\"#fb9f3a\"],[0.8888888888888888,\"#fdca26\"],[1.0,\"#f0f921\"]]}],\"heatmap\":[{\"type\":\"heatmap\",\"colorbar\":{\"outlinewidth\":0,\"ticks\":\"\"},\"colorscale\":[[0.0,\"#0d0887\"],[0.1111111111111111,\"#46039f\"],[0.2222222222222222,\"#7201a8\"],[0.3333333333333333,\"#9c179e\"],[0.4444444444444444,\"#bd3786\"],[0.5555555555555556,\"#d8576b\"],[0.6666666666666666,\"#ed7953\"],[0.7777777777777778,\"#fb9f3a\"],[0.8888888888888888,\"#fdca26\"],[1.0,\"#f0f921\"]]}],\"heatmapgl\":[{\"type\":\"heatmapgl\",\"colorbar\":{\"outlinewidth\":0,\"ticks\":\"\"},\"colorscale\":[[0.0,\"#0d0887\"],[0.1111111111111111,\"#46039f\"],[0.2222222222222222,\"#7201a8\"],[0.3333333333333333,\"#9c179e\"],[0.4444444444444444,\"#bd3786\"],[0.5555555555555556,\"#d8576b\"],[0.6666666666666666,\"#ed7953\"],[0.7777777777777778,\"#fb9f3a\"],[0.8888888888888888,\"#fdca26\"],[1.0,\"#f0f921\"]]}],\"contourcarpet\":[{\"type\":\"contourcarpet\",\"colorbar\":{\"outlinewidth\":0,\"ticks\":\"\"}}],\"contour\":[{\"type\":\"contour\",\"colorbar\":{\"outlinewidth\":0,\"ticks\":\"\"},\"colorscale\":[[0.0,\"#0d0887\"],[0.1111111111111111,\"#46039f\"],[0.2222222222222222,\"#7201a8\"],[0.3333333333333333,\"#9c179e\"],[0.4444444444444444,\"#bd3786\"],[0.5555555555555556,\"#d8576b\"],[0.6666666666666666,\"#ed7953\"],[0.7777777777777778,\"#fb9f3a\"],[0.8888888888888888,\"#fdca26\"],[1.0,\"#f0f921\"]]}],\"surface\":[{\"type\":\"surface\",\"colorbar\":{\"outlinewidth\":0,\"ticks\":\"\"},\"colorscale\":[[0.0,\"#0d0887\"],[0.1111111111111111,\"#46039f\"],[0.2222222222222222,\"#7201a8\"],[0.3333333333333333,\"#9c179e\"],[0.4444444444444444,\"#bd3786\"],[0.5555555555555556,\"#d8576b\"],[0.6666666666666666,\"#ed7953\"],[0.7777777777777778,\"#fb9f3a\"],[0.8888888888888888,\"#fdca26\"],[1.0,\"#f0f921\"]]}],\"mesh3d\":[{\"type\":\"mesh3d\",\"colorbar\":{\"outlinewidth\":0,\"ticks\":\"\"}}],\"scatter\":[{\"fillpattern\":{\"fillmode\":\"overlay\",\"size\":10,\"solidity\":0.2},\"type\":\"scatter\"}],\"parcoords\":[{\"type\":\"parcoords\",\"line\":{\"colorbar\":{\"outlinewidth\":0,\"ticks\":\"\"}}}],\"scatterpolargl\":[{\"type\":\"scatterpolargl\",\"marker\":{\"colorbar\":{\"outlinewidth\":0,\"ticks\":\"\"}}}],\"bar\":[{\"error_x\":{\"color\":\"#2a3f5f\"},\"error_y\":{\"color\":\"#2a3f5f\"},\"marker\":{\"line\":{\"color\":\"#E5ECF6\",\"width\":0.5},\"pattern\":{\"fillmode\":\"overlay\",\"size\":10,\"solidity\":0.2}},\"type\":\"bar\"}],\"scattergeo\":[{\"type\":\"scattergeo\",\"marker\":{\"colorbar\":{\"outlinewidth\":0,\"ticks\":\"\"}}}],\"scatterpolar\":[{\"type\":\"scatterpolar\",\"marker\":{\"colorbar\":{\"outlinewidth\":0,\"ticks\":\"\"}}}],\"histogram\":[{\"marker\":{\"pattern\":{\"fillmode\":\"overlay\",\"size\":10,\"solidity\":0.2}},\"type\":\"histogram\"}],\"scattergl\":[{\"type\":\"scattergl\",\"marker\":{\"colorbar\":{\"outlinewidth\":0,\"ticks\":\"\"}}}],\"scatter3d\":[{\"type\":\"scatter3d\",\"line\":{\"colorbar\":{\"outlinewidth\":0,\"ticks\":\"\"}},\"marker\":{\"colorbar\":{\"outlinewidth\":0,\"ticks\":\"\"}}}],\"scattermapbox\":[{\"type\":\"scattermapbox\",\"marker\":{\"colorbar\":{\"outlinewidth\":0,\"ticks\":\"\"}}}],\"scatterternary\":[{\"type\":\"scatterternary\",\"marker\":{\"colorbar\":{\"outlinewidth\":0,\"ticks\":\"\"}}}],\"scattercarpet\":[{\"type\":\"scattercarpet\",\"marker\":{\"colorbar\":{\"outlinewidth\":0,\"ticks\":\"\"}}}],\"carpet\":[{\"aaxis\":{\"endlinecolor\":\"#2a3f5f\",\"gridcolor\":\"white\",\"linecolor\":\"white\",\"minorgridcolor\":\"white\",\"startlinecolor\":\"#2a3f5f\"},\"baxis\":{\"endlinecolor\":\"#2a3f5f\",\"gridcolor\":\"white\",\"linecolor\":\"white\",\"minorgridcolor\":\"white\",\"startlinecolor\":\"#2a3f5f\"},\"type\":\"carpet\"}],\"table\":[{\"cells\":{\"fill\":{\"color\":\"#EBF0F8\"},\"line\":{\"color\":\"white\"}},\"header\":{\"fill\":{\"color\":\"#C8D4E3\"},\"line\":{\"color\":\"white\"}},\"type\":\"table\"}],\"barpolar\":[{\"marker\":{\"line\":{\"color\":\"#E5ECF6\",\"width\":0.5},\"pattern\":{\"fillmode\":\"overlay\",\"size\":10,\"solidity\":0.2}},\"type\":\"barpolar\"}],\"pie\":[{\"automargin\":true,\"type\":\"pie\"}]},\"layout\":{\"autotypenumbers\":\"strict\",\"colorway\":[\"#636efa\",\"#EF553B\",\"#00cc96\",\"#ab63fa\",\"#FFA15A\",\"#19d3f3\",\"#FF6692\",\"#B6E880\",\"#FF97FF\",\"#FECB52\"],\"font\":{\"color\":\"#2a3f5f\"},\"hovermode\":\"closest\",\"hoverlabel\":{\"align\":\"left\"},\"paper_bgcolor\":\"white\",\"plot_bgcolor\":\"#E5ECF6\",\"polar\":{\"bgcolor\":\"#E5ECF6\",\"angularaxis\":{\"gridcolor\":\"white\",\"linecolor\":\"white\",\"ticks\":\"\"},\"radialaxis\":{\"gridcolor\":\"white\",\"linecolor\":\"white\",\"ticks\":\"\"}},\"ternary\":{\"bgcolor\":\"#E5ECF6\",\"aaxis\":{\"gridcolor\":\"white\",\"linecolor\":\"white\",\"ticks\":\"\"},\"baxis\":{\"gridcolor\":\"white\",\"linecolor\":\"white\",\"ticks\":\"\"},\"caxis\":{\"gridcolor\":\"white\",\"linecolor\":\"white\",\"ticks\":\"\"}},\"coloraxis\":{\"colorbar\":{\"outlinewidth\":0,\"ticks\":\"\"}},\"colorscale\":{\"sequential\":[[0.0,\"#0d0887\"],[0.1111111111111111,\"#46039f\"],[0.2222222222222222,\"#7201a8\"],[0.3333333333333333,\"#9c179e\"],[0.4444444444444444,\"#bd3786\"],[0.5555555555555556,\"#d8576b\"],[0.6666666666666666,\"#ed7953\"],[0.7777777777777778,\"#fb9f3a\"],[0.8888888888888888,\"#fdca26\"],[1.0,\"#f0f921\"]],\"sequentialminus\":[[0.0,\"#0d0887\"],[0.1111111111111111,\"#46039f\"],[0.2222222222222222,\"#7201a8\"],[0.3333333333333333,\"#9c179e\"],[0.4444444444444444,\"#bd3786\"],[0.5555555555555556,\"#d8576b\"],[0.6666666666666666,\"#ed7953\"],[0.7777777777777778,\"#fb9f3a\"],[0.8888888888888888,\"#fdca26\"],[1.0,\"#f0f921\"]],\"diverging\":[[0,\"#8e0152\"],[0.1,\"#c51b7d\"],[0.2,\"#de77ae\"],[0.3,\"#f1b6da\"],[0.4,\"#fde0ef\"],[0.5,\"#f7f7f7\"],[0.6,\"#e6f5d0\"],[0.7,\"#b8e186\"],[0.8,\"#7fbc41\"],[0.9,\"#4d9221\"],[1,\"#276419\"]]},\"xaxis\":{\"gridcolor\":\"white\",\"linecolor\":\"white\",\"ticks\":\"\",\"title\":{\"standoff\":15},\"zerolinecolor\":\"white\",\"automargin\":true,\"zerolinewidth\":2},\"yaxis\":{\"gridcolor\":\"white\",\"linecolor\":\"white\",\"ticks\":\"\",\"title\":{\"standoff\":15},\"zerolinecolor\":\"white\",\"automargin\":true,\"zerolinewidth\":2},\"scene\":{\"xaxis\":{\"backgroundcolor\":\"#E5ECF6\",\"gridcolor\":\"white\",\"linecolor\":\"white\",\"showbackground\":true,\"ticks\":\"\",\"zerolinecolor\":\"white\",\"gridwidth\":2},\"yaxis\":{\"backgroundcolor\":\"#E5ECF6\",\"gridcolor\":\"white\",\"linecolor\":\"white\",\"showbackground\":true,\"ticks\":\"\",\"zerolinecolor\":\"white\",\"gridwidth\":2},\"zaxis\":{\"backgroundcolor\":\"#E5ECF6\",\"gridcolor\":\"white\",\"linecolor\":\"white\",\"showbackground\":true,\"ticks\":\"\",\"zerolinecolor\":\"white\",\"gridwidth\":2}},\"shapedefaults\":{\"line\":{\"color\":\"#2a3f5f\"}},\"annotationdefaults\":{\"arrowcolor\":\"#2a3f5f\",\"arrowhead\":0,\"arrowwidth\":1},\"geo\":{\"bgcolor\":\"white\",\"landcolor\":\"#E5ECF6\",\"subunitcolor\":\"white\",\"showland\":true,\"showlakes\":true,\"lakecolor\":\"white\"},\"title\":{\"x\":0.05},\"mapbox\":{\"style\":\"light\"}}},\"xaxis\":{\"anchor\":\"y\",\"domain\":[0.0,1.0],\"title\":{\"text\":\"On a scale of 1-10, with 1 being \\\"Not safe at all\\\" and 10 being \\\"Very safe\\\", how safe do you feel in the Park?\"}},\"yaxis\":{\"anchor\":\"x\",\"domain\":[0.0,1.0],\"title\":{\"text\":\"On a scale of 1 to 10, with 1 being \\\"Very poorly\\\" and 10 being \\\"Very well\\\", how do you feel that the Park is maintained?\"}},\"legend\":{\"title\":{\"text\":\"What is your age?\"},\"tracegroupgap\":0},\"title\":{\"text\":\"Safety and Maintaince Ratings Across Age Groups\"}},                        {\"responsive\": true}                    ).then(function(){\n",
       "                            \n",
       "var gd = document.getElementById('463c4eec-ca3a-4391-9cf7-63234781e3bd');\n",
       "var x = new MutationObserver(function (mutations, observer) {{\n",
       "        var display = window.getComputedStyle(gd).display;\n",
       "        if (!display || display === 'none') {{\n",
       "            console.log([gd, 'removed!']);\n",
       "            Plotly.purge(gd);\n",
       "            observer.disconnect();\n",
       "        }}\n",
       "}});\n",
       "\n",
       "// Listen for the removal of the full notebook cells\n",
       "var notebookContainer = gd.closest('#notebook-container');\n",
       "if (notebookContainer) {{\n",
       "    x.observe(notebookContainer, {childList: true});\n",
       "}}\n",
       "\n",
       "// Listen for the clearing of the current output cell\n",
       "var outputEl = gd.closest('.output');\n",
       "if (outputEl) {{\n",
       "    x.observe(outputEl, {childList: true});\n",
       "}}\n",
       "\n",
       "                        })                };                });            </script>        </div>"
      ]
     },
     "metadata": {},
     "output_type": "display_data"
    }
   ],
   "source": [
    "fig2 = px.scatter(df, x = df['On a scale of 1-10, with 1 being \"Not safe at all\" and 10 being \"Very safe\", how safe do you feel in the Park?'], \n",
    "                  y = df[\"On a scale of 1 to 10, with 1 being \\\"Very poorly\\\" and 10 being \\\"Very well\\\", how do you feel that the Park is maintained?\"],\n",
    "                  color = df[\"What is your age?\"],\n",
    "#                   labels = (\n",
    "#                      'x' : \"Safety Rating\",\n",
    "#                      'y': \"Maintainance Rating\",\n",
    "#                      'color': \"Age Group\",\n",
    "#                   ),\n",
    "                  title = \"Safety and Maintaince Ratings Across Age Groups\"\n",
    "                 )\n",
    "                 \n",
    "fig2.show()\n",
    "#Interactive plot - can click on certain ages in the legend to have only those show up"
   ]
  },
  {
   "cell_type": "code",
   "execution_count": 54,
   "metadata": {},
   "outputs": [],
   "source": [
    "# Tasks - More interactive plots and ML models"
   ]
  },
  {
   "cell_type": "code",
   "execution_count": 55,
   "metadata": {},
   "outputs": [
    {
     "name": "stdout",
     "output_type": "stream",
     "text": [
      "0.28233655873172414\n"
     ]
    }
   ],
   "source": [
    "# Linear regression model to predict Maintainance Ratings from Safety Ratings\n",
    "\n",
    "X = np.array(df['On a scale of 1 to 10, with 1 being \"Very poorly\" and 10 being \"Very well\", how do you feel that the Park is maintained?']).reshape(-1, 1)\n",
    "y = np.array(df['On a scale of 1-10, with 1 being \"Not safe at all\" and 10 being \"Very safe\", how safe do you feel in the Park?']).reshape(-1, 1)\n",
    "# Separating the data into independent and dependent variables\n",
    "# Converting each dataframe into a numpy array \n",
    "# since each dataframe contains only one column\n",
    "df.dropna(inplace = True)\n",
    "  \n",
    "# Dropping any rows with Nan values\n",
    "X_train, X_test, y_train, y_test = train_test_split(X, y, test_size = 0.25)\n",
    "  \n",
    "# Splitting the data into training and testing data\n",
    "regr = LinearRegression()\n",
    "  \n",
    "regr.fit(X_train, y_train)\n",
    "print(regr.score(X_test, y_test))"
   ]
  },
  {
   "cell_type": "code",
   "execution_count": 56,
   "metadata": {},
   "outputs": [
    {
     "name": "stdout",
     "output_type": "stream",
     "text": [
      "Accuracy: 0.375\n"
     ]
    },
    {
     "name": "stderr",
     "output_type": "stream",
     "text": [
      "/Users/rohan/opt/anaconda3/lib/python3.9/site-packages/sklearn/utils/validation.py:1143: DataConversionWarning:\n",
      "\n",
      "A column-vector y was passed when a 1d array was expected. Please change the shape of y to (n_samples, ), for example using ravel().\n",
      "\n"
     ]
    }
   ],
   "source": [
    "# SVM model to predict Maintainance Ratings from Safety Ratings\n",
    "\n",
    "clf = SVC(kernel='linear') \n",
    "\n",
    "clf.fit(X_train, y_train) \n",
    "y_pred = clf.predict(X_test)\n",
    "print(\"Accuracy:\", metrics.accuracy_score(y_test, y_pred))"
   ]
  },
  {
   "cell_type": "code",
   "execution_count": 57,
   "metadata": {},
   "outputs": [],
   "source": [
    "from sklearn.cluster import KMeans\n",
    "km = KMeans(\n",
    "    n_clusters=3, init='random',\n",
    "    n_init=10, max_iter=300, \n",
    "    tol=1e-04, random_state=0\n",
    ")\n",
    "y_km = km.fit_predict(X)"
   ]
  },
  {
   "cell_type": "code",
   "execution_count": 66,
   "metadata": {},
   "outputs": [
    {
     "name": "stdout",
     "output_type": "stream",
     "text": [
      "[1 1 1 1 1 2 2 1 1 2 2 1 2 2 1 1 1 1 2 2 2 1 1 1 2 2 1 2 2 1 1 1 1 1 2 2 2\n",
      " 2 2 1 1 1 2 2 1 2 1 1 2 2 2 1 1 1 2 2 1 0 2 1 2 1 0 1 2 2 1 2 2 1 0 1 1 2\n",
      " 2 1 2 2 1 2 2 1 2 2 2 2 1 1 1 2 1 2 1 1 1 1 0 1 2 2 2 1 1 1 2 2 2 1 1 1 2\n",
      " 2 2 2 1 1 2 1 1 2 1 2 1 2 2 1 2 2 1 1 2 1 2 1 2 1 2 1 2 2 1 2 2 2 1 1 1 1\n",
      " 1 2 2 2 2 1 0 1 2 1 2 0 1 0 1 1 1 1 2 2 2 1 2 0 2 0 1 1 1 0 2 2 2 2 2 1 2\n",
      " 1 1 1 2 1 1 2 2 2 1 2 1 2 2 2 2 2 0 2 2 1 2 2 1 1 2 2 2 2 1 2 2 2 2 1 2 2\n",
      " 2 2 1 0 2 2 1 0 2 2 1 1 2 0 2 1 2 2 0 0 0 2 2 2 2 0 1 1 1 1 2 2 0 1 2 0 2\n",
      " 1 1 1 0 1 2 1 2 2 1 2 2 1 1 1 1 2 1 2 2 2 1 2 2 2 2 0 1]\n"
     ]
    }
   ],
   "source": [
    "# import seaborn as sns\n",
    "# sns.scatterplot(data = X_train, xlabel = 'maintenance', ylabel = 'safety', hue = y_km.labels_)\n",
    "print(y_km)"
   ]
  },
  {
   "cell_type": "code",
   "execution_count": null,
   "metadata": {},
   "outputs": [],
   "source": [
    "# y = np.array(df['What is your age?']);\n",
    "# y"
   ]
  },
  {
   "cell_type": "code",
   "execution_count": null,
   "metadata": {},
   "outputs": [],
   "source": [
    "# Processing the age data - Changing it from Yes/No to 1/0\n",
    "# y = np.array(df['What is your age?']);\n",
    "# for i in range(0, 287):\n",
    "#     if (y[i] == \"Yes\"):\n",
    "#         y[i] = 1\n",
    "#     else:\n",
    "#         y[i] = 0"
   ]
  },
  {
   "cell_type": "code",
   "execution_count": null,
   "metadata": {},
   "outputs": [],
   "source": [
    "# Findings\n",
    "# I tried to use several machine learning model types to predict membership and ratings but the models\n",
    "# had very low accuracy so I'm not sure if it's the best approach. Maybe just leaving it at graphs would\n",
    "# be best for visualizing the data since prediction doesn't seem to work.\n",
    "# I couldn't really figure out how to use the figma and I'm not great at design \n",
    "# so I can provide pictures of models but not so much design them. I'll take another stab at it later though"
   ]
  },
  {
   "cell_type": "code",
   "execution_count": 67,
   "metadata": {},
   "outputs": [],
   "source": [
    "# Do the about CPC and contact stuff at the bottom\n",
    "# Fork the Figma from Github and do your part"
   ]
  },
  {
   "cell_type": "code",
   "execution_count": null,
   "metadata": {},
   "outputs": [],
   "source": []
  }
 ],
 "metadata": {
  "kernelspec": {
   "display_name": "Python 3 (ipykernel)",
   "language": "python",
   "name": "python3"
  },
  "language_info": {
   "codemirror_mode": {
    "name": "ipython",
    "version": 3
   },
   "file_extension": ".py",
   "mimetype": "text/x-python",
   "name": "python",
   "nbconvert_exporter": "python",
   "pygments_lexer": "ipython3",
   "version": "3.9.12"
  },
  "vscode": {
   "interpreter": {
    "hash": "31f2aee4e71d21fbe5cf8b01ff0e069b9275f58929596ceb00d14d90e3e16cd6"
   }
  }
 },
 "nbformat": 4,
 "nbformat_minor": 2
}
